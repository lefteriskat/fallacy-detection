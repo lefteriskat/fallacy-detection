{
 "cells": [
  {
   "cell_type": "code",
   "execution_count": 13,
   "metadata": {},
   "outputs": [],
   "source": [
    "import pandas as pd\n",
    "import json\n",
    "import re"
   ]
  },
  {
   "cell_type": "markdown",
   "metadata": {},
   "source": [
    "# Results Analysis"
   ]
  },
  {
   "cell_type": "code",
   "execution_count": 42,
   "metadata": {},
   "outputs": [],
   "source": [
    "# common functions\n",
    "\n",
    "all_logic_fallacies = [\n",
    "    \"Appeal to Emotion\",\n",
    "    \"False Causality\",\n",
    "    \"Ad Populum\",\n",
    "    \"Circular Reasoning\",\n",
    "    \"Fallacy of Relevance\",\n",
    "    \"Faulty Generalization\",\n",
    "    \"Ad Hominem\",\n",
    "    \"Fallacy of Extension\",\n",
    "    \"Equivocation\",\n",
    "    \"Deductive Fallacy\",\n",
    "    \"Fallacy of Credibility\",\n",
    "    \"Intentional Fallacy\",\n",
    "    \"False Dilemma\",\n",
    "]\n",
    "\n",
    "all_coarse_grained_fallacies = [\n",
    "    \"Fallacy of Relevance\",\n",
    "    \"Fallacy of Defective Induction\",\n",
    "    \"Fallacy of Presumption\",\n",
    "    \"Fallacy of Ambiguity\",\n",
    "]\n",
    "\n",
    "def clean_predicted_coarse_grained_label(json_label):\n",
    "    # Use regular expressions to find the JSON part of the string\n",
    "    for coarse_grained_fallacy in all_coarse_grained_fallacies:\n",
    "        if coarse_grained_fallacy.lower() in json_label:\n",
    "            return coarse_grained_fallacy.lower()\n",
    "    \n",
    "    fallacy_match = re.search(r'\"detected_fallacy\"\\s*:\\s*\"([^\"]+)\"', json_label)\n",
    "\n",
    "    # Extract the matched fallacy if found\n",
    "    return fallacy_match.group(1) if fallacy_match else json_label\n",
    "\n",
    "\n",
    "def clean_predicted_fine_grained_label(json_label):\n",
    "    # Use regular expressions to find the JSON part of the string\n",
    "    for coarse_grained_fallacy in all_logic_fallacies:\n",
    "        if coarse_grained_fallacy.lower() in json_label:\n",
    "            return coarse_grained_fallacy.lower()\n",
    "    \n",
    "    fallacy_match = re.search(r'\"detected_fallacy\"\\s*:\\s*\"([^\"]+)\"', json_label)\n",
    "\n",
    "    # Extract the matched fallacy if found\n",
    "    return fallacy_match.group(1) if fallacy_match else json_label\n",
    "    "
   ]
  },
  {
   "cell_type": "markdown",
   "metadata": {},
   "source": [
    "## Coarse grained results analysis"
   ]
  },
  {
   "cell_type": "markdown",
   "metadata": {},
   "source": [
    "### Experiment with no definitions in prompt"
   ]
  },
  {
   "cell_type": "code",
   "execution_count": null,
   "metadata": {},
   "outputs": [],
   "source": [
    "dataframe = pd.read_csv(\"../reports/mistralai-Mistral-7B-Instruct-v0.3_coarse_grained_results_no_definitions.csv\")\n",
    "\n",
    "#clean predicted_label\n",
    "dataframe[\"predicted_label\"] = dataframe[\"predicted_label\"].map(clean_predicted_coarse_grained_label)"
   ]
  },
  {
   "cell_type": "code",
   "execution_count": null,
   "metadata": {},
   "outputs": [
    {
     "data": {
      "text/html": [
       "<div>\n",
       "<style scoped>\n",
       "    .dataframe tbody tr th:only-of-type {\n",
       "        vertical-align: middle;\n",
       "    }\n",
       "\n",
       "    .dataframe tbody tr th {\n",
       "        vertical-align: top;\n",
       "    }\n",
       "\n",
       "    .dataframe thead th {\n",
       "        text-align: right;\n",
       "    }\n",
       "</style>\n",
       "<table border=\"1\" class=\"dataframe\">\n",
       "  <thead>\n",
       "    <tr style=\"text-align: right;\">\n",
       "      <th></th>\n",
       "      <th>Unnamed: 0</th>\n",
       "      <th>source_article</th>\n",
       "      <th>true_label</th>\n",
       "      <th>predicted_label</th>\n",
       "    </tr>\n",
       "  </thead>\n",
       "  <tbody>\n",
       "    <tr>\n",
       "      <th>0</th>\n",
       "      <td>0</td>\n",
       "      <td>People who drive big cars probably hate the en...</td>\n",
       "      <td>fallacy of relevance</td>\n",
       "      <td>fallacy of relevance</td>\n",
       "    </tr>\n",
       "    <tr>\n",
       "      <th>1</th>\n",
       "      <td>1</td>\n",
       "      <td>White men can't jump. No, really, they can't!</td>\n",
       "      <td>fallacy of defective induction</td>\n",
       "      <td>fallacy of generalization</td>\n",
       "    </tr>\n",
       "    <tr>\n",
       "      <th>2</th>\n",
       "      <td>2</td>\n",
       "      <td>'Cotton and grain crops were lower this year t...</td>\n",
       "      <td>fallacy of defective induction</td>\n",
       "      <td>fallacy of relevance</td>\n",
       "    </tr>\n",
       "    <tr>\n",
       "      <th>3</th>\n",
       "      <td>3</td>\n",
       "      <td>\"Why are you hitting your computer!?\"\\n\"The la...</td>\n",
       "      <td>fallacy of defective induction</td>\n",
       "      <td>fallacy of defective induction</td>\n",
       "    </tr>\n",
       "    <tr>\n",
       "      <th>4</th>\n",
       "      <td>4</td>\n",
       "      <td>All students are good and all clowns are bad.</td>\n",
       "      <td>fallacy of defective induction</td>\n",
       "      <td>fallacy of generalization</td>\n",
       "    </tr>\n",
       "  </tbody>\n",
       "</table>\n",
       "</div>"
      ],
      "text/plain": [
       "   Unnamed: 0                                     source_article  \\\n",
       "0           0  People who drive big cars probably hate the en...   \n",
       "1           1      White men can't jump. No, really, they can't!   \n",
       "2           2  'Cotton and grain crops were lower this year t...   \n",
       "3           3  \"Why are you hitting your computer!?\"\\n\"The la...   \n",
       "4           4      All students are good and all clowns are bad.   \n",
       "\n",
       "                       true_label                 predicted_label  \n",
       "0            fallacy of relevance            fallacy of relevance  \n",
       "1  fallacy of defective induction       fallacy of generalization  \n",
       "2  fallacy of defective induction            fallacy of relevance  \n",
       "3  fallacy of defective induction  fallacy of defective induction  \n",
       "4  fallacy of defective induction       fallacy of generalization  "
      ]
     },
     "execution_count": 44,
     "metadata": {},
     "output_type": "execute_result"
    }
   ],
   "source": [
    "dataframe.head()"
   ]
  },
  {
   "cell_type": "code",
   "execution_count": null,
   "metadata": {},
   "outputs": [
    {
     "data": {
      "text/plain": [
       "array(['fallacy of relevance', 'fallacy of generalization',\n",
       "       'fallacy of defective induction', 'fallacy of presumption',\n",
       "       'fallacy of causal reasoning', 'ad hominem',\n",
       "       'fallacy of irrelevant conclusion', 'fallacy of ad hominem',\n",
       "       'fallacy of abusive language', 'fallacy of ambiguity',\n",
       "       'fallacy of false dilemma', 'fallacy of causal oversimplification',\n",
       "       'fallacy of irrelevant authority', 'fallacy of stereotyping',\n",
       "       'fallacy of correlation', 'fallacy of misrepresentation',\n",
       "       'fallacy of inductive reasoning',\n",
       "       'fallacy of appeal to popularity',\n",
       "       'fallacy of statistical fallacy',\n",
       "       'fallacy of hasty generalization', 'fallacy of definition',\n",
       "       'fallacy of irrelevant purpose', 'fallacy of binary dichotomy',\n",
       "       'fallacy of appeal to pity', 'fallacy of bifurcation',\n",
       "       'fallacy of straw man'], dtype=object)"
      ]
     },
     "execution_count": 45,
     "metadata": {},
     "output_type": "execute_result"
    }
   ],
   "source": [
    "dataframe[\"predicted_label\"].unique()"
   ]
  },
  {
   "cell_type": "code",
   "execution_count": null,
   "metadata": {},
   "outputs": [
    {
     "data": {
      "text/plain": [
       "np.float64(0.36)"
      ]
     },
     "execution_count": 50,
     "metadata": {},
     "output_type": "execute_result"
    }
   ],
   "source": [
    "(dataframe[\"predicted_label\"] == dataframe[\"true_label\"]).mean()"
   ]
  },
  {
   "cell_type": "code",
   "execution_count": 57,
   "metadata": {},
   "outputs": [
    {
     "data": {
      "text/plain": [
       "array(['fallacy of relevance', 'fallacy of causality',\n",
       "       'fallacy of ambiguity', 'fallacy of defective induction',\n",
       "       'ad hominem', 'fallacy of generalization',\n",
       "       'fallacy of presumption', 'fallacy of irrelevance (ad hominem)',\n",
       "       'fallacy of reasoning', 'fallacy of irrelevant conclusion'],\n",
       "      dtype=object)"
      ]
     },
     "execution_count": 57,
     "metadata": {},
     "output_type": "execute_result"
    }
   ],
   "source": [
    "dataframe[\"predicted_label\"].unique()"
   ]
  },
  {
   "cell_type": "markdown",
   "metadata": {},
   "source": [
    "### Experiment WITH definitions in prompt"
   ]
  },
  {
   "cell_type": "code",
   "execution_count": 55,
   "metadata": {},
   "outputs": [],
   "source": [
    "dataframe = pd.read_csv(\"../reports/mistralai-Mistral-7B-Instruct-v0.3_coarse_grained_results_with_definitions.csv\")\n",
    "dataframe[\"predicted_label\"] = dataframe[\"predicted_label\"].map(clean_predicted_coarse_grained_label)"
   ]
  },
  {
   "cell_type": "code",
   "execution_count": 56,
   "metadata": {},
   "outputs": [
    {
     "data": {
      "text/html": [
       "<div>\n",
       "<style scoped>\n",
       "    .dataframe tbody tr th:only-of-type {\n",
       "        vertical-align: middle;\n",
       "    }\n",
       "\n",
       "    .dataframe tbody tr th {\n",
       "        vertical-align: top;\n",
       "    }\n",
       "\n",
       "    .dataframe thead th {\n",
       "        text-align: right;\n",
       "    }\n",
       "</style>\n",
       "<table border=\"1\" class=\"dataframe\">\n",
       "  <thead>\n",
       "    <tr style=\"text-align: right;\">\n",
       "      <th></th>\n",
       "      <th>Unnamed: 0</th>\n",
       "      <th>source_article</th>\n",
       "      <th>true_label</th>\n",
       "      <th>predicted_label</th>\n",
       "    </tr>\n",
       "  </thead>\n",
       "  <tbody>\n",
       "    <tr>\n",
       "      <th>0</th>\n",
       "      <td>0</td>\n",
       "      <td>People who drive big cars probably hate the en...</td>\n",
       "      <td>fallacy of relevance</td>\n",
       "      <td>fallacy of relevance</td>\n",
       "    </tr>\n",
       "    <tr>\n",
       "      <th>1</th>\n",
       "      <td>1</td>\n",
       "      <td>White men can't jump. No, really, they can't!</td>\n",
       "      <td>fallacy of defective induction</td>\n",
       "      <td>fallacy of relevance</td>\n",
       "    </tr>\n",
       "    <tr>\n",
       "      <th>2</th>\n",
       "      <td>2</td>\n",
       "      <td>'Cotton and grain crops were lower this year t...</td>\n",
       "      <td>fallacy of defective induction</td>\n",
       "      <td>fallacy of relevance</td>\n",
       "    </tr>\n",
       "    <tr>\n",
       "      <th>3</th>\n",
       "      <td>3</td>\n",
       "      <td>\"Why are you hitting your computer!?\"\\n\"The la...</td>\n",
       "      <td>fallacy of defective induction</td>\n",
       "      <td>fallacy of causality</td>\n",
       "    </tr>\n",
       "    <tr>\n",
       "      <th>4</th>\n",
       "      <td>4</td>\n",
       "      <td>All students are good and all clowns are bad.</td>\n",
       "      <td>fallacy of defective induction</td>\n",
       "      <td>fallacy of ambiguity</td>\n",
       "    </tr>\n",
       "  </tbody>\n",
       "</table>\n",
       "</div>"
      ],
      "text/plain": [
       "   Unnamed: 0                                     source_article  \\\n",
       "0           0  People who drive big cars probably hate the en...   \n",
       "1           1      White men can't jump. No, really, they can't!   \n",
       "2           2  'Cotton and grain crops were lower this year t...   \n",
       "3           3  \"Why are you hitting your computer!?\"\\n\"The la...   \n",
       "4           4      All students are good and all clowns are bad.   \n",
       "\n",
       "                       true_label       predicted_label  \n",
       "0            fallacy of relevance  fallacy of relevance  \n",
       "1  fallacy of defective induction  fallacy of relevance  \n",
       "2  fallacy of defective induction  fallacy of relevance  \n",
       "3  fallacy of defective induction  fallacy of causality  \n",
       "4  fallacy of defective induction  fallacy of ambiguity  "
      ]
     },
     "execution_count": 56,
     "metadata": {},
     "output_type": "execute_result"
    }
   ],
   "source": [
    "dataframe.head()"
   ]
  },
  {
   "cell_type": "markdown",
   "metadata": {},
   "source": [
    "## Fine grained results analysis"
   ]
  },
  {
   "cell_type": "code",
   "execution_count": null,
   "metadata": {},
   "outputs": [],
   "source": []
  }
 ],
 "metadata": {
  "kernelspec": {
   "display_name": ".myenv",
   "language": "python",
   "name": "python3"
  },
  "language_info": {
   "codemirror_mode": {
    "name": "ipython",
    "version": 3
   },
   "file_extension": ".py",
   "mimetype": "text/x-python",
   "name": "python",
   "nbconvert_exporter": "python",
   "pygments_lexer": "ipython3",
   "version": "3.11.9"
  }
 },
 "nbformat": 4,
 "nbformat_minor": 2
}
