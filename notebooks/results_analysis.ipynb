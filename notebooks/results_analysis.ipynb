{
 "cells": [
  {
   "cell_type": "code",
   "execution_count": 11,
   "metadata": {},
   "outputs": [],
   "source": [
    "import pandas as pd\n",
    "import json\n",
    "import re\n",
    "import plotly.express as px"
   ]
  },
  {
   "cell_type": "markdown",
   "metadata": {},
   "source": [
    "# Results Analysis"
   ]
  },
  {
   "cell_type": "code",
   "execution_count": 12,
   "metadata": {},
   "outputs": [],
   "source": [
    "# common functions\n",
    "\n",
    "all_logic_fallacies = [\n",
    "    \"Appeal to Emotion\",\n",
    "    \"False Causality\",\n",
    "    \"Ad Populum\",\n",
    "    \"Circular Reasoning\",\n",
    "    \"Fallacy of Relevance\",\n",
    "    \"Faulty Generalization\",\n",
    "    \"Ad Hominem\",\n",
    "    \"Fallacy of Extension\",\n",
    "    \"Equivocation\",\n",
    "    \"Deductive Fallacy\",\n",
    "    \"Fallacy of Credibility\",\n",
    "    \"Intentional Fallacy\",\n",
    "    \"False Dilemma\",\n",
    "]\n",
    "\n",
    "all_coarse_grained_fallacies = [\n",
    "    \"Fallacy of Relevance\",\n",
    "    \"Fallacy of Defective Induction\",\n",
    "    \"Fallacy of Presumption\",\n",
    "    \"Fallacy of Ambiguity\",\n",
    "]\n",
    "\n",
    "def clean_predicted_coarse_grained_label(json_label):\n",
    "    # Use regular expressions to find the JSON part of the string\n",
    "    for coarse_grained_fallacy in all_coarse_grained_fallacies:\n",
    "        if coarse_grained_fallacy.lower() in json_label:\n",
    "            return coarse_grained_fallacy.lower()\n",
    "    \n",
    "    fallacy_match = re.search(r'\"detected_fallacy\"\\s*:\\s*\"([^\"]+)\"', json_label)\n",
    "\n",
    "    # Extract the matched fallacy if found\n",
    "    return fallacy_match.group(1) if fallacy_match else json_label\n",
    "\n",
    "\n",
    "def clean_predicted_fine_grained_label(json_label):\n",
    "    # Use regular expressions to find the JSON part of the string\n",
    "    for coarse_grained_fallacy in all_logic_fallacies:\n",
    "        if coarse_grained_fallacy.lower() in json_label:\n",
    "            return coarse_grained_fallacy.lower()\n",
    "    \n",
    "    fallacy_match = re.search(r'\"detected_fallacy\"\\s*:\\s*\"([^\"]+)\"', json_label)\n",
    "\n",
    "    # Extract the matched fallacy if found\n",
    "    return fallacy_match.group(1) if fallacy_match else json_label\n",
    "    "
   ]
  },
  {
   "cell_type": "markdown",
   "metadata": {},
   "source": [
    "## Coarse grained results analysis"
   ]
  },
  {
   "cell_type": "markdown",
   "metadata": {},
   "source": [
    "### Experiment with no definitions in prompt"
   ]
  },
  {
   "cell_type": "code",
   "execution_count": 13,
   "metadata": {},
   "outputs": [],
   "source": [
    "dataframe = pd.read_csv(\"../reports/mistralai-Mistral-7B-Instruct-v0.3_coarse_grained_results_no_definitions.csv\")\n",
    "\n",
    "#clean predicted_label\n",
    "dataframe[\"predicted_label\"] = dataframe[\"predicted_label\"].map(clean_predicted_coarse_grained_label)"
   ]
  },
  {
   "cell_type": "code",
   "execution_count": 14,
   "metadata": {},
   "outputs": [
    {
     "data": {
      "text/html": [
       "<div>\n",
       "<style scoped>\n",
       "    .dataframe tbody tr th:only-of-type {\n",
       "        vertical-align: middle;\n",
       "    }\n",
       "\n",
       "    .dataframe tbody tr th {\n",
       "        vertical-align: top;\n",
       "    }\n",
       "\n",
       "    .dataframe thead th {\n",
       "        text-align: right;\n",
       "    }\n",
       "</style>\n",
       "<table border=\"1\" class=\"dataframe\">\n",
       "  <thead>\n",
       "    <tr style=\"text-align: right;\">\n",
       "      <th></th>\n",
       "      <th>Unnamed: 0</th>\n",
       "      <th>source_article</th>\n",
       "      <th>true_label</th>\n",
       "      <th>predicted_label</th>\n",
       "    </tr>\n",
       "  </thead>\n",
       "  <tbody>\n",
       "    <tr>\n",
       "      <th>0</th>\n",
       "      <td>0</td>\n",
       "      <td>People who drive big cars probably hate the en...</td>\n",
       "      <td>fallacy of relevance</td>\n",
       "      <td>fallacy of relevance</td>\n",
       "    </tr>\n",
       "    <tr>\n",
       "      <th>1</th>\n",
       "      <td>1</td>\n",
       "      <td>White men can't jump. No, really, they can't!</td>\n",
       "      <td>fallacy of defective induction</td>\n",
       "      <td>fallacy of generalization</td>\n",
       "    </tr>\n",
       "    <tr>\n",
       "      <th>2</th>\n",
       "      <td>2</td>\n",
       "      <td>'Cotton and grain crops were lower this year t...</td>\n",
       "      <td>fallacy of defective induction</td>\n",
       "      <td>fallacy of relevance</td>\n",
       "    </tr>\n",
       "    <tr>\n",
       "      <th>3</th>\n",
       "      <td>3</td>\n",
       "      <td>\"Why are you hitting your computer!?\"\\n\"The la...</td>\n",
       "      <td>fallacy of defective induction</td>\n",
       "      <td>fallacy of defective induction</td>\n",
       "    </tr>\n",
       "    <tr>\n",
       "      <th>4</th>\n",
       "      <td>4</td>\n",
       "      <td>All students are good and all clowns are bad.</td>\n",
       "      <td>fallacy of defective induction</td>\n",
       "      <td>fallacy of generalization</td>\n",
       "    </tr>\n",
       "  </tbody>\n",
       "</table>\n",
       "</div>"
      ],
      "text/plain": [
       "   Unnamed: 0                                     source_article  \\\n",
       "0           0  People who drive big cars probably hate the en...   \n",
       "1           1      White men can't jump. No, really, they can't!   \n",
       "2           2  'Cotton and grain crops were lower this year t...   \n",
       "3           3  \"Why are you hitting your computer!?\"\\n\"The la...   \n",
       "4           4      All students are good and all clowns are bad.   \n",
       "\n",
       "                       true_label                 predicted_label  \n",
       "0            fallacy of relevance            fallacy of relevance  \n",
       "1  fallacy of defective induction       fallacy of generalization  \n",
       "2  fallacy of defective induction            fallacy of relevance  \n",
       "3  fallacy of defective induction  fallacy of defective induction  \n",
       "4  fallacy of defective induction       fallacy of generalization  "
      ]
     },
     "execution_count": 14,
     "metadata": {},
     "output_type": "execute_result"
    }
   ],
   "source": [
    "dataframe.head()"
   ]
  },
  {
   "cell_type": "code",
   "execution_count": 15,
   "metadata": {},
   "outputs": [
    {
     "data": {
      "text/plain": [
       "array(['fallacy of relevance', 'fallacy of generalization',\n",
       "       'fallacy of defective induction', 'fallacy of presumption',\n",
       "       'fallacy of causal reasoning', 'ad hominem',\n",
       "       'fallacy of irrelevant conclusion', 'fallacy of ad hominem',\n",
       "       'fallacy of abusive language', 'fallacy of ambiguity',\n",
       "       'fallacy of false dilemma', 'fallacy of causal oversimplification',\n",
       "       'fallacy of irrelevant authority', 'fallacy of stereotyping',\n",
       "       'fallacy of correlation', 'fallacy of misrepresentation',\n",
       "       'fallacy of inductive reasoning',\n",
       "       'fallacy of appeal to popularity',\n",
       "       'fallacy of statistical fallacy',\n",
       "       'fallacy of hasty generalization', 'fallacy of definition',\n",
       "       'fallacy of irrelevant purpose', 'fallacy of binary dichotomy',\n",
       "       'fallacy of appeal to pity', 'fallacy of bifurcation',\n",
       "       'fallacy of straw man'], dtype=object)"
      ]
     },
     "execution_count": 15,
     "metadata": {},
     "output_type": "execute_result"
    }
   ],
   "source": [
    "dataframe[\"predicted_label\"].unique()"
   ]
  },
  {
   "cell_type": "code",
   "execution_count": 18,
   "metadata": {},
   "outputs": [
    {
     "data": {
      "application/vnd.plotly.v1+json": {
       "config": {
        "plotlyServerURL": "https://plot.ly"
       },
       "data": [
        {
         "alignmentgroup": "True",
         "bingroup": "x",
         "hovertemplate": "predicted_label=%{x}<br>count=%{y}<extra></extra>",
         "legendgroup": "",
         "marker": {
          "color": "#636efa",
          "pattern": {
           "shape": ""
          }
         },
         "name": "",
         "offsetgroup": "",
         "orientation": "v",
         "showlegend": false,
         "texttemplate": "%{value}",
         "type": "histogram",
         "x": [
          "fallacy of relevance",
          "fallacy of generalization",
          "fallacy of relevance",
          "fallacy of defective induction",
          "fallacy of generalization",
          "fallacy of presumption",
          "fallacy of relevance",
          "fallacy of relevance",
          "fallacy of relevance",
          "fallacy of presumption",
          "fallacy of causal reasoning",
          "fallacy of defective induction",
          "ad hominem",
          "fallacy of generalization",
          "fallacy of presumption",
          "fallacy of presumption",
          "fallacy of presumption",
          "fallacy of presumption",
          "fallacy of relevance",
          "fallacy of presumption",
          "fallacy of relevance",
          "fallacy of relevance",
          "fallacy of relevance",
          "fallacy of relevance",
          "fallacy of presumption",
          "fallacy of irrelevant conclusion",
          "fallacy of ad hominem",
          "fallacy of abusive language",
          "fallacy of relevance",
          "fallacy of presumption",
          "fallacy of defective induction",
          "fallacy of presumption",
          "fallacy of relevance",
          "fallacy of presumption",
          "fallacy of relevance",
          "fallacy of relevance",
          "fallacy of presumption",
          "fallacy of presumption",
          "fallacy of defective induction",
          "fallacy of relevance",
          "fallacy of presumption",
          "fallacy of relevance",
          "fallacy of relevance",
          "fallacy of relevance",
          "fallacy of relevance",
          "fallacy of relevance",
          "fallacy of relevance",
          "fallacy of relevance",
          "fallacy of presumption",
          "fallacy of defective induction",
          "fallacy of relevance",
          "fallacy of presumption",
          "fallacy of presumption",
          "fallacy of relevance",
          "fallacy of relevance",
          "fallacy of presumption",
          "fallacy of presumption",
          "fallacy of presumption",
          "fallacy of defective induction",
          "fallacy of relevance",
          "fallacy of relevance",
          "fallacy of defective induction",
          "fallacy of relevance",
          "fallacy of presumption",
          "fallacy of presumption",
          "ad hominem",
          "fallacy of relevance",
          "fallacy of presumption",
          "fallacy of presumption",
          "fallacy of presumption",
          "fallacy of ambiguity",
          "fallacy of presumption",
          "fallacy of relevance",
          "fallacy of relevance",
          "fallacy of presumption",
          "fallacy of presumption",
          "fallacy of relevance",
          "fallacy of relevance",
          "fallacy of false dilemma",
          "fallacy of presumption",
          "fallacy of defective induction",
          "fallacy of relevance",
          "fallacy of presumption",
          "fallacy of relevance",
          "fallacy of relevance",
          "fallacy of ambiguity",
          "fallacy of defective induction",
          "fallacy of relevance",
          "fallacy of relevance",
          "fallacy of relevance",
          "fallacy of ambiguity",
          "fallacy of presumption",
          "fallacy of defective induction",
          "fallacy of presumption",
          "fallacy of relevance",
          "fallacy of presumption",
          "fallacy of defective induction",
          "fallacy of irrelevant conclusion",
          "fallacy of relevance",
          "fallacy of relevance",
          "fallacy of presumption",
          "fallacy of presumption",
          "fallacy of irrelevant conclusion",
          "fallacy of defective induction",
          "fallacy of relevance",
          "fallacy of defective induction",
          "fallacy of relevance",
          "fallacy of relevance",
          "fallacy of relevance",
          "fallacy of relevance",
          "fallacy of ambiguity",
          "fallacy of relevance",
          "fallacy of generalization",
          "fallacy of generalization",
          "fallacy of presumption",
          "fallacy of relevance",
          "fallacy of ambiguity",
          "fallacy of relevance",
          "fallacy of causal oversimplification",
          "ad hominem",
          "fallacy of relevance",
          "fallacy of presumption",
          "fallacy of presumption",
          "fallacy of relevance",
          "fallacy of relevance",
          "fallacy of relevance",
          "fallacy of relevance",
          "fallacy of presumption",
          "fallacy of defective induction",
          "fallacy of relevance",
          "fallacy of irrelevant authority",
          "fallacy of stereotyping",
          "fallacy of presumption",
          "fallacy of presumption",
          "fallacy of presumption",
          "fallacy of relevance",
          "fallacy of generalization",
          "fallacy of presumption",
          "fallacy of generalization",
          "fallacy of relevance",
          "fallacy of generalization",
          "fallacy of relevance",
          "fallacy of relevance",
          "fallacy of presumption",
          "fallacy of generalization",
          "fallacy of presumption",
          "fallacy of generalization",
          "fallacy of relevance",
          "fallacy of presumption",
          "fallacy of presumption",
          "fallacy of relevance",
          "fallacy of relevance",
          "fallacy of presumption",
          "fallacy of correlation",
          "fallacy of relevance",
          "fallacy of presumption",
          "fallacy of presumption",
          "fallacy of relevance",
          "fallacy of presumption",
          "fallacy of relevance",
          "fallacy of relevance",
          "fallacy of relevance",
          "fallacy of presumption",
          "fallacy of relevance",
          "fallacy of relevance",
          "fallacy of relevance",
          "fallacy of presumption",
          "fallacy of presumption",
          "fallacy of misrepresentation",
          "fallacy of inductive reasoning",
          "fallacy of presumption",
          "fallacy of presumption",
          "fallacy of ambiguity",
          "fallacy of presumption",
          "fallacy of causal oversimplification",
          "fallacy of relevance",
          "fallacy of relevance",
          "fallacy of relevance",
          "fallacy of presumption",
          "fallacy of relevance",
          "fallacy of relevance",
          "fallacy of relevance",
          "fallacy of relevance",
          "fallacy of relevance",
          "fallacy of irrelevant conclusion",
          "fallacy of presumption",
          "fallacy of irrelevant conclusion",
          "fallacy of relevance",
          "fallacy of presumption",
          "fallacy of presumption",
          "fallacy of presumption",
          "fallacy of relevance",
          "fallacy of presumption",
          "fallacy of presumption",
          "fallacy of presumption",
          "fallacy of relevance",
          "fallacy of presumption",
          "fallacy of presumption",
          "fallacy of presumption",
          "fallacy of relevance",
          "fallacy of defective induction",
          "fallacy of presumption",
          "fallacy of presumption",
          "fallacy of appeal to popularity",
          "fallacy of relevance",
          "fallacy of relevance",
          "fallacy of causal reasoning",
          "fallacy of presumption",
          "fallacy of presumption",
          "fallacy of presumption",
          "fallacy of presumption",
          "fallacy of causal oversimplification",
          "fallacy of relevance",
          "fallacy of ambiguity",
          "fallacy of presumption",
          "fallacy of relevance",
          "fallacy of relevance",
          "fallacy of relevance",
          "fallacy of presumption",
          "fallacy of false dilemma",
          "fallacy of defective induction",
          "fallacy of presumption",
          "fallacy of relevance",
          "fallacy of presumption",
          "fallacy of presumption",
          "fallacy of presumption",
          "fallacy of ambiguity",
          "fallacy of relevance",
          "fallacy of defective induction",
          "fallacy of relevance",
          "fallacy of statistical fallacy",
          "fallacy of presumption",
          "fallacy of hasty generalization",
          "fallacy of relevance",
          "fallacy of presumption",
          "fallacy of relevance",
          "fallacy of ambiguity",
          "fallacy of irrelevant conclusion",
          "fallacy of presumption",
          "fallacy of relevance",
          "fallacy of presumption",
          "fallacy of presumption",
          "fallacy of ambiguity",
          "fallacy of relevance",
          "fallacy of defective induction",
          "fallacy of definition",
          "fallacy of relevance",
          "fallacy of presumption",
          "fallacy of irrelevant purpose",
          "fallacy of irrelevant conclusion",
          "fallacy of presumption",
          "fallacy of presumption",
          "fallacy of relevance",
          "fallacy of binary dichotomy",
          "fallacy of relevance",
          "fallacy of defective induction",
          "fallacy of presumption",
          "fallacy of presumption",
          "fallacy of relevance",
          "fallacy of relevance",
          "fallacy of presumption",
          "fallacy of relevance",
          "fallacy of presumption",
          "fallacy of presumption",
          "fallacy of relevance",
          "fallacy of relevance",
          "fallacy of relevance",
          "fallacy of defective induction",
          "fallacy of presumption",
          "fallacy of appeal to pity",
          "fallacy of presumption",
          "fallacy of defective induction",
          "fallacy of bifurcation",
          "fallacy of presumption",
          "fallacy of relevance",
          "fallacy of relevance",
          "fallacy of defective induction",
          "fallacy of presumption",
          "fallacy of defective induction",
          "fallacy of relevance",
          "fallacy of straw man",
          "fallacy of presumption",
          "fallacy of relevance",
          "fallacy of presumption",
          "fallacy of relevance",
          "fallacy of relevance",
          "fallacy of relevance",
          "fallacy of presumption",
          "fallacy of presumption",
          "ad hominem",
          "fallacy of appeal to popularity",
          "fallacy of presumption",
          "fallacy of presumption",
          "fallacy of relevance",
          "fallacy of presumption",
          "fallacy of presumption",
          "fallacy of presumption",
          "fallacy of relevance",
          "fallacy of ambiguity",
          "fallacy of presumption"
         ],
         "xaxis": "x",
         "yaxis": "y"
        }
       ],
       "layout": {
        "barmode": "relative",
        "legend": {
         "tracegroupgap": 0
        },
        "margin": {
         "t": 60
        },
        "template": {
         "data": {
          "bar": [
           {
            "error_x": {
             "color": "#2a3f5f"
            },
            "error_y": {
             "color": "#2a3f5f"
            },
            "marker": {
             "line": {
              "color": "#E5ECF6",
              "width": 0.5
             },
             "pattern": {
              "fillmode": "overlay",
              "size": 10,
              "solidity": 0.2
             }
            },
            "type": "bar"
           }
          ],
          "barpolar": [
           {
            "marker": {
             "line": {
              "color": "#E5ECF6",
              "width": 0.5
             },
             "pattern": {
              "fillmode": "overlay",
              "size": 10,
              "solidity": 0.2
             }
            },
            "type": "barpolar"
           }
          ],
          "carpet": [
           {
            "aaxis": {
             "endlinecolor": "#2a3f5f",
             "gridcolor": "white",
             "linecolor": "white",
             "minorgridcolor": "white",
             "startlinecolor": "#2a3f5f"
            },
            "baxis": {
             "endlinecolor": "#2a3f5f",
             "gridcolor": "white",
             "linecolor": "white",
             "minorgridcolor": "white",
             "startlinecolor": "#2a3f5f"
            },
            "type": "carpet"
           }
          ],
          "choropleth": [
           {
            "colorbar": {
             "outlinewidth": 0,
             "ticks": ""
            },
            "type": "choropleth"
           }
          ],
          "contour": [
           {
            "colorbar": {
             "outlinewidth": 0,
             "ticks": ""
            },
            "colorscale": [
             [
              0,
              "#0d0887"
             ],
             [
              0.1111111111111111,
              "#46039f"
             ],
             [
              0.2222222222222222,
              "#7201a8"
             ],
             [
              0.3333333333333333,
              "#9c179e"
             ],
             [
              0.4444444444444444,
              "#bd3786"
             ],
             [
              0.5555555555555556,
              "#d8576b"
             ],
             [
              0.6666666666666666,
              "#ed7953"
             ],
             [
              0.7777777777777778,
              "#fb9f3a"
             ],
             [
              0.8888888888888888,
              "#fdca26"
             ],
             [
              1,
              "#f0f921"
             ]
            ],
            "type": "contour"
           }
          ],
          "contourcarpet": [
           {
            "colorbar": {
             "outlinewidth": 0,
             "ticks": ""
            },
            "type": "contourcarpet"
           }
          ],
          "heatmap": [
           {
            "colorbar": {
             "outlinewidth": 0,
             "ticks": ""
            },
            "colorscale": [
             [
              0,
              "#0d0887"
             ],
             [
              0.1111111111111111,
              "#46039f"
             ],
             [
              0.2222222222222222,
              "#7201a8"
             ],
             [
              0.3333333333333333,
              "#9c179e"
             ],
             [
              0.4444444444444444,
              "#bd3786"
             ],
             [
              0.5555555555555556,
              "#d8576b"
             ],
             [
              0.6666666666666666,
              "#ed7953"
             ],
             [
              0.7777777777777778,
              "#fb9f3a"
             ],
             [
              0.8888888888888888,
              "#fdca26"
             ],
             [
              1,
              "#f0f921"
             ]
            ],
            "type": "heatmap"
           }
          ],
          "heatmapgl": [
           {
            "colorbar": {
             "outlinewidth": 0,
             "ticks": ""
            },
            "colorscale": [
             [
              0,
              "#0d0887"
             ],
             [
              0.1111111111111111,
              "#46039f"
             ],
             [
              0.2222222222222222,
              "#7201a8"
             ],
             [
              0.3333333333333333,
              "#9c179e"
             ],
             [
              0.4444444444444444,
              "#bd3786"
             ],
             [
              0.5555555555555556,
              "#d8576b"
             ],
             [
              0.6666666666666666,
              "#ed7953"
             ],
             [
              0.7777777777777778,
              "#fb9f3a"
             ],
             [
              0.8888888888888888,
              "#fdca26"
             ],
             [
              1,
              "#f0f921"
             ]
            ],
            "type": "heatmapgl"
           }
          ],
          "histogram": [
           {
            "marker": {
             "pattern": {
              "fillmode": "overlay",
              "size": 10,
              "solidity": 0.2
             }
            },
            "type": "histogram"
           }
          ],
          "histogram2d": [
           {
            "colorbar": {
             "outlinewidth": 0,
             "ticks": ""
            },
            "colorscale": [
             [
              0,
              "#0d0887"
             ],
             [
              0.1111111111111111,
              "#46039f"
             ],
             [
              0.2222222222222222,
              "#7201a8"
             ],
             [
              0.3333333333333333,
              "#9c179e"
             ],
             [
              0.4444444444444444,
              "#bd3786"
             ],
             [
              0.5555555555555556,
              "#d8576b"
             ],
             [
              0.6666666666666666,
              "#ed7953"
             ],
             [
              0.7777777777777778,
              "#fb9f3a"
             ],
             [
              0.8888888888888888,
              "#fdca26"
             ],
             [
              1,
              "#f0f921"
             ]
            ],
            "type": "histogram2d"
           }
          ],
          "histogram2dcontour": [
           {
            "colorbar": {
             "outlinewidth": 0,
             "ticks": ""
            },
            "colorscale": [
             [
              0,
              "#0d0887"
             ],
             [
              0.1111111111111111,
              "#46039f"
             ],
             [
              0.2222222222222222,
              "#7201a8"
             ],
             [
              0.3333333333333333,
              "#9c179e"
             ],
             [
              0.4444444444444444,
              "#bd3786"
             ],
             [
              0.5555555555555556,
              "#d8576b"
             ],
             [
              0.6666666666666666,
              "#ed7953"
             ],
             [
              0.7777777777777778,
              "#fb9f3a"
             ],
             [
              0.8888888888888888,
              "#fdca26"
             ],
             [
              1,
              "#f0f921"
             ]
            ],
            "type": "histogram2dcontour"
           }
          ],
          "mesh3d": [
           {
            "colorbar": {
             "outlinewidth": 0,
             "ticks": ""
            },
            "type": "mesh3d"
           }
          ],
          "parcoords": [
           {
            "line": {
             "colorbar": {
              "outlinewidth": 0,
              "ticks": ""
             }
            },
            "type": "parcoords"
           }
          ],
          "pie": [
           {
            "automargin": true,
            "type": "pie"
           }
          ],
          "scatter": [
           {
            "fillpattern": {
             "fillmode": "overlay",
             "size": 10,
             "solidity": 0.2
            },
            "type": "scatter"
           }
          ],
          "scatter3d": [
           {
            "line": {
             "colorbar": {
              "outlinewidth": 0,
              "ticks": ""
             }
            },
            "marker": {
             "colorbar": {
              "outlinewidth": 0,
              "ticks": ""
             }
            },
            "type": "scatter3d"
           }
          ],
          "scattercarpet": [
           {
            "marker": {
             "colorbar": {
              "outlinewidth": 0,
              "ticks": ""
             }
            },
            "type": "scattercarpet"
           }
          ],
          "scattergeo": [
           {
            "marker": {
             "colorbar": {
              "outlinewidth": 0,
              "ticks": ""
             }
            },
            "type": "scattergeo"
           }
          ],
          "scattergl": [
           {
            "marker": {
             "colorbar": {
              "outlinewidth": 0,
              "ticks": ""
             }
            },
            "type": "scattergl"
           }
          ],
          "scattermapbox": [
           {
            "marker": {
             "colorbar": {
              "outlinewidth": 0,
              "ticks": ""
             }
            },
            "type": "scattermapbox"
           }
          ],
          "scatterpolar": [
           {
            "marker": {
             "colorbar": {
              "outlinewidth": 0,
              "ticks": ""
             }
            },
            "type": "scatterpolar"
           }
          ],
          "scatterpolargl": [
           {
            "marker": {
             "colorbar": {
              "outlinewidth": 0,
              "ticks": ""
             }
            },
            "type": "scatterpolargl"
           }
          ],
          "scatterternary": [
           {
            "marker": {
             "colorbar": {
              "outlinewidth": 0,
              "ticks": ""
             }
            },
            "type": "scatterternary"
           }
          ],
          "surface": [
           {
            "colorbar": {
             "outlinewidth": 0,
             "ticks": ""
            },
            "colorscale": [
             [
              0,
              "#0d0887"
             ],
             [
              0.1111111111111111,
              "#46039f"
             ],
             [
              0.2222222222222222,
              "#7201a8"
             ],
             [
              0.3333333333333333,
              "#9c179e"
             ],
             [
              0.4444444444444444,
              "#bd3786"
             ],
             [
              0.5555555555555556,
              "#d8576b"
             ],
             [
              0.6666666666666666,
              "#ed7953"
             ],
             [
              0.7777777777777778,
              "#fb9f3a"
             ],
             [
              0.8888888888888888,
              "#fdca26"
             ],
             [
              1,
              "#f0f921"
             ]
            ],
            "type": "surface"
           }
          ],
          "table": [
           {
            "cells": {
             "fill": {
              "color": "#EBF0F8"
             },
             "line": {
              "color": "white"
             }
            },
            "header": {
             "fill": {
              "color": "#C8D4E3"
             },
             "line": {
              "color": "white"
             }
            },
            "type": "table"
           }
          ]
         },
         "layout": {
          "annotationdefaults": {
           "arrowcolor": "#2a3f5f",
           "arrowhead": 0,
           "arrowwidth": 1
          },
          "autotypenumbers": "strict",
          "coloraxis": {
           "colorbar": {
            "outlinewidth": 0,
            "ticks": ""
           }
          },
          "colorscale": {
           "diverging": [
            [
             0,
             "#8e0152"
            ],
            [
             0.1,
             "#c51b7d"
            ],
            [
             0.2,
             "#de77ae"
            ],
            [
             0.3,
             "#f1b6da"
            ],
            [
             0.4,
             "#fde0ef"
            ],
            [
             0.5,
             "#f7f7f7"
            ],
            [
             0.6,
             "#e6f5d0"
            ],
            [
             0.7,
             "#b8e186"
            ],
            [
             0.8,
             "#7fbc41"
            ],
            [
             0.9,
             "#4d9221"
            ],
            [
             1,
             "#276419"
            ]
           ],
           "sequential": [
            [
             0,
             "#0d0887"
            ],
            [
             0.1111111111111111,
             "#46039f"
            ],
            [
             0.2222222222222222,
             "#7201a8"
            ],
            [
             0.3333333333333333,
             "#9c179e"
            ],
            [
             0.4444444444444444,
             "#bd3786"
            ],
            [
             0.5555555555555556,
             "#d8576b"
            ],
            [
             0.6666666666666666,
             "#ed7953"
            ],
            [
             0.7777777777777778,
             "#fb9f3a"
            ],
            [
             0.8888888888888888,
             "#fdca26"
            ],
            [
             1,
             "#f0f921"
            ]
           ],
           "sequentialminus": [
            [
             0,
             "#0d0887"
            ],
            [
             0.1111111111111111,
             "#46039f"
            ],
            [
             0.2222222222222222,
             "#7201a8"
            ],
            [
             0.3333333333333333,
             "#9c179e"
            ],
            [
             0.4444444444444444,
             "#bd3786"
            ],
            [
             0.5555555555555556,
             "#d8576b"
            ],
            [
             0.6666666666666666,
             "#ed7953"
            ],
            [
             0.7777777777777778,
             "#fb9f3a"
            ],
            [
             0.8888888888888888,
             "#fdca26"
            ],
            [
             1,
             "#f0f921"
            ]
           ]
          },
          "colorway": [
           "#636efa",
           "#EF553B",
           "#00cc96",
           "#ab63fa",
           "#FFA15A",
           "#19d3f3",
           "#FF6692",
           "#B6E880",
           "#FF97FF",
           "#FECB52"
          ],
          "font": {
           "color": "#2a3f5f"
          },
          "geo": {
           "bgcolor": "white",
           "lakecolor": "white",
           "landcolor": "#E5ECF6",
           "showlakes": true,
           "showland": true,
           "subunitcolor": "white"
          },
          "hoverlabel": {
           "align": "left"
          },
          "hovermode": "closest",
          "mapbox": {
           "style": "light"
          },
          "paper_bgcolor": "white",
          "plot_bgcolor": "#E5ECF6",
          "polar": {
           "angularaxis": {
            "gridcolor": "white",
            "linecolor": "white",
            "ticks": ""
           },
           "bgcolor": "#E5ECF6",
           "radialaxis": {
            "gridcolor": "white",
            "linecolor": "white",
            "ticks": ""
           }
          },
          "scene": {
           "xaxis": {
            "backgroundcolor": "#E5ECF6",
            "gridcolor": "white",
            "gridwidth": 2,
            "linecolor": "white",
            "showbackground": true,
            "ticks": "",
            "zerolinecolor": "white"
           },
           "yaxis": {
            "backgroundcolor": "#E5ECF6",
            "gridcolor": "white",
            "gridwidth": 2,
            "linecolor": "white",
            "showbackground": true,
            "ticks": "",
            "zerolinecolor": "white"
           },
           "zaxis": {
            "backgroundcolor": "#E5ECF6",
            "gridcolor": "white",
            "gridwidth": 2,
            "linecolor": "white",
            "showbackground": true,
            "ticks": "",
            "zerolinecolor": "white"
           }
          },
          "shapedefaults": {
           "line": {
            "color": "#2a3f5f"
           }
          },
          "ternary": {
           "aaxis": {
            "gridcolor": "white",
            "linecolor": "white",
            "ticks": ""
           },
           "baxis": {
            "gridcolor": "white",
            "linecolor": "white",
            "ticks": ""
           },
           "bgcolor": "#E5ECF6",
           "caxis": {
            "gridcolor": "white",
            "linecolor": "white",
            "ticks": ""
           }
          },
          "title": {
           "x": 0.05
          },
          "xaxis": {
           "automargin": true,
           "gridcolor": "white",
           "linecolor": "white",
           "ticks": "",
           "title": {
            "standoff": 15
           },
           "zerolinecolor": "white",
           "zerolinewidth": 2
          },
          "yaxis": {
           "automargin": true,
           "gridcolor": "white",
           "linecolor": "white",
           "ticks": "",
           "title": {
            "standoff": 15
           },
           "zerolinecolor": "white",
           "zerolinewidth": 2
          }
         }
        },
        "xaxis": {
         "anchor": "y",
         "domain": [
          0,
          1
         ],
         "title": {
          "text": "predicted_label"
         }
        },
        "yaxis": {
         "anchor": "x",
         "domain": [
          0,
          1
         ],
         "title": {
          "text": "count"
         }
        }
       }
      },
      "text/html": [
       "<div>                            <div id=\"098ffc57-7d08-4749-a31a-d8c2b8eada31\" class=\"plotly-graph-div\" style=\"height:525px; width:100%;\"></div>            <script type=\"text/javascript\">                require([\"plotly\"], function(Plotly) {                    window.PLOTLYENV=window.PLOTLYENV || {};                                    if (document.getElementById(\"098ffc57-7d08-4749-a31a-d8c2b8eada31\")) {                    Plotly.newPlot(                        \"098ffc57-7d08-4749-a31a-d8c2b8eada31\",                        [{\"alignmentgroup\":\"True\",\"bingroup\":\"x\",\"hovertemplate\":\"predicted_label=%{x}\\u003cbr\\u003ecount=%{y}\\u003cextra\\u003e\\u003c\\u002fextra\\u003e\",\"legendgroup\":\"\",\"marker\":{\"color\":\"#636efa\",\"pattern\":{\"shape\":\"\"}},\"name\":\"\",\"offsetgroup\":\"\",\"orientation\":\"v\",\"showlegend\":false,\"texttemplate\":\"%{value}\",\"x\":[\"fallacy of relevance\",\"fallacy of generalization\",\"fallacy of relevance\",\"fallacy of defective induction\",\"fallacy of generalization\",\"fallacy of presumption\",\"fallacy of relevance\",\"fallacy of relevance\",\"fallacy of relevance\",\"fallacy of presumption\",\"fallacy of causal reasoning\",\"fallacy of defective induction\",\"ad hominem\",\"fallacy of generalization\",\"fallacy of presumption\",\"fallacy of presumption\",\"fallacy of presumption\",\"fallacy of presumption\",\"fallacy of relevance\",\"fallacy of presumption\",\"fallacy of relevance\",\"fallacy of relevance\",\"fallacy of relevance\",\"fallacy of relevance\",\"fallacy of presumption\",\"fallacy of irrelevant conclusion\",\"fallacy of ad hominem\",\"fallacy of abusive language\",\"fallacy of relevance\",\"fallacy of presumption\",\"fallacy of defective induction\",\"fallacy of presumption\",\"fallacy of relevance\",\"fallacy of presumption\",\"fallacy of relevance\",\"fallacy of relevance\",\"fallacy of presumption\",\"fallacy of presumption\",\"fallacy of defective induction\",\"fallacy of relevance\",\"fallacy of presumption\",\"fallacy of relevance\",\"fallacy of relevance\",\"fallacy of relevance\",\"fallacy of relevance\",\"fallacy of relevance\",\"fallacy of relevance\",\"fallacy of relevance\",\"fallacy of presumption\",\"fallacy of defective induction\",\"fallacy of relevance\",\"fallacy of presumption\",\"fallacy of presumption\",\"fallacy of relevance\",\"fallacy of relevance\",\"fallacy of presumption\",\"fallacy of presumption\",\"fallacy of presumption\",\"fallacy of defective induction\",\"fallacy of relevance\",\"fallacy of relevance\",\"fallacy of defective induction\",\"fallacy of relevance\",\"fallacy of presumption\",\"fallacy of presumption\",\"ad hominem\",\"fallacy of relevance\",\"fallacy of presumption\",\"fallacy of presumption\",\"fallacy of presumption\",\"fallacy of ambiguity\",\"fallacy of presumption\",\"fallacy of relevance\",\"fallacy of relevance\",\"fallacy of presumption\",\"fallacy of presumption\",\"fallacy of relevance\",\"fallacy of relevance\",\"fallacy of false dilemma\",\"fallacy of presumption\",\"fallacy of defective induction\",\"fallacy of relevance\",\"fallacy of presumption\",\"fallacy of relevance\",\"fallacy of relevance\",\"fallacy of ambiguity\",\"fallacy of defective induction\",\"fallacy of relevance\",\"fallacy of relevance\",\"fallacy of relevance\",\"fallacy of ambiguity\",\"fallacy of presumption\",\"fallacy of defective induction\",\"fallacy of presumption\",\"fallacy of relevance\",\"fallacy of presumption\",\"fallacy of defective induction\",\"fallacy of irrelevant conclusion\",\"fallacy of relevance\",\"fallacy of relevance\",\"fallacy of presumption\",\"fallacy of presumption\",\"fallacy of irrelevant conclusion\",\"fallacy of defective induction\",\"fallacy of relevance\",\"fallacy of defective induction\",\"fallacy of relevance\",\"fallacy of relevance\",\"fallacy of relevance\",\"fallacy of relevance\",\"fallacy of ambiguity\",\"fallacy of relevance\",\"fallacy of generalization\",\"fallacy of generalization\",\"fallacy of presumption\",\"fallacy of relevance\",\"fallacy of ambiguity\",\"fallacy of relevance\",\"fallacy of causal oversimplification\",\"ad hominem\",\"fallacy of relevance\",\"fallacy of presumption\",\"fallacy of presumption\",\"fallacy of relevance\",\"fallacy of relevance\",\"fallacy of relevance\",\"fallacy of relevance\",\"fallacy of presumption\",\"fallacy of defective induction\",\"fallacy of relevance\",\"fallacy of irrelevant authority\",\"fallacy of stereotyping\",\"fallacy of presumption\",\"fallacy of presumption\",\"fallacy of presumption\",\"fallacy of relevance\",\"fallacy of generalization\",\"fallacy of presumption\",\"fallacy of generalization\",\"fallacy of relevance\",\"fallacy of generalization\",\"fallacy of relevance\",\"fallacy of relevance\",\"fallacy of presumption\",\"fallacy of generalization\",\"fallacy of presumption\",\"fallacy of generalization\",\"fallacy of relevance\",\"fallacy of presumption\",\"fallacy of presumption\",\"fallacy of relevance\",\"fallacy of relevance\",\"fallacy of presumption\",\"fallacy of correlation\",\"fallacy of relevance\",\"fallacy of presumption\",\"fallacy of presumption\",\"fallacy of relevance\",\"fallacy of presumption\",\"fallacy of relevance\",\"fallacy of relevance\",\"fallacy of relevance\",\"fallacy of presumption\",\"fallacy of relevance\",\"fallacy of relevance\",\"fallacy of relevance\",\"fallacy of presumption\",\"fallacy of presumption\",\"fallacy of misrepresentation\",\"fallacy of inductive reasoning\",\"fallacy of presumption\",\"fallacy of presumption\",\"fallacy of ambiguity\",\"fallacy of presumption\",\"fallacy of causal oversimplification\",\"fallacy of relevance\",\"fallacy of relevance\",\"fallacy of relevance\",\"fallacy of presumption\",\"fallacy of relevance\",\"fallacy of relevance\",\"fallacy of relevance\",\"fallacy of relevance\",\"fallacy of relevance\",\"fallacy of irrelevant conclusion\",\"fallacy of presumption\",\"fallacy of irrelevant conclusion\",\"fallacy of relevance\",\"fallacy of presumption\",\"fallacy of presumption\",\"fallacy of presumption\",\"fallacy of relevance\",\"fallacy of presumption\",\"fallacy of presumption\",\"fallacy of presumption\",\"fallacy of relevance\",\"fallacy of presumption\",\"fallacy of presumption\",\"fallacy of presumption\",\"fallacy of relevance\",\"fallacy of defective induction\",\"fallacy of presumption\",\"fallacy of presumption\",\"fallacy of appeal to popularity\",\"fallacy of relevance\",\"fallacy of relevance\",\"fallacy of causal reasoning\",\"fallacy of presumption\",\"fallacy of presumption\",\"fallacy of presumption\",\"fallacy of presumption\",\"fallacy of causal oversimplification\",\"fallacy of relevance\",\"fallacy of ambiguity\",\"fallacy of presumption\",\"fallacy of relevance\",\"fallacy of relevance\",\"fallacy of relevance\",\"fallacy of presumption\",\"fallacy of false dilemma\",\"fallacy of defective induction\",\"fallacy of presumption\",\"fallacy of relevance\",\"fallacy of presumption\",\"fallacy of presumption\",\"fallacy of presumption\",\"fallacy of ambiguity\",\"fallacy of relevance\",\"fallacy of defective induction\",\"fallacy of relevance\",\"fallacy of statistical fallacy\",\"fallacy of presumption\",\"fallacy of hasty generalization\",\"fallacy of relevance\",\"fallacy of presumption\",\"fallacy of relevance\",\"fallacy of ambiguity\",\"fallacy of irrelevant conclusion\",\"fallacy of presumption\",\"fallacy of relevance\",\"fallacy of presumption\",\"fallacy of presumption\",\"fallacy of ambiguity\",\"fallacy of relevance\",\"fallacy of defective induction\",\"fallacy of definition\",\"fallacy of relevance\",\"fallacy of presumption\",\"fallacy of irrelevant purpose\",\"fallacy of irrelevant conclusion\",\"fallacy of presumption\",\"fallacy of presumption\",\"fallacy of relevance\",\"fallacy of binary dichotomy\",\"fallacy of relevance\",\"fallacy of defective induction\",\"fallacy of presumption\",\"fallacy of presumption\",\"fallacy of relevance\",\"fallacy of relevance\",\"fallacy of presumption\",\"fallacy of relevance\",\"fallacy of presumption\",\"fallacy of presumption\",\"fallacy of relevance\",\"fallacy of relevance\",\"fallacy of relevance\",\"fallacy of defective induction\",\"fallacy of presumption\",\"fallacy of appeal to pity\",\"fallacy of presumption\",\"fallacy of defective induction\",\"fallacy of bifurcation\",\"fallacy of presumption\",\"fallacy of relevance\",\"fallacy of relevance\",\"fallacy of defective induction\",\"fallacy of presumption\",\"fallacy of defective induction\",\"fallacy of relevance\",\"fallacy of straw man\",\"fallacy of presumption\",\"fallacy of relevance\",\"fallacy of presumption\",\"fallacy of relevance\",\"fallacy of relevance\",\"fallacy of relevance\",\"fallacy of presumption\",\"fallacy of presumption\",\"ad hominem\",\"fallacy of appeal to popularity\",\"fallacy of presumption\",\"fallacy of presumption\",\"fallacy of relevance\",\"fallacy of presumption\",\"fallacy of presumption\",\"fallacy of presumption\",\"fallacy of relevance\",\"fallacy of ambiguity\",\"fallacy of presumption\"],\"xaxis\":\"x\",\"yaxis\":\"y\",\"type\":\"histogram\"}],                        {\"template\":{\"data\":{\"histogram2dcontour\":[{\"type\":\"histogram2dcontour\",\"colorbar\":{\"outlinewidth\":0,\"ticks\":\"\"},\"colorscale\":[[0.0,\"#0d0887\"],[0.1111111111111111,\"#46039f\"],[0.2222222222222222,\"#7201a8\"],[0.3333333333333333,\"#9c179e\"],[0.4444444444444444,\"#bd3786\"],[0.5555555555555556,\"#d8576b\"],[0.6666666666666666,\"#ed7953\"],[0.7777777777777778,\"#fb9f3a\"],[0.8888888888888888,\"#fdca26\"],[1.0,\"#f0f921\"]]}],\"choropleth\":[{\"type\":\"choropleth\",\"colorbar\":{\"outlinewidth\":0,\"ticks\":\"\"}}],\"histogram2d\":[{\"type\":\"histogram2d\",\"colorbar\":{\"outlinewidth\":0,\"ticks\":\"\"},\"colorscale\":[[0.0,\"#0d0887\"],[0.1111111111111111,\"#46039f\"],[0.2222222222222222,\"#7201a8\"],[0.3333333333333333,\"#9c179e\"],[0.4444444444444444,\"#bd3786\"],[0.5555555555555556,\"#d8576b\"],[0.6666666666666666,\"#ed7953\"],[0.7777777777777778,\"#fb9f3a\"],[0.8888888888888888,\"#fdca26\"],[1.0,\"#f0f921\"]]}],\"heatmap\":[{\"type\":\"heatmap\",\"colorbar\":{\"outlinewidth\":0,\"ticks\":\"\"},\"colorscale\":[[0.0,\"#0d0887\"],[0.1111111111111111,\"#46039f\"],[0.2222222222222222,\"#7201a8\"],[0.3333333333333333,\"#9c179e\"],[0.4444444444444444,\"#bd3786\"],[0.5555555555555556,\"#d8576b\"],[0.6666666666666666,\"#ed7953\"],[0.7777777777777778,\"#fb9f3a\"],[0.8888888888888888,\"#fdca26\"],[1.0,\"#f0f921\"]]}],\"heatmapgl\":[{\"type\":\"heatmapgl\",\"colorbar\":{\"outlinewidth\":0,\"ticks\":\"\"},\"colorscale\":[[0.0,\"#0d0887\"],[0.1111111111111111,\"#46039f\"],[0.2222222222222222,\"#7201a8\"],[0.3333333333333333,\"#9c179e\"],[0.4444444444444444,\"#bd3786\"],[0.5555555555555556,\"#d8576b\"],[0.6666666666666666,\"#ed7953\"],[0.7777777777777778,\"#fb9f3a\"],[0.8888888888888888,\"#fdca26\"],[1.0,\"#f0f921\"]]}],\"contourcarpet\":[{\"type\":\"contourcarpet\",\"colorbar\":{\"outlinewidth\":0,\"ticks\":\"\"}}],\"contour\":[{\"type\":\"contour\",\"colorbar\":{\"outlinewidth\":0,\"ticks\":\"\"},\"colorscale\":[[0.0,\"#0d0887\"],[0.1111111111111111,\"#46039f\"],[0.2222222222222222,\"#7201a8\"],[0.3333333333333333,\"#9c179e\"],[0.4444444444444444,\"#bd3786\"],[0.5555555555555556,\"#d8576b\"],[0.6666666666666666,\"#ed7953\"],[0.7777777777777778,\"#fb9f3a\"],[0.8888888888888888,\"#fdca26\"],[1.0,\"#f0f921\"]]}],\"surface\":[{\"type\":\"surface\",\"colorbar\":{\"outlinewidth\":0,\"ticks\":\"\"},\"colorscale\":[[0.0,\"#0d0887\"],[0.1111111111111111,\"#46039f\"],[0.2222222222222222,\"#7201a8\"],[0.3333333333333333,\"#9c179e\"],[0.4444444444444444,\"#bd3786\"],[0.5555555555555556,\"#d8576b\"],[0.6666666666666666,\"#ed7953\"],[0.7777777777777778,\"#fb9f3a\"],[0.8888888888888888,\"#fdca26\"],[1.0,\"#f0f921\"]]}],\"mesh3d\":[{\"type\":\"mesh3d\",\"colorbar\":{\"outlinewidth\":0,\"ticks\":\"\"}}],\"scatter\":[{\"fillpattern\":{\"fillmode\":\"overlay\",\"size\":10,\"solidity\":0.2},\"type\":\"scatter\"}],\"parcoords\":[{\"type\":\"parcoords\",\"line\":{\"colorbar\":{\"outlinewidth\":0,\"ticks\":\"\"}}}],\"scatterpolargl\":[{\"type\":\"scatterpolargl\",\"marker\":{\"colorbar\":{\"outlinewidth\":0,\"ticks\":\"\"}}}],\"bar\":[{\"error_x\":{\"color\":\"#2a3f5f\"},\"error_y\":{\"color\":\"#2a3f5f\"},\"marker\":{\"line\":{\"color\":\"#E5ECF6\",\"width\":0.5},\"pattern\":{\"fillmode\":\"overlay\",\"size\":10,\"solidity\":0.2}},\"type\":\"bar\"}],\"scattergeo\":[{\"type\":\"scattergeo\",\"marker\":{\"colorbar\":{\"outlinewidth\":0,\"ticks\":\"\"}}}],\"scatterpolar\":[{\"type\":\"scatterpolar\",\"marker\":{\"colorbar\":{\"outlinewidth\":0,\"ticks\":\"\"}}}],\"histogram\":[{\"marker\":{\"pattern\":{\"fillmode\":\"overlay\",\"size\":10,\"solidity\":0.2}},\"type\":\"histogram\"}],\"scattergl\":[{\"type\":\"scattergl\",\"marker\":{\"colorbar\":{\"outlinewidth\":0,\"ticks\":\"\"}}}],\"scatter3d\":[{\"type\":\"scatter3d\",\"line\":{\"colorbar\":{\"outlinewidth\":0,\"ticks\":\"\"}},\"marker\":{\"colorbar\":{\"outlinewidth\":0,\"ticks\":\"\"}}}],\"scattermapbox\":[{\"type\":\"scattermapbox\",\"marker\":{\"colorbar\":{\"outlinewidth\":0,\"ticks\":\"\"}}}],\"scatterternary\":[{\"type\":\"scatterternary\",\"marker\":{\"colorbar\":{\"outlinewidth\":0,\"ticks\":\"\"}}}],\"scattercarpet\":[{\"type\":\"scattercarpet\",\"marker\":{\"colorbar\":{\"outlinewidth\":0,\"ticks\":\"\"}}}],\"carpet\":[{\"aaxis\":{\"endlinecolor\":\"#2a3f5f\",\"gridcolor\":\"white\",\"linecolor\":\"white\",\"minorgridcolor\":\"white\",\"startlinecolor\":\"#2a3f5f\"},\"baxis\":{\"endlinecolor\":\"#2a3f5f\",\"gridcolor\":\"white\",\"linecolor\":\"white\",\"minorgridcolor\":\"white\",\"startlinecolor\":\"#2a3f5f\"},\"type\":\"carpet\"}],\"table\":[{\"cells\":{\"fill\":{\"color\":\"#EBF0F8\"},\"line\":{\"color\":\"white\"}},\"header\":{\"fill\":{\"color\":\"#C8D4E3\"},\"line\":{\"color\":\"white\"}},\"type\":\"table\"}],\"barpolar\":[{\"marker\":{\"line\":{\"color\":\"#E5ECF6\",\"width\":0.5},\"pattern\":{\"fillmode\":\"overlay\",\"size\":10,\"solidity\":0.2}},\"type\":\"barpolar\"}],\"pie\":[{\"automargin\":true,\"type\":\"pie\"}]},\"layout\":{\"autotypenumbers\":\"strict\",\"colorway\":[\"#636efa\",\"#EF553B\",\"#00cc96\",\"#ab63fa\",\"#FFA15A\",\"#19d3f3\",\"#FF6692\",\"#B6E880\",\"#FF97FF\",\"#FECB52\"],\"font\":{\"color\":\"#2a3f5f\"},\"hovermode\":\"closest\",\"hoverlabel\":{\"align\":\"left\"},\"paper_bgcolor\":\"white\",\"plot_bgcolor\":\"#E5ECF6\",\"polar\":{\"bgcolor\":\"#E5ECF6\",\"angularaxis\":{\"gridcolor\":\"white\",\"linecolor\":\"white\",\"ticks\":\"\"},\"radialaxis\":{\"gridcolor\":\"white\",\"linecolor\":\"white\",\"ticks\":\"\"}},\"ternary\":{\"bgcolor\":\"#E5ECF6\",\"aaxis\":{\"gridcolor\":\"white\",\"linecolor\":\"white\",\"ticks\":\"\"},\"baxis\":{\"gridcolor\":\"white\",\"linecolor\":\"white\",\"ticks\":\"\"},\"caxis\":{\"gridcolor\":\"white\",\"linecolor\":\"white\",\"ticks\":\"\"}},\"coloraxis\":{\"colorbar\":{\"outlinewidth\":0,\"ticks\":\"\"}},\"colorscale\":{\"sequential\":[[0.0,\"#0d0887\"],[0.1111111111111111,\"#46039f\"],[0.2222222222222222,\"#7201a8\"],[0.3333333333333333,\"#9c179e\"],[0.4444444444444444,\"#bd3786\"],[0.5555555555555556,\"#d8576b\"],[0.6666666666666666,\"#ed7953\"],[0.7777777777777778,\"#fb9f3a\"],[0.8888888888888888,\"#fdca26\"],[1.0,\"#f0f921\"]],\"sequentialminus\":[[0.0,\"#0d0887\"],[0.1111111111111111,\"#46039f\"],[0.2222222222222222,\"#7201a8\"],[0.3333333333333333,\"#9c179e\"],[0.4444444444444444,\"#bd3786\"],[0.5555555555555556,\"#d8576b\"],[0.6666666666666666,\"#ed7953\"],[0.7777777777777778,\"#fb9f3a\"],[0.8888888888888888,\"#fdca26\"],[1.0,\"#f0f921\"]],\"diverging\":[[0,\"#8e0152\"],[0.1,\"#c51b7d\"],[0.2,\"#de77ae\"],[0.3,\"#f1b6da\"],[0.4,\"#fde0ef\"],[0.5,\"#f7f7f7\"],[0.6,\"#e6f5d0\"],[0.7,\"#b8e186\"],[0.8,\"#7fbc41\"],[0.9,\"#4d9221\"],[1,\"#276419\"]]},\"xaxis\":{\"gridcolor\":\"white\",\"linecolor\":\"white\",\"ticks\":\"\",\"title\":{\"standoff\":15},\"zerolinecolor\":\"white\",\"automargin\":true,\"zerolinewidth\":2},\"yaxis\":{\"gridcolor\":\"white\",\"linecolor\":\"white\",\"ticks\":\"\",\"title\":{\"standoff\":15},\"zerolinecolor\":\"white\",\"automargin\":true,\"zerolinewidth\":2},\"scene\":{\"xaxis\":{\"backgroundcolor\":\"#E5ECF6\",\"gridcolor\":\"white\",\"linecolor\":\"white\",\"showbackground\":true,\"ticks\":\"\",\"zerolinecolor\":\"white\",\"gridwidth\":2},\"yaxis\":{\"backgroundcolor\":\"#E5ECF6\",\"gridcolor\":\"white\",\"linecolor\":\"white\",\"showbackground\":true,\"ticks\":\"\",\"zerolinecolor\":\"white\",\"gridwidth\":2},\"zaxis\":{\"backgroundcolor\":\"#E5ECF6\",\"gridcolor\":\"white\",\"linecolor\":\"white\",\"showbackground\":true,\"ticks\":\"\",\"zerolinecolor\":\"white\",\"gridwidth\":2}},\"shapedefaults\":{\"line\":{\"color\":\"#2a3f5f\"}},\"annotationdefaults\":{\"arrowcolor\":\"#2a3f5f\",\"arrowhead\":0,\"arrowwidth\":1},\"geo\":{\"bgcolor\":\"white\",\"landcolor\":\"#E5ECF6\",\"subunitcolor\":\"white\",\"showland\":true,\"showlakes\":true,\"lakecolor\":\"white\"},\"title\":{\"x\":0.05},\"mapbox\":{\"style\":\"light\"}}},\"xaxis\":{\"anchor\":\"y\",\"domain\":[0.0,1.0],\"title\":{\"text\":\"predicted_label\"}},\"yaxis\":{\"anchor\":\"x\",\"domain\":[0.0,1.0],\"title\":{\"text\":\"count\"}},\"legend\":{\"tracegroupgap\":0},\"margin\":{\"t\":60},\"barmode\":\"relative\"},                        {\"responsive\": true}                    ).then(function(){\n",
       "                            \n",
       "var gd = document.getElementById('098ffc57-7d08-4749-a31a-d8c2b8eada31');\n",
       "var x = new MutationObserver(function (mutations, observer) {{\n",
       "        var display = window.getComputedStyle(gd).display;\n",
       "        if (!display || display === 'none') {{\n",
       "            console.log([gd, 'removed!']);\n",
       "            Plotly.purge(gd);\n",
       "            observer.disconnect();\n",
       "        }}\n",
       "}});\n",
       "\n",
       "// Listen for the removal of the full notebook cells\n",
       "var notebookContainer = gd.closest('#notebook-container');\n",
       "if (notebookContainer) {{\n",
       "    x.observe(notebookContainer, {childList: true});\n",
       "}}\n",
       "\n",
       "// Listen for the clearing of the current output cell\n",
       "var outputEl = gd.closest('.output');\n",
       "if (outputEl) {{\n",
       "    x.observe(outputEl, {childList: true});\n",
       "}}\n",
       "\n",
       "                        })                };                });            </script>        </div>"
      ]
     },
     "metadata": {},
     "output_type": "display_data"
    }
   ],
   "source": [
    "px.histogram(dataframe, x=\"predicted_label\", text_auto=True)"
   ]
  },
  {
   "cell_type": "code",
   "execution_count": 19,
   "metadata": {},
   "outputs": [
    {
     "data": {
      "application/vnd.plotly.v1+json": {
       "config": {
        "plotlyServerURL": "https://plot.ly"
       },
       "data": [
        {
         "alignmentgroup": "True",
         "bingroup": "x",
         "hovertemplate": "true_label=%{x}<br>count=%{y}<extra></extra>",
         "legendgroup": "",
         "marker": {
          "color": "#636efa",
          "pattern": {
           "shape": ""
          }
         },
         "name": "",
         "offsetgroup": "",
         "orientation": "v",
         "showlegend": false,
         "texttemplate": "%{value}",
         "type": "histogram",
         "x": [
          "fallacy of relevance",
          "fallacy of defective induction",
          "fallacy of defective induction",
          "fallacy of defective induction",
          "fallacy of defective induction",
          "fallacy of relevance",
          "fallacy of relevance",
          "fallacy of defective induction",
          "fallacy of defective induction",
          "fallacy of presumption",
          "fallacy of defective induction",
          "fallacy of defective induction",
          "fallacy of relevance",
          "fallacy of relevance",
          "fallacy of defective induction",
          "fallacy of relevance",
          "fallacy of relevance",
          "fallacy of defective induction",
          "fallacy of relevance",
          "fallacy of relevance",
          "fallacy of presumption",
          "fallacy of relevance",
          "fallacy of relevance",
          "fallacy of presumption",
          "fallacy of relevance",
          "fallacy of relevance",
          "fallacy of relevance",
          "fallacy of relevance",
          "fallacy of defective induction",
          "fallacy of relevance",
          "fallacy of defective induction",
          "fallacy of presumption",
          "fallacy of presumption",
          "fallacy of defective induction",
          "fallacy of relevance",
          "fallacy of relevance",
          "fallacy of defective induction",
          "fallacy of relevance",
          "fallacy of defective induction",
          "fallacy of relevance",
          "fallacy of defective induction",
          "fallacy of relevance",
          "fallacy of relevance",
          "fallacy of relevance",
          "fallacy of relevance",
          "fallacy of relevance",
          "fallacy of relevance",
          "fallacy of relevance",
          "fallacy of defective induction",
          "fallacy of defective induction",
          "fallacy of presumption",
          "fallacy of defective induction",
          "fallacy of relevance",
          "fallacy of ambiguity",
          "fallacy of relevance",
          "fallacy of presumption",
          "fallacy of relevance",
          "fallacy of defective induction",
          "fallacy of defective induction",
          "fallacy of defective induction",
          "fallacy of defective induction",
          "fallacy of defective induction",
          "fallacy of relevance",
          "fallacy of defective induction",
          "fallacy of relevance",
          "fallacy of relevance",
          "fallacy of relevance",
          "fallacy of relevance",
          "fallacy of relevance",
          "fallacy of defective induction",
          "fallacy of defective induction",
          "fallacy of defective induction",
          "fallacy of relevance",
          "fallacy of relevance",
          "fallacy of relevance",
          "fallacy of relevance",
          "fallacy of relevance",
          "fallacy of defective induction",
          "fallacy of defective induction",
          "fallacy of relevance",
          "fallacy of defective induction",
          "fallacy of defective induction",
          "fallacy of relevance",
          "fallacy of relevance",
          "fallacy of relevance",
          "fallacy of defective induction",
          "fallacy of defective induction",
          "fallacy of relevance",
          "fallacy of relevance",
          "fallacy of relevance",
          "fallacy of defective induction",
          "fallacy of defective induction",
          "fallacy of defective induction",
          "fallacy of defective induction",
          "fallacy of relevance",
          "fallacy of defective induction",
          "fallacy of relevance",
          "fallacy of relevance",
          "fallacy of relevance",
          "fallacy of defective induction",
          "fallacy of relevance",
          "fallacy of relevance",
          "fallacy of relevance",
          "fallacy of defective induction",
          "fallacy of defective induction",
          "fallacy of defective induction",
          "fallacy of relevance",
          "fallacy of relevance",
          "fallacy of defective induction",
          "fallacy of presumption",
          "fallacy of relevance",
          "fallacy of defective induction",
          "fallacy of defective induction",
          "fallacy of defective induction",
          "fallacy of defective induction",
          "fallacy of defective induction",
          "fallacy of relevance",
          "fallacy of relevance",
          "fallacy of defective induction",
          "fallacy of relevance",
          "fallacy of defective induction",
          "fallacy of presumption",
          "fallacy of defective induction",
          "fallacy of defective induction",
          "fallacy of relevance",
          "fallacy of relevance",
          "fallacy of relevance",
          "fallacy of ambiguity",
          "fallacy of defective induction",
          "fallacy of defective induction",
          "fallacy of relevance",
          "fallacy of defective induction",
          "fallacy of relevance",
          "fallacy of defective induction",
          "fallacy of defective induction",
          "fallacy of defective induction",
          "fallacy of defective induction",
          "fallacy of relevance",
          "fallacy of defective induction",
          "fallacy of relevance",
          "fallacy of defective induction",
          "fallacy of relevance",
          "fallacy of relevance",
          "fallacy of defective induction",
          "fallacy of defective induction",
          "fallacy of relevance",
          "fallacy of defective induction",
          "fallacy of relevance",
          "fallacy of relevance",
          "fallacy of relevance",
          "fallacy of defective induction",
          "fallacy of relevance",
          "fallacy of defective induction",
          "fallacy of defective induction",
          "fallacy of relevance",
          "fallacy of relevance",
          "fallacy of defective induction",
          "fallacy of relevance",
          "fallacy of relevance",
          "fallacy of relevance",
          "fallacy of relevance",
          "fallacy of relevance",
          "fallacy of relevance",
          "fallacy of defective induction",
          "fallacy of defective induction",
          "fallacy of relevance",
          "fallacy of relevance",
          "fallacy of defective induction",
          "fallacy of relevance",
          "fallacy of defective induction",
          "fallacy of relevance",
          "fallacy of relevance",
          "fallacy of defective induction",
          "fallacy of defective induction",
          "fallacy of defective induction",
          "fallacy of relevance",
          "fallacy of defective induction",
          "fallacy of relevance",
          "fallacy of relevance",
          "fallacy of defective induction",
          "fallacy of relevance",
          "fallacy of relevance",
          "fallacy of presumption",
          "fallacy of relevance",
          "fallacy of defective induction",
          "fallacy of relevance",
          "fallacy of relevance",
          "fallacy of relevance",
          "fallacy of defective induction",
          "fallacy of defective induction",
          "fallacy of presumption",
          "fallacy of relevance",
          "fallacy of relevance",
          "fallacy of relevance",
          "fallacy of ambiguity",
          "fallacy of relevance",
          "fallacy of defective induction",
          "fallacy of defective induction",
          "fallacy of defective induction",
          "fallacy of defective induction",
          "fallacy of relevance",
          "fallacy of defective induction",
          "fallacy of relevance",
          "fallacy of relevance",
          "fallacy of relevance",
          "fallacy of relevance",
          "fallacy of defective induction",
          "fallacy of relevance",
          "fallacy of relevance",
          "fallacy of defective induction",
          "fallacy of relevance",
          "fallacy of defective induction",
          "fallacy of relevance",
          "fallacy of relevance",
          "fallacy of defective induction",
          "fallacy of relevance",
          "fallacy of relevance",
          "fallacy of relevance",
          "fallacy of relevance",
          "fallacy of defective induction",
          "fallacy of defective induction",
          "fallacy of defective induction",
          "fallacy of relevance",
          "fallacy of defective induction",
          "fallacy of relevance",
          "fallacy of relevance",
          "fallacy of ambiguity",
          "fallacy of relevance",
          "fallacy of defective induction",
          "fallacy of relevance",
          "fallacy of relevance",
          "fallacy of relevance",
          "fallacy of defective induction",
          "fallacy of defective induction",
          "fallacy of presumption",
          "fallacy of relevance",
          "fallacy of relevance",
          "fallacy of relevance",
          "fallacy of presumption",
          "fallacy of relevance",
          "fallacy of relevance",
          "fallacy of defective induction",
          "fallacy of relevance",
          "fallacy of relevance",
          "fallacy of defective induction",
          "fallacy of presumption",
          "fallacy of defective induction",
          "fallacy of relevance",
          "fallacy of defective induction",
          "fallacy of relevance",
          "fallacy of presumption",
          "fallacy of relevance",
          "fallacy of relevance",
          "fallacy of defective induction",
          "fallacy of relevance",
          "fallacy of defective induction",
          "fallacy of defective induction",
          "fallacy of defective induction",
          "fallacy of relevance",
          "fallacy of defective induction",
          "fallacy of defective induction",
          "fallacy of relevance",
          "fallacy of presumption",
          "fallacy of relevance",
          "fallacy of relevance",
          "fallacy of presumption",
          "fallacy of defective induction",
          "fallacy of defective induction",
          "fallacy of relevance",
          "fallacy of relevance",
          "fallacy of defective induction",
          "fallacy of ambiguity",
          "fallacy of defective induction",
          "fallacy of defective induction",
          "fallacy of relevance",
          "fallacy of relevance",
          "fallacy of defective induction",
          "fallacy of defective induction",
          "fallacy of relevance",
          "fallacy of defective induction",
          "fallacy of relevance",
          "fallacy of defective induction",
          "fallacy of defective induction",
          "fallacy of defective induction",
          "fallacy of relevance",
          "fallacy of relevance",
          "fallacy of relevance",
          "fallacy of defective induction",
          "fallacy of defective induction",
          "fallacy of relevance",
          "fallacy of relevance",
          "fallacy of defective induction",
          "fallacy of relevance",
          "fallacy of relevance",
          "fallacy of presumption",
          "fallacy of relevance",
          "fallacy of relevance",
          "fallacy of relevance",
          "fallacy of defective induction",
          "fallacy of presumption"
         ],
         "xaxis": "x",
         "yaxis": "y"
        }
       ],
       "layout": {
        "barmode": "relative",
        "legend": {
         "tracegroupgap": 0
        },
        "margin": {
         "t": 60
        },
        "template": {
         "data": {
          "bar": [
           {
            "error_x": {
             "color": "#2a3f5f"
            },
            "error_y": {
             "color": "#2a3f5f"
            },
            "marker": {
             "line": {
              "color": "#E5ECF6",
              "width": 0.5
             },
             "pattern": {
              "fillmode": "overlay",
              "size": 10,
              "solidity": 0.2
             }
            },
            "type": "bar"
           }
          ],
          "barpolar": [
           {
            "marker": {
             "line": {
              "color": "#E5ECF6",
              "width": 0.5
             },
             "pattern": {
              "fillmode": "overlay",
              "size": 10,
              "solidity": 0.2
             }
            },
            "type": "barpolar"
           }
          ],
          "carpet": [
           {
            "aaxis": {
             "endlinecolor": "#2a3f5f",
             "gridcolor": "white",
             "linecolor": "white",
             "minorgridcolor": "white",
             "startlinecolor": "#2a3f5f"
            },
            "baxis": {
             "endlinecolor": "#2a3f5f",
             "gridcolor": "white",
             "linecolor": "white",
             "minorgridcolor": "white",
             "startlinecolor": "#2a3f5f"
            },
            "type": "carpet"
           }
          ],
          "choropleth": [
           {
            "colorbar": {
             "outlinewidth": 0,
             "ticks": ""
            },
            "type": "choropleth"
           }
          ],
          "contour": [
           {
            "colorbar": {
             "outlinewidth": 0,
             "ticks": ""
            },
            "colorscale": [
             [
              0,
              "#0d0887"
             ],
             [
              0.1111111111111111,
              "#46039f"
             ],
             [
              0.2222222222222222,
              "#7201a8"
             ],
             [
              0.3333333333333333,
              "#9c179e"
             ],
             [
              0.4444444444444444,
              "#bd3786"
             ],
             [
              0.5555555555555556,
              "#d8576b"
             ],
             [
              0.6666666666666666,
              "#ed7953"
             ],
             [
              0.7777777777777778,
              "#fb9f3a"
             ],
             [
              0.8888888888888888,
              "#fdca26"
             ],
             [
              1,
              "#f0f921"
             ]
            ],
            "type": "contour"
           }
          ],
          "contourcarpet": [
           {
            "colorbar": {
             "outlinewidth": 0,
             "ticks": ""
            },
            "type": "contourcarpet"
           }
          ],
          "heatmap": [
           {
            "colorbar": {
             "outlinewidth": 0,
             "ticks": ""
            },
            "colorscale": [
             [
              0,
              "#0d0887"
             ],
             [
              0.1111111111111111,
              "#46039f"
             ],
             [
              0.2222222222222222,
              "#7201a8"
             ],
             [
              0.3333333333333333,
              "#9c179e"
             ],
             [
              0.4444444444444444,
              "#bd3786"
             ],
             [
              0.5555555555555556,
              "#d8576b"
             ],
             [
              0.6666666666666666,
              "#ed7953"
             ],
             [
              0.7777777777777778,
              "#fb9f3a"
             ],
             [
              0.8888888888888888,
              "#fdca26"
             ],
             [
              1,
              "#f0f921"
             ]
            ],
            "type": "heatmap"
           }
          ],
          "heatmapgl": [
           {
            "colorbar": {
             "outlinewidth": 0,
             "ticks": ""
            },
            "colorscale": [
             [
              0,
              "#0d0887"
             ],
             [
              0.1111111111111111,
              "#46039f"
             ],
             [
              0.2222222222222222,
              "#7201a8"
             ],
             [
              0.3333333333333333,
              "#9c179e"
             ],
             [
              0.4444444444444444,
              "#bd3786"
             ],
             [
              0.5555555555555556,
              "#d8576b"
             ],
             [
              0.6666666666666666,
              "#ed7953"
             ],
             [
              0.7777777777777778,
              "#fb9f3a"
             ],
             [
              0.8888888888888888,
              "#fdca26"
             ],
             [
              1,
              "#f0f921"
             ]
            ],
            "type": "heatmapgl"
           }
          ],
          "histogram": [
           {
            "marker": {
             "pattern": {
              "fillmode": "overlay",
              "size": 10,
              "solidity": 0.2
             }
            },
            "type": "histogram"
           }
          ],
          "histogram2d": [
           {
            "colorbar": {
             "outlinewidth": 0,
             "ticks": ""
            },
            "colorscale": [
             [
              0,
              "#0d0887"
             ],
             [
              0.1111111111111111,
              "#46039f"
             ],
             [
              0.2222222222222222,
              "#7201a8"
             ],
             [
              0.3333333333333333,
              "#9c179e"
             ],
             [
              0.4444444444444444,
              "#bd3786"
             ],
             [
              0.5555555555555556,
              "#d8576b"
             ],
             [
              0.6666666666666666,
              "#ed7953"
             ],
             [
              0.7777777777777778,
              "#fb9f3a"
             ],
             [
              0.8888888888888888,
              "#fdca26"
             ],
             [
              1,
              "#f0f921"
             ]
            ],
            "type": "histogram2d"
           }
          ],
          "histogram2dcontour": [
           {
            "colorbar": {
             "outlinewidth": 0,
             "ticks": ""
            },
            "colorscale": [
             [
              0,
              "#0d0887"
             ],
             [
              0.1111111111111111,
              "#46039f"
             ],
             [
              0.2222222222222222,
              "#7201a8"
             ],
             [
              0.3333333333333333,
              "#9c179e"
             ],
             [
              0.4444444444444444,
              "#bd3786"
             ],
             [
              0.5555555555555556,
              "#d8576b"
             ],
             [
              0.6666666666666666,
              "#ed7953"
             ],
             [
              0.7777777777777778,
              "#fb9f3a"
             ],
             [
              0.8888888888888888,
              "#fdca26"
             ],
             [
              1,
              "#f0f921"
             ]
            ],
            "type": "histogram2dcontour"
           }
          ],
          "mesh3d": [
           {
            "colorbar": {
             "outlinewidth": 0,
             "ticks": ""
            },
            "type": "mesh3d"
           }
          ],
          "parcoords": [
           {
            "line": {
             "colorbar": {
              "outlinewidth": 0,
              "ticks": ""
             }
            },
            "type": "parcoords"
           }
          ],
          "pie": [
           {
            "automargin": true,
            "type": "pie"
           }
          ],
          "scatter": [
           {
            "fillpattern": {
             "fillmode": "overlay",
             "size": 10,
             "solidity": 0.2
            },
            "type": "scatter"
           }
          ],
          "scatter3d": [
           {
            "line": {
             "colorbar": {
              "outlinewidth": 0,
              "ticks": ""
             }
            },
            "marker": {
             "colorbar": {
              "outlinewidth": 0,
              "ticks": ""
             }
            },
            "type": "scatter3d"
           }
          ],
          "scattercarpet": [
           {
            "marker": {
             "colorbar": {
              "outlinewidth": 0,
              "ticks": ""
             }
            },
            "type": "scattercarpet"
           }
          ],
          "scattergeo": [
           {
            "marker": {
             "colorbar": {
              "outlinewidth": 0,
              "ticks": ""
             }
            },
            "type": "scattergeo"
           }
          ],
          "scattergl": [
           {
            "marker": {
             "colorbar": {
              "outlinewidth": 0,
              "ticks": ""
             }
            },
            "type": "scattergl"
           }
          ],
          "scattermapbox": [
           {
            "marker": {
             "colorbar": {
              "outlinewidth": 0,
              "ticks": ""
             }
            },
            "type": "scattermapbox"
           }
          ],
          "scatterpolar": [
           {
            "marker": {
             "colorbar": {
              "outlinewidth": 0,
              "ticks": ""
             }
            },
            "type": "scatterpolar"
           }
          ],
          "scatterpolargl": [
           {
            "marker": {
             "colorbar": {
              "outlinewidth": 0,
              "ticks": ""
             }
            },
            "type": "scatterpolargl"
           }
          ],
          "scatterternary": [
           {
            "marker": {
             "colorbar": {
              "outlinewidth": 0,
              "ticks": ""
             }
            },
            "type": "scatterternary"
           }
          ],
          "surface": [
           {
            "colorbar": {
             "outlinewidth": 0,
             "ticks": ""
            },
            "colorscale": [
             [
              0,
              "#0d0887"
             ],
             [
              0.1111111111111111,
              "#46039f"
             ],
             [
              0.2222222222222222,
              "#7201a8"
             ],
             [
              0.3333333333333333,
              "#9c179e"
             ],
             [
              0.4444444444444444,
              "#bd3786"
             ],
             [
              0.5555555555555556,
              "#d8576b"
             ],
             [
              0.6666666666666666,
              "#ed7953"
             ],
             [
              0.7777777777777778,
              "#fb9f3a"
             ],
             [
              0.8888888888888888,
              "#fdca26"
             ],
             [
              1,
              "#f0f921"
             ]
            ],
            "type": "surface"
           }
          ],
          "table": [
           {
            "cells": {
             "fill": {
              "color": "#EBF0F8"
             },
             "line": {
              "color": "white"
             }
            },
            "header": {
             "fill": {
              "color": "#C8D4E3"
             },
             "line": {
              "color": "white"
             }
            },
            "type": "table"
           }
          ]
         },
         "layout": {
          "annotationdefaults": {
           "arrowcolor": "#2a3f5f",
           "arrowhead": 0,
           "arrowwidth": 1
          },
          "autotypenumbers": "strict",
          "coloraxis": {
           "colorbar": {
            "outlinewidth": 0,
            "ticks": ""
           }
          },
          "colorscale": {
           "diverging": [
            [
             0,
             "#8e0152"
            ],
            [
             0.1,
             "#c51b7d"
            ],
            [
             0.2,
             "#de77ae"
            ],
            [
             0.3,
             "#f1b6da"
            ],
            [
             0.4,
             "#fde0ef"
            ],
            [
             0.5,
             "#f7f7f7"
            ],
            [
             0.6,
             "#e6f5d0"
            ],
            [
             0.7,
             "#b8e186"
            ],
            [
             0.8,
             "#7fbc41"
            ],
            [
             0.9,
             "#4d9221"
            ],
            [
             1,
             "#276419"
            ]
           ],
           "sequential": [
            [
             0,
             "#0d0887"
            ],
            [
             0.1111111111111111,
             "#46039f"
            ],
            [
             0.2222222222222222,
             "#7201a8"
            ],
            [
             0.3333333333333333,
             "#9c179e"
            ],
            [
             0.4444444444444444,
             "#bd3786"
            ],
            [
             0.5555555555555556,
             "#d8576b"
            ],
            [
             0.6666666666666666,
             "#ed7953"
            ],
            [
             0.7777777777777778,
             "#fb9f3a"
            ],
            [
             0.8888888888888888,
             "#fdca26"
            ],
            [
             1,
             "#f0f921"
            ]
           ],
           "sequentialminus": [
            [
             0,
             "#0d0887"
            ],
            [
             0.1111111111111111,
             "#46039f"
            ],
            [
             0.2222222222222222,
             "#7201a8"
            ],
            [
             0.3333333333333333,
             "#9c179e"
            ],
            [
             0.4444444444444444,
             "#bd3786"
            ],
            [
             0.5555555555555556,
             "#d8576b"
            ],
            [
             0.6666666666666666,
             "#ed7953"
            ],
            [
             0.7777777777777778,
             "#fb9f3a"
            ],
            [
             0.8888888888888888,
             "#fdca26"
            ],
            [
             1,
             "#f0f921"
            ]
           ]
          },
          "colorway": [
           "#636efa",
           "#EF553B",
           "#00cc96",
           "#ab63fa",
           "#FFA15A",
           "#19d3f3",
           "#FF6692",
           "#B6E880",
           "#FF97FF",
           "#FECB52"
          ],
          "font": {
           "color": "#2a3f5f"
          },
          "geo": {
           "bgcolor": "white",
           "lakecolor": "white",
           "landcolor": "#E5ECF6",
           "showlakes": true,
           "showland": true,
           "subunitcolor": "white"
          },
          "hoverlabel": {
           "align": "left"
          },
          "hovermode": "closest",
          "mapbox": {
           "style": "light"
          },
          "paper_bgcolor": "white",
          "plot_bgcolor": "#E5ECF6",
          "polar": {
           "angularaxis": {
            "gridcolor": "white",
            "linecolor": "white",
            "ticks": ""
           },
           "bgcolor": "#E5ECF6",
           "radialaxis": {
            "gridcolor": "white",
            "linecolor": "white",
            "ticks": ""
           }
          },
          "scene": {
           "xaxis": {
            "backgroundcolor": "#E5ECF6",
            "gridcolor": "white",
            "gridwidth": 2,
            "linecolor": "white",
            "showbackground": true,
            "ticks": "",
            "zerolinecolor": "white"
           },
           "yaxis": {
            "backgroundcolor": "#E5ECF6",
            "gridcolor": "white",
            "gridwidth": 2,
            "linecolor": "white",
            "showbackground": true,
            "ticks": "",
            "zerolinecolor": "white"
           },
           "zaxis": {
            "backgroundcolor": "#E5ECF6",
            "gridcolor": "white",
            "gridwidth": 2,
            "linecolor": "white",
            "showbackground": true,
            "ticks": "",
            "zerolinecolor": "white"
           }
          },
          "shapedefaults": {
           "line": {
            "color": "#2a3f5f"
           }
          },
          "ternary": {
           "aaxis": {
            "gridcolor": "white",
            "linecolor": "white",
            "ticks": ""
           },
           "baxis": {
            "gridcolor": "white",
            "linecolor": "white",
            "ticks": ""
           },
           "bgcolor": "#E5ECF6",
           "caxis": {
            "gridcolor": "white",
            "linecolor": "white",
            "ticks": ""
           }
          },
          "title": {
           "x": 0.05
          },
          "xaxis": {
           "automargin": true,
           "gridcolor": "white",
           "linecolor": "white",
           "ticks": "",
           "title": {
            "standoff": 15
           },
           "zerolinecolor": "white",
           "zerolinewidth": 2
          },
          "yaxis": {
           "automargin": true,
           "gridcolor": "white",
           "linecolor": "white",
           "ticks": "",
           "title": {
            "standoff": 15
           },
           "zerolinecolor": "white",
           "zerolinewidth": 2
          }
         }
        },
        "xaxis": {
         "anchor": "y",
         "domain": [
          0,
          1
         ],
         "title": {
          "text": "true_label"
         }
        },
        "yaxis": {
         "anchor": "x",
         "domain": [
          0,
          1
         ],
         "title": {
          "text": "count"
         }
        }
       }
      },
      "text/html": [
       "<div>                            <div id=\"0e1f02ef-fdd4-4488-9034-8fb2807025a2\" class=\"plotly-graph-div\" style=\"height:525px; width:100%;\"></div>            <script type=\"text/javascript\">                require([\"plotly\"], function(Plotly) {                    window.PLOTLYENV=window.PLOTLYENV || {};                                    if (document.getElementById(\"0e1f02ef-fdd4-4488-9034-8fb2807025a2\")) {                    Plotly.newPlot(                        \"0e1f02ef-fdd4-4488-9034-8fb2807025a2\",                        [{\"alignmentgroup\":\"True\",\"bingroup\":\"x\",\"hovertemplate\":\"true_label=%{x}\\u003cbr\\u003ecount=%{y}\\u003cextra\\u003e\\u003c\\u002fextra\\u003e\",\"legendgroup\":\"\",\"marker\":{\"color\":\"#636efa\",\"pattern\":{\"shape\":\"\"}},\"name\":\"\",\"offsetgroup\":\"\",\"orientation\":\"v\",\"showlegend\":false,\"texttemplate\":\"%{value}\",\"x\":[\"fallacy of relevance\",\"fallacy of defective induction\",\"fallacy of defective induction\",\"fallacy of defective induction\",\"fallacy of defective induction\",\"fallacy of relevance\",\"fallacy of relevance\",\"fallacy of defective induction\",\"fallacy of defective induction\",\"fallacy of presumption\",\"fallacy of defective induction\",\"fallacy of defective induction\",\"fallacy of relevance\",\"fallacy of relevance\",\"fallacy of defective induction\",\"fallacy of relevance\",\"fallacy of relevance\",\"fallacy of defective induction\",\"fallacy of relevance\",\"fallacy of relevance\",\"fallacy of presumption\",\"fallacy of relevance\",\"fallacy of relevance\",\"fallacy of presumption\",\"fallacy of relevance\",\"fallacy of relevance\",\"fallacy of relevance\",\"fallacy of relevance\",\"fallacy of defective induction\",\"fallacy of relevance\",\"fallacy of defective induction\",\"fallacy of presumption\",\"fallacy of presumption\",\"fallacy of defective induction\",\"fallacy of relevance\",\"fallacy of relevance\",\"fallacy of defective induction\",\"fallacy of relevance\",\"fallacy of defective induction\",\"fallacy of relevance\",\"fallacy of defective induction\",\"fallacy of relevance\",\"fallacy of relevance\",\"fallacy of relevance\",\"fallacy of relevance\",\"fallacy of relevance\",\"fallacy of relevance\",\"fallacy of relevance\",\"fallacy of defective induction\",\"fallacy of defective induction\",\"fallacy of presumption\",\"fallacy of defective induction\",\"fallacy of relevance\",\"fallacy of ambiguity\",\"fallacy of relevance\",\"fallacy of presumption\",\"fallacy of relevance\",\"fallacy of defective induction\",\"fallacy of defective induction\",\"fallacy of defective induction\",\"fallacy of defective induction\",\"fallacy of defective induction\",\"fallacy of relevance\",\"fallacy of defective induction\",\"fallacy of relevance\",\"fallacy of relevance\",\"fallacy of relevance\",\"fallacy of relevance\",\"fallacy of relevance\",\"fallacy of defective induction\",\"fallacy of defective induction\",\"fallacy of defective induction\",\"fallacy of relevance\",\"fallacy of relevance\",\"fallacy of relevance\",\"fallacy of relevance\",\"fallacy of relevance\",\"fallacy of defective induction\",\"fallacy of defective induction\",\"fallacy of relevance\",\"fallacy of defective induction\",\"fallacy of defective induction\",\"fallacy of relevance\",\"fallacy of relevance\",\"fallacy of relevance\",\"fallacy of defective induction\",\"fallacy of defective induction\",\"fallacy of relevance\",\"fallacy of relevance\",\"fallacy of relevance\",\"fallacy of defective induction\",\"fallacy of defective induction\",\"fallacy of defective induction\",\"fallacy of defective induction\",\"fallacy of relevance\",\"fallacy of defective induction\",\"fallacy of relevance\",\"fallacy of relevance\",\"fallacy of relevance\",\"fallacy of defective induction\",\"fallacy of relevance\",\"fallacy of relevance\",\"fallacy of relevance\",\"fallacy of defective induction\",\"fallacy of defective induction\",\"fallacy of defective induction\",\"fallacy of relevance\",\"fallacy of relevance\",\"fallacy of defective induction\",\"fallacy of presumption\",\"fallacy of relevance\",\"fallacy of defective induction\",\"fallacy of defective induction\",\"fallacy of defective induction\",\"fallacy of defective induction\",\"fallacy of defective induction\",\"fallacy of relevance\",\"fallacy of relevance\",\"fallacy of defective induction\",\"fallacy of relevance\",\"fallacy of defective induction\",\"fallacy of presumption\",\"fallacy of defective induction\",\"fallacy of defective induction\",\"fallacy of relevance\",\"fallacy of relevance\",\"fallacy of relevance\",\"fallacy of ambiguity\",\"fallacy of defective induction\",\"fallacy of defective induction\",\"fallacy of relevance\",\"fallacy of defective induction\",\"fallacy of relevance\",\"fallacy of defective induction\",\"fallacy of defective induction\",\"fallacy of defective induction\",\"fallacy of defective induction\",\"fallacy of relevance\",\"fallacy of defective induction\",\"fallacy of relevance\",\"fallacy of defective induction\",\"fallacy of relevance\",\"fallacy of relevance\",\"fallacy of defective induction\",\"fallacy of defective induction\",\"fallacy of relevance\",\"fallacy of defective induction\",\"fallacy of relevance\",\"fallacy of relevance\",\"fallacy of relevance\",\"fallacy of defective induction\",\"fallacy of relevance\",\"fallacy of defective induction\",\"fallacy of defective induction\",\"fallacy of relevance\",\"fallacy of relevance\",\"fallacy of defective induction\",\"fallacy of relevance\",\"fallacy of relevance\",\"fallacy of relevance\",\"fallacy of relevance\",\"fallacy of relevance\",\"fallacy of relevance\",\"fallacy of defective induction\",\"fallacy of defective induction\",\"fallacy of relevance\",\"fallacy of relevance\",\"fallacy of defective induction\",\"fallacy of relevance\",\"fallacy of defective induction\",\"fallacy of relevance\",\"fallacy of relevance\",\"fallacy of defective induction\",\"fallacy of defective induction\",\"fallacy of defective induction\",\"fallacy of relevance\",\"fallacy of defective induction\",\"fallacy of relevance\",\"fallacy of relevance\",\"fallacy of defective induction\",\"fallacy of relevance\",\"fallacy of relevance\",\"fallacy of presumption\",\"fallacy of relevance\",\"fallacy of defective induction\",\"fallacy of relevance\",\"fallacy of relevance\",\"fallacy of relevance\",\"fallacy of defective induction\",\"fallacy of defective induction\",\"fallacy of presumption\",\"fallacy of relevance\",\"fallacy of relevance\",\"fallacy of relevance\",\"fallacy of ambiguity\",\"fallacy of relevance\",\"fallacy of defective induction\",\"fallacy of defective induction\",\"fallacy of defective induction\",\"fallacy of defective induction\",\"fallacy of relevance\",\"fallacy of defective induction\",\"fallacy of relevance\",\"fallacy of relevance\",\"fallacy of relevance\",\"fallacy of relevance\",\"fallacy of defective induction\",\"fallacy of relevance\",\"fallacy of relevance\",\"fallacy of defective induction\",\"fallacy of relevance\",\"fallacy of defective induction\",\"fallacy of relevance\",\"fallacy of relevance\",\"fallacy of defective induction\",\"fallacy of relevance\",\"fallacy of relevance\",\"fallacy of relevance\",\"fallacy of relevance\",\"fallacy of defective induction\",\"fallacy of defective induction\",\"fallacy of defective induction\",\"fallacy of relevance\",\"fallacy of defective induction\",\"fallacy of relevance\",\"fallacy of relevance\",\"fallacy of ambiguity\",\"fallacy of relevance\",\"fallacy of defective induction\",\"fallacy of relevance\",\"fallacy of relevance\",\"fallacy of relevance\",\"fallacy of defective induction\",\"fallacy of defective induction\",\"fallacy of presumption\",\"fallacy of relevance\",\"fallacy of relevance\",\"fallacy of relevance\",\"fallacy of presumption\",\"fallacy of relevance\",\"fallacy of relevance\",\"fallacy of defective induction\",\"fallacy of relevance\",\"fallacy of relevance\",\"fallacy of defective induction\",\"fallacy of presumption\",\"fallacy of defective induction\",\"fallacy of relevance\",\"fallacy of defective induction\",\"fallacy of relevance\",\"fallacy of presumption\",\"fallacy of relevance\",\"fallacy of relevance\",\"fallacy of defective induction\",\"fallacy of relevance\",\"fallacy of defective induction\",\"fallacy of defective induction\",\"fallacy of defective induction\",\"fallacy of relevance\",\"fallacy of defective induction\",\"fallacy of defective induction\",\"fallacy of relevance\",\"fallacy of presumption\",\"fallacy of relevance\",\"fallacy of relevance\",\"fallacy of presumption\",\"fallacy of defective induction\",\"fallacy of defective induction\",\"fallacy of relevance\",\"fallacy of relevance\",\"fallacy of defective induction\",\"fallacy of ambiguity\",\"fallacy of defective induction\",\"fallacy of defective induction\",\"fallacy of relevance\",\"fallacy of relevance\",\"fallacy of defective induction\",\"fallacy of defective induction\",\"fallacy of relevance\",\"fallacy of defective induction\",\"fallacy of relevance\",\"fallacy of defective induction\",\"fallacy of defective induction\",\"fallacy of defective induction\",\"fallacy of relevance\",\"fallacy of relevance\",\"fallacy of relevance\",\"fallacy of defective induction\",\"fallacy of defective induction\",\"fallacy of relevance\",\"fallacy of relevance\",\"fallacy of defective induction\",\"fallacy of relevance\",\"fallacy of relevance\",\"fallacy of presumption\",\"fallacy of relevance\",\"fallacy of relevance\",\"fallacy of relevance\",\"fallacy of defective induction\",\"fallacy of presumption\"],\"xaxis\":\"x\",\"yaxis\":\"y\",\"type\":\"histogram\"}],                        {\"template\":{\"data\":{\"histogram2dcontour\":[{\"type\":\"histogram2dcontour\",\"colorbar\":{\"outlinewidth\":0,\"ticks\":\"\"},\"colorscale\":[[0.0,\"#0d0887\"],[0.1111111111111111,\"#46039f\"],[0.2222222222222222,\"#7201a8\"],[0.3333333333333333,\"#9c179e\"],[0.4444444444444444,\"#bd3786\"],[0.5555555555555556,\"#d8576b\"],[0.6666666666666666,\"#ed7953\"],[0.7777777777777778,\"#fb9f3a\"],[0.8888888888888888,\"#fdca26\"],[1.0,\"#f0f921\"]]}],\"choropleth\":[{\"type\":\"choropleth\",\"colorbar\":{\"outlinewidth\":0,\"ticks\":\"\"}}],\"histogram2d\":[{\"type\":\"histogram2d\",\"colorbar\":{\"outlinewidth\":0,\"ticks\":\"\"},\"colorscale\":[[0.0,\"#0d0887\"],[0.1111111111111111,\"#46039f\"],[0.2222222222222222,\"#7201a8\"],[0.3333333333333333,\"#9c179e\"],[0.4444444444444444,\"#bd3786\"],[0.5555555555555556,\"#d8576b\"],[0.6666666666666666,\"#ed7953\"],[0.7777777777777778,\"#fb9f3a\"],[0.8888888888888888,\"#fdca26\"],[1.0,\"#f0f921\"]]}],\"heatmap\":[{\"type\":\"heatmap\",\"colorbar\":{\"outlinewidth\":0,\"ticks\":\"\"},\"colorscale\":[[0.0,\"#0d0887\"],[0.1111111111111111,\"#46039f\"],[0.2222222222222222,\"#7201a8\"],[0.3333333333333333,\"#9c179e\"],[0.4444444444444444,\"#bd3786\"],[0.5555555555555556,\"#d8576b\"],[0.6666666666666666,\"#ed7953\"],[0.7777777777777778,\"#fb9f3a\"],[0.8888888888888888,\"#fdca26\"],[1.0,\"#f0f921\"]]}],\"heatmapgl\":[{\"type\":\"heatmapgl\",\"colorbar\":{\"outlinewidth\":0,\"ticks\":\"\"},\"colorscale\":[[0.0,\"#0d0887\"],[0.1111111111111111,\"#46039f\"],[0.2222222222222222,\"#7201a8\"],[0.3333333333333333,\"#9c179e\"],[0.4444444444444444,\"#bd3786\"],[0.5555555555555556,\"#d8576b\"],[0.6666666666666666,\"#ed7953\"],[0.7777777777777778,\"#fb9f3a\"],[0.8888888888888888,\"#fdca26\"],[1.0,\"#f0f921\"]]}],\"contourcarpet\":[{\"type\":\"contourcarpet\",\"colorbar\":{\"outlinewidth\":0,\"ticks\":\"\"}}],\"contour\":[{\"type\":\"contour\",\"colorbar\":{\"outlinewidth\":0,\"ticks\":\"\"},\"colorscale\":[[0.0,\"#0d0887\"],[0.1111111111111111,\"#46039f\"],[0.2222222222222222,\"#7201a8\"],[0.3333333333333333,\"#9c179e\"],[0.4444444444444444,\"#bd3786\"],[0.5555555555555556,\"#d8576b\"],[0.6666666666666666,\"#ed7953\"],[0.7777777777777778,\"#fb9f3a\"],[0.8888888888888888,\"#fdca26\"],[1.0,\"#f0f921\"]]}],\"surface\":[{\"type\":\"surface\",\"colorbar\":{\"outlinewidth\":0,\"ticks\":\"\"},\"colorscale\":[[0.0,\"#0d0887\"],[0.1111111111111111,\"#46039f\"],[0.2222222222222222,\"#7201a8\"],[0.3333333333333333,\"#9c179e\"],[0.4444444444444444,\"#bd3786\"],[0.5555555555555556,\"#d8576b\"],[0.6666666666666666,\"#ed7953\"],[0.7777777777777778,\"#fb9f3a\"],[0.8888888888888888,\"#fdca26\"],[1.0,\"#f0f921\"]]}],\"mesh3d\":[{\"type\":\"mesh3d\",\"colorbar\":{\"outlinewidth\":0,\"ticks\":\"\"}}],\"scatter\":[{\"fillpattern\":{\"fillmode\":\"overlay\",\"size\":10,\"solidity\":0.2},\"type\":\"scatter\"}],\"parcoords\":[{\"type\":\"parcoords\",\"line\":{\"colorbar\":{\"outlinewidth\":0,\"ticks\":\"\"}}}],\"scatterpolargl\":[{\"type\":\"scatterpolargl\",\"marker\":{\"colorbar\":{\"outlinewidth\":0,\"ticks\":\"\"}}}],\"bar\":[{\"error_x\":{\"color\":\"#2a3f5f\"},\"error_y\":{\"color\":\"#2a3f5f\"},\"marker\":{\"line\":{\"color\":\"#E5ECF6\",\"width\":0.5},\"pattern\":{\"fillmode\":\"overlay\",\"size\":10,\"solidity\":0.2}},\"type\":\"bar\"}],\"scattergeo\":[{\"type\":\"scattergeo\",\"marker\":{\"colorbar\":{\"outlinewidth\":0,\"ticks\":\"\"}}}],\"scatterpolar\":[{\"type\":\"scatterpolar\",\"marker\":{\"colorbar\":{\"outlinewidth\":0,\"ticks\":\"\"}}}],\"histogram\":[{\"marker\":{\"pattern\":{\"fillmode\":\"overlay\",\"size\":10,\"solidity\":0.2}},\"type\":\"histogram\"}],\"scattergl\":[{\"type\":\"scattergl\",\"marker\":{\"colorbar\":{\"outlinewidth\":0,\"ticks\":\"\"}}}],\"scatter3d\":[{\"type\":\"scatter3d\",\"line\":{\"colorbar\":{\"outlinewidth\":0,\"ticks\":\"\"}},\"marker\":{\"colorbar\":{\"outlinewidth\":0,\"ticks\":\"\"}}}],\"scattermapbox\":[{\"type\":\"scattermapbox\",\"marker\":{\"colorbar\":{\"outlinewidth\":0,\"ticks\":\"\"}}}],\"scatterternary\":[{\"type\":\"scatterternary\",\"marker\":{\"colorbar\":{\"outlinewidth\":0,\"ticks\":\"\"}}}],\"scattercarpet\":[{\"type\":\"scattercarpet\",\"marker\":{\"colorbar\":{\"outlinewidth\":0,\"ticks\":\"\"}}}],\"carpet\":[{\"aaxis\":{\"endlinecolor\":\"#2a3f5f\",\"gridcolor\":\"white\",\"linecolor\":\"white\",\"minorgridcolor\":\"white\",\"startlinecolor\":\"#2a3f5f\"},\"baxis\":{\"endlinecolor\":\"#2a3f5f\",\"gridcolor\":\"white\",\"linecolor\":\"white\",\"minorgridcolor\":\"white\",\"startlinecolor\":\"#2a3f5f\"},\"type\":\"carpet\"}],\"table\":[{\"cells\":{\"fill\":{\"color\":\"#EBF0F8\"},\"line\":{\"color\":\"white\"}},\"header\":{\"fill\":{\"color\":\"#C8D4E3\"},\"line\":{\"color\":\"white\"}},\"type\":\"table\"}],\"barpolar\":[{\"marker\":{\"line\":{\"color\":\"#E5ECF6\",\"width\":0.5},\"pattern\":{\"fillmode\":\"overlay\",\"size\":10,\"solidity\":0.2}},\"type\":\"barpolar\"}],\"pie\":[{\"automargin\":true,\"type\":\"pie\"}]},\"layout\":{\"autotypenumbers\":\"strict\",\"colorway\":[\"#636efa\",\"#EF553B\",\"#00cc96\",\"#ab63fa\",\"#FFA15A\",\"#19d3f3\",\"#FF6692\",\"#B6E880\",\"#FF97FF\",\"#FECB52\"],\"font\":{\"color\":\"#2a3f5f\"},\"hovermode\":\"closest\",\"hoverlabel\":{\"align\":\"left\"},\"paper_bgcolor\":\"white\",\"plot_bgcolor\":\"#E5ECF6\",\"polar\":{\"bgcolor\":\"#E5ECF6\",\"angularaxis\":{\"gridcolor\":\"white\",\"linecolor\":\"white\",\"ticks\":\"\"},\"radialaxis\":{\"gridcolor\":\"white\",\"linecolor\":\"white\",\"ticks\":\"\"}},\"ternary\":{\"bgcolor\":\"#E5ECF6\",\"aaxis\":{\"gridcolor\":\"white\",\"linecolor\":\"white\",\"ticks\":\"\"},\"baxis\":{\"gridcolor\":\"white\",\"linecolor\":\"white\",\"ticks\":\"\"},\"caxis\":{\"gridcolor\":\"white\",\"linecolor\":\"white\",\"ticks\":\"\"}},\"coloraxis\":{\"colorbar\":{\"outlinewidth\":0,\"ticks\":\"\"}},\"colorscale\":{\"sequential\":[[0.0,\"#0d0887\"],[0.1111111111111111,\"#46039f\"],[0.2222222222222222,\"#7201a8\"],[0.3333333333333333,\"#9c179e\"],[0.4444444444444444,\"#bd3786\"],[0.5555555555555556,\"#d8576b\"],[0.6666666666666666,\"#ed7953\"],[0.7777777777777778,\"#fb9f3a\"],[0.8888888888888888,\"#fdca26\"],[1.0,\"#f0f921\"]],\"sequentialminus\":[[0.0,\"#0d0887\"],[0.1111111111111111,\"#46039f\"],[0.2222222222222222,\"#7201a8\"],[0.3333333333333333,\"#9c179e\"],[0.4444444444444444,\"#bd3786\"],[0.5555555555555556,\"#d8576b\"],[0.6666666666666666,\"#ed7953\"],[0.7777777777777778,\"#fb9f3a\"],[0.8888888888888888,\"#fdca26\"],[1.0,\"#f0f921\"]],\"diverging\":[[0,\"#8e0152\"],[0.1,\"#c51b7d\"],[0.2,\"#de77ae\"],[0.3,\"#f1b6da\"],[0.4,\"#fde0ef\"],[0.5,\"#f7f7f7\"],[0.6,\"#e6f5d0\"],[0.7,\"#b8e186\"],[0.8,\"#7fbc41\"],[0.9,\"#4d9221\"],[1,\"#276419\"]]},\"xaxis\":{\"gridcolor\":\"white\",\"linecolor\":\"white\",\"ticks\":\"\",\"title\":{\"standoff\":15},\"zerolinecolor\":\"white\",\"automargin\":true,\"zerolinewidth\":2},\"yaxis\":{\"gridcolor\":\"white\",\"linecolor\":\"white\",\"ticks\":\"\",\"title\":{\"standoff\":15},\"zerolinecolor\":\"white\",\"automargin\":true,\"zerolinewidth\":2},\"scene\":{\"xaxis\":{\"backgroundcolor\":\"#E5ECF6\",\"gridcolor\":\"white\",\"linecolor\":\"white\",\"showbackground\":true,\"ticks\":\"\",\"zerolinecolor\":\"white\",\"gridwidth\":2},\"yaxis\":{\"backgroundcolor\":\"#E5ECF6\",\"gridcolor\":\"white\",\"linecolor\":\"white\",\"showbackground\":true,\"ticks\":\"\",\"zerolinecolor\":\"white\",\"gridwidth\":2},\"zaxis\":{\"backgroundcolor\":\"#E5ECF6\",\"gridcolor\":\"white\",\"linecolor\":\"white\",\"showbackground\":true,\"ticks\":\"\",\"zerolinecolor\":\"white\",\"gridwidth\":2}},\"shapedefaults\":{\"line\":{\"color\":\"#2a3f5f\"}},\"annotationdefaults\":{\"arrowcolor\":\"#2a3f5f\",\"arrowhead\":0,\"arrowwidth\":1},\"geo\":{\"bgcolor\":\"white\",\"landcolor\":\"#E5ECF6\",\"subunitcolor\":\"white\",\"showland\":true,\"showlakes\":true,\"lakecolor\":\"white\"},\"title\":{\"x\":0.05},\"mapbox\":{\"style\":\"light\"}}},\"xaxis\":{\"anchor\":\"y\",\"domain\":[0.0,1.0],\"title\":{\"text\":\"true_label\"}},\"yaxis\":{\"anchor\":\"x\",\"domain\":[0.0,1.0],\"title\":{\"text\":\"count\"}},\"legend\":{\"tracegroupgap\":0},\"margin\":{\"t\":60},\"barmode\":\"relative\"},                        {\"responsive\": true}                    ).then(function(){\n",
       "                            \n",
       "var gd = document.getElementById('0e1f02ef-fdd4-4488-9034-8fb2807025a2');\n",
       "var x = new MutationObserver(function (mutations, observer) {{\n",
       "        var display = window.getComputedStyle(gd).display;\n",
       "        if (!display || display === 'none') {{\n",
       "            console.log([gd, 'removed!']);\n",
       "            Plotly.purge(gd);\n",
       "            observer.disconnect();\n",
       "        }}\n",
       "}});\n",
       "\n",
       "// Listen for the removal of the full notebook cells\n",
       "var notebookContainer = gd.closest('#notebook-container');\n",
       "if (notebookContainer) {{\n",
       "    x.observe(notebookContainer, {childList: true});\n",
       "}}\n",
       "\n",
       "// Listen for the clearing of the current output cell\n",
       "var outputEl = gd.closest('.output');\n",
       "if (outputEl) {{\n",
       "    x.observe(outputEl, {childList: true});\n",
       "}}\n",
       "\n",
       "                        })                };                });            </script>        </div>"
      ]
     },
     "metadata": {},
     "output_type": "display_data"
    }
   ],
   "source": [
    "px.histogram(dataframe, x=\"true_label\", text_auto=True)"
   ]
  },
  {
   "cell_type": "code",
   "execution_count": 20,
   "metadata": {},
   "outputs": [
    {
     "data": {
      "text/plain": [
       "np.float64(0.36)"
      ]
     },
     "execution_count": 20,
     "metadata": {},
     "output_type": "execute_result"
    }
   ],
   "source": [
    "(dataframe[\"predicted_label\"] == dataframe[\"true_label\"]).mean()"
   ]
  },
  {
   "cell_type": "code",
   "execution_count": 21,
   "metadata": {},
   "outputs": [
    {
     "data": {
      "text/plain": [
       "array(['fallacy of relevance', 'fallacy of generalization',\n",
       "       'fallacy of defective induction', 'fallacy of presumption',\n",
       "       'fallacy of causal reasoning', 'ad hominem',\n",
       "       'fallacy of irrelevant conclusion', 'fallacy of ad hominem',\n",
       "       'fallacy of abusive language', 'fallacy of ambiguity',\n",
       "       'fallacy of false dilemma', 'fallacy of causal oversimplification',\n",
       "       'fallacy of irrelevant authority', 'fallacy of stereotyping',\n",
       "       'fallacy of correlation', 'fallacy of misrepresentation',\n",
       "       'fallacy of inductive reasoning',\n",
       "       'fallacy of appeal to popularity',\n",
       "       'fallacy of statistical fallacy',\n",
       "       'fallacy of hasty generalization', 'fallacy of definition',\n",
       "       'fallacy of irrelevant purpose', 'fallacy of binary dichotomy',\n",
       "       'fallacy of appeal to pity', 'fallacy of bifurcation',\n",
       "       'fallacy of straw man'], dtype=object)"
      ]
     },
     "execution_count": 21,
     "metadata": {},
     "output_type": "execute_result"
    }
   ],
   "source": [
    "dataframe[\"predicted_label\"].unique()"
   ]
  },
  {
   "cell_type": "markdown",
   "metadata": {},
   "source": [
    "### Experiment WITH definitions in prompt"
   ]
  },
  {
   "cell_type": "code",
   "execution_count": 22,
   "metadata": {},
   "outputs": [],
   "source": [
    "dataframe = pd.read_csv(\"../reports/mistralai-Mistral-7B-Instruct-v0.3_coarse_grained_results_with_definitions.csv\")\n",
    "dataframe[\"predicted_label\"] = dataframe[\"predicted_label\"].map(clean_predicted_coarse_grained_label)"
   ]
  },
  {
   "cell_type": "code",
   "execution_count": 23,
   "metadata": {},
   "outputs": [
    {
     "data": {
      "text/html": [
       "<div>\n",
       "<style scoped>\n",
       "    .dataframe tbody tr th:only-of-type {\n",
       "        vertical-align: middle;\n",
       "    }\n",
       "\n",
       "    .dataframe tbody tr th {\n",
       "        vertical-align: top;\n",
       "    }\n",
       "\n",
       "    .dataframe thead th {\n",
       "        text-align: right;\n",
       "    }\n",
       "</style>\n",
       "<table border=\"1\" class=\"dataframe\">\n",
       "  <thead>\n",
       "    <tr style=\"text-align: right;\">\n",
       "      <th></th>\n",
       "      <th>Unnamed: 0</th>\n",
       "      <th>source_article</th>\n",
       "      <th>true_label</th>\n",
       "      <th>predicted_label</th>\n",
       "    </tr>\n",
       "  </thead>\n",
       "  <tbody>\n",
       "    <tr>\n",
       "      <th>0</th>\n",
       "      <td>0</td>\n",
       "      <td>People who drive big cars probably hate the en...</td>\n",
       "      <td>fallacy of relevance</td>\n",
       "      <td>fallacy of relevance</td>\n",
       "    </tr>\n",
       "    <tr>\n",
       "      <th>1</th>\n",
       "      <td>1</td>\n",
       "      <td>White men can't jump. No, really, they can't!</td>\n",
       "      <td>fallacy of defective induction</td>\n",
       "      <td>fallacy of relevance</td>\n",
       "    </tr>\n",
       "    <tr>\n",
       "      <th>2</th>\n",
       "      <td>2</td>\n",
       "      <td>'Cotton and grain crops were lower this year t...</td>\n",
       "      <td>fallacy of defective induction</td>\n",
       "      <td>fallacy of relevance</td>\n",
       "    </tr>\n",
       "    <tr>\n",
       "      <th>3</th>\n",
       "      <td>3</td>\n",
       "      <td>\"Why are you hitting your computer!?\"\\n\"The la...</td>\n",
       "      <td>fallacy of defective induction</td>\n",
       "      <td>fallacy of causality</td>\n",
       "    </tr>\n",
       "    <tr>\n",
       "      <th>4</th>\n",
       "      <td>4</td>\n",
       "      <td>All students are good and all clowns are bad.</td>\n",
       "      <td>fallacy of defective induction</td>\n",
       "      <td>fallacy of ambiguity</td>\n",
       "    </tr>\n",
       "  </tbody>\n",
       "</table>\n",
       "</div>"
      ],
      "text/plain": [
       "   Unnamed: 0                                     source_article  \\\n",
       "0           0  People who drive big cars probably hate the en...   \n",
       "1           1      White men can't jump. No, really, they can't!   \n",
       "2           2  'Cotton and grain crops were lower this year t...   \n",
       "3           3  \"Why are you hitting your computer!?\"\\n\"The la...   \n",
       "4           4      All students are good and all clowns are bad.   \n",
       "\n",
       "                       true_label       predicted_label  \n",
       "0            fallacy of relevance  fallacy of relevance  \n",
       "1  fallacy of defective induction  fallacy of relevance  \n",
       "2  fallacy of defective induction  fallacy of relevance  \n",
       "3  fallacy of defective induction  fallacy of causality  \n",
       "4  fallacy of defective induction  fallacy of ambiguity  "
      ]
     },
     "execution_count": 23,
     "metadata": {},
     "output_type": "execute_result"
    }
   ],
   "source": [
    "dataframe.head()"
   ]
  },
  {
   "cell_type": "code",
   "execution_count": 24,
   "metadata": {},
   "outputs": [
    {
     "data": {
      "text/plain": [
       "np.float64(0.45666666666666667)"
      ]
     },
     "execution_count": 24,
     "metadata": {},
     "output_type": "execute_result"
    }
   ],
   "source": [
    "(dataframe[\"predicted_label\"] == dataframe[\"true_label\"]).mean()"
   ]
  },
  {
   "cell_type": "code",
   "execution_count": 25,
   "metadata": {},
   "outputs": [
    {
     "data": {
      "application/vnd.plotly.v1+json": {
       "config": {
        "plotlyServerURL": "https://plot.ly"
       },
       "data": [
        {
         "alignmentgroup": "True",
         "bingroup": "x",
         "hovertemplate": "predicted_label=%{x}<br>count=%{y}<extra></extra>",
         "legendgroup": "",
         "marker": {
          "color": "#636efa",
          "pattern": {
           "shape": ""
          }
         },
         "name": "",
         "offsetgroup": "",
         "orientation": "v",
         "showlegend": false,
         "texttemplate": "%{value}",
         "type": "histogram",
         "x": [
          "fallacy of relevance",
          "fallacy of relevance",
          "fallacy of relevance",
          "fallacy of causality",
          "fallacy of ambiguity",
          "fallacy of relevance",
          "fallacy of relevance",
          "fallacy of relevance",
          "fallacy of relevance",
          "fallacy of ambiguity",
          "fallacy of causality",
          "fallacy of defective induction",
          "fallacy of relevance",
          "fallacy of relevance",
          "fallacy of relevance",
          "fallacy of relevance",
          "fallacy of relevance",
          "fallacy of ambiguity",
          "fallacy of relevance",
          "fallacy of defective induction",
          "fallacy of ambiguity",
          "fallacy of relevance",
          "fallacy of relevance",
          "fallacy of relevance",
          "fallacy of relevance",
          "fallacy of relevance",
          "ad hominem",
          "fallacy of relevance",
          "fallacy of relevance",
          "fallacy of relevance",
          "fallacy of generalization",
          "fallacy of presumption",
          "fallacy of relevance",
          "fallacy of defective induction",
          "fallacy of relevance",
          "fallacy of relevance",
          "fallacy of ambiguity",
          "fallacy of relevance",
          "fallacy of defective induction",
          "fallacy of ambiguity",
          "fallacy of relevance",
          "fallacy of relevance",
          "fallacy of relevance",
          "fallacy of defective induction",
          "fallacy of relevance",
          "fallacy of relevance",
          "fallacy of ambiguity",
          "ad hominem",
          "fallacy of relevance",
          "fallacy of defective induction",
          "fallacy of relevance",
          "fallacy of defective induction",
          "fallacy of relevance",
          "ad hominem",
          "fallacy of relevance",
          "fallacy of relevance",
          "fallacy of relevance",
          "fallacy of defective induction",
          "fallacy of presumption",
          "fallacy of relevance",
          "fallacy of relevance",
          "fallacy of generalization",
          "fallacy of relevance",
          "fallacy of presumption",
          "fallacy of relevance",
          "ad hominem",
          "fallacy of relevance",
          "fallacy of presumption",
          "fallacy of ambiguity",
          "fallacy of relevance",
          "fallacy of defective induction",
          "fallacy of relevance",
          "fallacy of relevance",
          "fallacy of ambiguity",
          "ad hominem",
          "fallacy of presumption",
          "fallacy of relevance",
          "fallacy of relevance",
          "fallacy of relevance",
          "fallacy of relevance",
          "fallacy of defective induction",
          "fallacy of relevance",
          "fallacy of ambiguity",
          "fallacy of relevance",
          "fallacy of relevance",
          "fallacy of relevance",
          "fallacy of relevance",
          "fallacy of relevance",
          "fallacy of relevance",
          "ad hominem",
          "fallacy of ambiguity",
          "fallacy of defective induction",
          "fallacy of relevance",
          "fallacy of presumption",
          "fallacy of relevance",
          "fallacy of relevance",
          "fallacy of relevance",
          "fallacy of relevance",
          "ad hominem",
          "fallacy of relevance",
          "ad hominem",
          "fallacy of relevance",
          "fallacy of relevance",
          "fallacy of defective induction",
          "fallacy of relevance",
          "fallacy of defective induction",
          "fallacy of relevance",
          "fallacy of defective induction",
          "fallacy of relevance",
          "fallacy of relevance",
          "fallacy of ambiguity",
          "fallacy of relevance",
          "fallacy of generalization",
          "fallacy of generalization",
          "fallacy of defective induction",
          "fallacy of defective induction",
          "fallacy of ambiguity",
          "fallacy of relevance",
          "fallacy of causality",
          "ad hominem",
          "fallacy of relevance",
          "fallacy of ambiguity",
          "fallacy of relevance",
          "fallacy of relevance",
          "fallacy of ambiguity",
          "fallacy of relevance",
          "ad hominem",
          "fallacy of ambiguity",
          "fallacy of defective induction",
          "fallacy of relevance",
          "fallacy of relevance",
          "fallacy of relevance",
          "fallacy of ambiguity",
          "fallacy of relevance",
          "fallacy of relevance",
          "fallacy of relevance",
          "fallacy of relevance",
          "fallacy of presumption",
          "fallacy of relevance",
          "ad hominem",
          "fallacy of relevance",
          "fallacy of relevance",
          "ad hominem",
          "fallacy of relevance",
          "fallacy of relevance",
          "fallacy of ambiguity",
          "fallacy of generalization",
          "fallacy of relevance",
          "fallacy of relevance",
          "fallacy of relevance",
          "ad hominem",
          "fallacy of relevance",
          "fallacy of relevance",
          "fallacy of relevance",
          "fallacy of relevance",
          "fallacy of relevance",
          "fallacy of ambiguity",
          "ad hominem",
          "fallacy of relevance",
          "fallacy of relevance",
          "fallacy of relevance",
          "fallacy of relevance",
          "fallacy of relevance",
          "ad hominem",
          "fallacy of relevance",
          "ad hominem",
          "fallacy of presumption",
          "fallacy of relevance",
          "fallacy of ambiguity",
          "fallacy of relevance",
          "fallacy of relevance",
          "fallacy of relevance",
          "fallacy of relevance",
          "fallacy of presumption",
          "fallacy of relevance",
          "fallacy of relevance",
          "fallacy of relevance",
          "fallacy of relevance",
          "fallacy of presumption",
          "fallacy of relevance",
          "fallacy of relevance",
          "fallacy of relevance",
          "fallacy of relevance",
          "fallacy of relevance",
          "fallacy of irrelevance (ad hominem)",
          "fallacy of presumption",
          "fallacy of relevance",
          "fallacy of relevance",
          "fallacy of presumption",
          "fallacy of relevance",
          "fallacy of presumption",
          "fallacy of relevance",
          "fallacy of relevance",
          "fallacy of relevance",
          "fallacy of presumption",
          "fallacy of relevance",
          "fallacy of relevance",
          "fallacy of reasoning",
          "fallacy of relevance",
          "fallacy of relevance",
          "fallacy of relevance",
          "fallacy of relevance",
          "fallacy of relevance",
          "fallacy of relevance",
          "fallacy of relevance",
          "fallacy of relevance",
          "fallacy of defective induction",
          "fallacy of relevance",
          "fallacy of presumption",
          "fallacy of defective induction",
          "fallacy of ambiguity",
          "fallacy of causality",
          "fallacy of relevance",
          "fallacy of ambiguity",
          "fallacy of presumption",
          "fallacy of relevance",
          "fallacy of relevance",
          "fallacy of relevance",
          "fallacy of presumption",
          "fallacy of defective induction",
          "fallacy of defective induction",
          "fallacy of presumption",
          "fallacy of relevance",
          "fallacy of relevance",
          "fallacy of defective induction",
          "fallacy of ambiguity",
          "fallacy of ambiguity",
          "fallacy of relevance",
          "fallacy of defective induction",
          "fallacy of relevance",
          "fallacy of relevance",
          "fallacy of relevance",
          "fallacy of relevance",
          "fallacy of relevance",
          "fallacy of defective induction",
          "fallacy of relevance",
          "fallacy of ambiguity",
          "fallacy of irrelevant conclusion",
          "fallacy of defective induction",
          "fallacy of relevance",
          "fallacy of relevance",
          "fallacy of generalization",
          "fallacy of ambiguity",
          "fallacy of relevance",
          "fallacy of defective induction",
          "fallacy of ambiguity",
          "fallacy of defective induction",
          "fallacy of relevance",
          "fallacy of relevance",
          "ad hominem",
          "fallacy of relevance",
          "fallacy of relevance",
          "fallacy of relevance",
          "fallacy of relevance",
          "fallacy of relevance",
          "fallacy of generalization",
          "fallacy of relevance",
          "fallacy of ambiguity",
          "fallacy of ambiguity",
          "fallacy of relevance",
          "fallacy of relevance",
          "fallacy of relevance",
          "fallacy of presumption",
          "fallacy of relevance",
          "fallacy of relevance",
          "fallacy of relevance",
          "fallacy of relevance",
          "fallacy of defective induction",
          "fallacy of relevance",
          "fallacy of relevance",
          "fallacy of relevance",
          "fallacy of relevance",
          "fallacy of relevance",
          "fallacy of ambiguity",
          "fallacy of relevance",
          "fallacy of ambiguity",
          "fallacy of defective induction",
          "fallacy of presumption",
          "fallacy of relevance",
          "fallacy of defective induction",
          "fallacy of relevance",
          "fallacy of defective induction",
          "fallacy of relevance",
          "fallacy of relevance",
          "ad hominem",
          "fallacy of relevance",
          "fallacy of relevance",
          "fallacy of ambiguity",
          "fallacy of relevance",
          "ad hominem",
          "fallacy of relevance",
          "fallacy of presumption",
          "fallacy of ambiguity",
          "ad hominem",
          "fallacy of presumption",
          "fallacy of relevance",
          "fallacy of relevance",
          "fallacy of relevance",
          "fallacy of ambiguity",
          "fallacy of presumption"
         ],
         "xaxis": "x",
         "yaxis": "y"
        }
       ],
       "layout": {
        "barmode": "relative",
        "legend": {
         "tracegroupgap": 0
        },
        "margin": {
         "t": 60
        },
        "template": {
         "data": {
          "bar": [
           {
            "error_x": {
             "color": "#2a3f5f"
            },
            "error_y": {
             "color": "#2a3f5f"
            },
            "marker": {
             "line": {
              "color": "#E5ECF6",
              "width": 0.5
             },
             "pattern": {
              "fillmode": "overlay",
              "size": 10,
              "solidity": 0.2
             }
            },
            "type": "bar"
           }
          ],
          "barpolar": [
           {
            "marker": {
             "line": {
              "color": "#E5ECF6",
              "width": 0.5
             },
             "pattern": {
              "fillmode": "overlay",
              "size": 10,
              "solidity": 0.2
             }
            },
            "type": "barpolar"
           }
          ],
          "carpet": [
           {
            "aaxis": {
             "endlinecolor": "#2a3f5f",
             "gridcolor": "white",
             "linecolor": "white",
             "minorgridcolor": "white",
             "startlinecolor": "#2a3f5f"
            },
            "baxis": {
             "endlinecolor": "#2a3f5f",
             "gridcolor": "white",
             "linecolor": "white",
             "minorgridcolor": "white",
             "startlinecolor": "#2a3f5f"
            },
            "type": "carpet"
           }
          ],
          "choropleth": [
           {
            "colorbar": {
             "outlinewidth": 0,
             "ticks": ""
            },
            "type": "choropleth"
           }
          ],
          "contour": [
           {
            "colorbar": {
             "outlinewidth": 0,
             "ticks": ""
            },
            "colorscale": [
             [
              0,
              "#0d0887"
             ],
             [
              0.1111111111111111,
              "#46039f"
             ],
             [
              0.2222222222222222,
              "#7201a8"
             ],
             [
              0.3333333333333333,
              "#9c179e"
             ],
             [
              0.4444444444444444,
              "#bd3786"
             ],
             [
              0.5555555555555556,
              "#d8576b"
             ],
             [
              0.6666666666666666,
              "#ed7953"
             ],
             [
              0.7777777777777778,
              "#fb9f3a"
             ],
             [
              0.8888888888888888,
              "#fdca26"
             ],
             [
              1,
              "#f0f921"
             ]
            ],
            "type": "contour"
           }
          ],
          "contourcarpet": [
           {
            "colorbar": {
             "outlinewidth": 0,
             "ticks": ""
            },
            "type": "contourcarpet"
           }
          ],
          "heatmap": [
           {
            "colorbar": {
             "outlinewidth": 0,
             "ticks": ""
            },
            "colorscale": [
             [
              0,
              "#0d0887"
             ],
             [
              0.1111111111111111,
              "#46039f"
             ],
             [
              0.2222222222222222,
              "#7201a8"
             ],
             [
              0.3333333333333333,
              "#9c179e"
             ],
             [
              0.4444444444444444,
              "#bd3786"
             ],
             [
              0.5555555555555556,
              "#d8576b"
             ],
             [
              0.6666666666666666,
              "#ed7953"
             ],
             [
              0.7777777777777778,
              "#fb9f3a"
             ],
             [
              0.8888888888888888,
              "#fdca26"
             ],
             [
              1,
              "#f0f921"
             ]
            ],
            "type": "heatmap"
           }
          ],
          "heatmapgl": [
           {
            "colorbar": {
             "outlinewidth": 0,
             "ticks": ""
            },
            "colorscale": [
             [
              0,
              "#0d0887"
             ],
             [
              0.1111111111111111,
              "#46039f"
             ],
             [
              0.2222222222222222,
              "#7201a8"
             ],
             [
              0.3333333333333333,
              "#9c179e"
             ],
             [
              0.4444444444444444,
              "#bd3786"
             ],
             [
              0.5555555555555556,
              "#d8576b"
             ],
             [
              0.6666666666666666,
              "#ed7953"
             ],
             [
              0.7777777777777778,
              "#fb9f3a"
             ],
             [
              0.8888888888888888,
              "#fdca26"
             ],
             [
              1,
              "#f0f921"
             ]
            ],
            "type": "heatmapgl"
           }
          ],
          "histogram": [
           {
            "marker": {
             "pattern": {
              "fillmode": "overlay",
              "size": 10,
              "solidity": 0.2
             }
            },
            "type": "histogram"
           }
          ],
          "histogram2d": [
           {
            "colorbar": {
             "outlinewidth": 0,
             "ticks": ""
            },
            "colorscale": [
             [
              0,
              "#0d0887"
             ],
             [
              0.1111111111111111,
              "#46039f"
             ],
             [
              0.2222222222222222,
              "#7201a8"
             ],
             [
              0.3333333333333333,
              "#9c179e"
             ],
             [
              0.4444444444444444,
              "#bd3786"
             ],
             [
              0.5555555555555556,
              "#d8576b"
             ],
             [
              0.6666666666666666,
              "#ed7953"
             ],
             [
              0.7777777777777778,
              "#fb9f3a"
             ],
             [
              0.8888888888888888,
              "#fdca26"
             ],
             [
              1,
              "#f0f921"
             ]
            ],
            "type": "histogram2d"
           }
          ],
          "histogram2dcontour": [
           {
            "colorbar": {
             "outlinewidth": 0,
             "ticks": ""
            },
            "colorscale": [
             [
              0,
              "#0d0887"
             ],
             [
              0.1111111111111111,
              "#46039f"
             ],
             [
              0.2222222222222222,
              "#7201a8"
             ],
             [
              0.3333333333333333,
              "#9c179e"
             ],
             [
              0.4444444444444444,
              "#bd3786"
             ],
             [
              0.5555555555555556,
              "#d8576b"
             ],
             [
              0.6666666666666666,
              "#ed7953"
             ],
             [
              0.7777777777777778,
              "#fb9f3a"
             ],
             [
              0.8888888888888888,
              "#fdca26"
             ],
             [
              1,
              "#f0f921"
             ]
            ],
            "type": "histogram2dcontour"
           }
          ],
          "mesh3d": [
           {
            "colorbar": {
             "outlinewidth": 0,
             "ticks": ""
            },
            "type": "mesh3d"
           }
          ],
          "parcoords": [
           {
            "line": {
             "colorbar": {
              "outlinewidth": 0,
              "ticks": ""
             }
            },
            "type": "parcoords"
           }
          ],
          "pie": [
           {
            "automargin": true,
            "type": "pie"
           }
          ],
          "scatter": [
           {
            "fillpattern": {
             "fillmode": "overlay",
             "size": 10,
             "solidity": 0.2
            },
            "type": "scatter"
           }
          ],
          "scatter3d": [
           {
            "line": {
             "colorbar": {
              "outlinewidth": 0,
              "ticks": ""
             }
            },
            "marker": {
             "colorbar": {
              "outlinewidth": 0,
              "ticks": ""
             }
            },
            "type": "scatter3d"
           }
          ],
          "scattercarpet": [
           {
            "marker": {
             "colorbar": {
              "outlinewidth": 0,
              "ticks": ""
             }
            },
            "type": "scattercarpet"
           }
          ],
          "scattergeo": [
           {
            "marker": {
             "colorbar": {
              "outlinewidth": 0,
              "ticks": ""
             }
            },
            "type": "scattergeo"
           }
          ],
          "scattergl": [
           {
            "marker": {
             "colorbar": {
              "outlinewidth": 0,
              "ticks": ""
             }
            },
            "type": "scattergl"
           }
          ],
          "scattermapbox": [
           {
            "marker": {
             "colorbar": {
              "outlinewidth": 0,
              "ticks": ""
             }
            },
            "type": "scattermapbox"
           }
          ],
          "scatterpolar": [
           {
            "marker": {
             "colorbar": {
              "outlinewidth": 0,
              "ticks": ""
             }
            },
            "type": "scatterpolar"
           }
          ],
          "scatterpolargl": [
           {
            "marker": {
             "colorbar": {
              "outlinewidth": 0,
              "ticks": ""
             }
            },
            "type": "scatterpolargl"
           }
          ],
          "scatterternary": [
           {
            "marker": {
             "colorbar": {
              "outlinewidth": 0,
              "ticks": ""
             }
            },
            "type": "scatterternary"
           }
          ],
          "surface": [
           {
            "colorbar": {
             "outlinewidth": 0,
             "ticks": ""
            },
            "colorscale": [
             [
              0,
              "#0d0887"
             ],
             [
              0.1111111111111111,
              "#46039f"
             ],
             [
              0.2222222222222222,
              "#7201a8"
             ],
             [
              0.3333333333333333,
              "#9c179e"
             ],
             [
              0.4444444444444444,
              "#bd3786"
             ],
             [
              0.5555555555555556,
              "#d8576b"
             ],
             [
              0.6666666666666666,
              "#ed7953"
             ],
             [
              0.7777777777777778,
              "#fb9f3a"
             ],
             [
              0.8888888888888888,
              "#fdca26"
             ],
             [
              1,
              "#f0f921"
             ]
            ],
            "type": "surface"
           }
          ],
          "table": [
           {
            "cells": {
             "fill": {
              "color": "#EBF0F8"
             },
             "line": {
              "color": "white"
             }
            },
            "header": {
             "fill": {
              "color": "#C8D4E3"
             },
             "line": {
              "color": "white"
             }
            },
            "type": "table"
           }
          ]
         },
         "layout": {
          "annotationdefaults": {
           "arrowcolor": "#2a3f5f",
           "arrowhead": 0,
           "arrowwidth": 1
          },
          "autotypenumbers": "strict",
          "coloraxis": {
           "colorbar": {
            "outlinewidth": 0,
            "ticks": ""
           }
          },
          "colorscale": {
           "diverging": [
            [
             0,
             "#8e0152"
            ],
            [
             0.1,
             "#c51b7d"
            ],
            [
             0.2,
             "#de77ae"
            ],
            [
             0.3,
             "#f1b6da"
            ],
            [
             0.4,
             "#fde0ef"
            ],
            [
             0.5,
             "#f7f7f7"
            ],
            [
             0.6,
             "#e6f5d0"
            ],
            [
             0.7,
             "#b8e186"
            ],
            [
             0.8,
             "#7fbc41"
            ],
            [
             0.9,
             "#4d9221"
            ],
            [
             1,
             "#276419"
            ]
           ],
           "sequential": [
            [
             0,
             "#0d0887"
            ],
            [
             0.1111111111111111,
             "#46039f"
            ],
            [
             0.2222222222222222,
             "#7201a8"
            ],
            [
             0.3333333333333333,
             "#9c179e"
            ],
            [
             0.4444444444444444,
             "#bd3786"
            ],
            [
             0.5555555555555556,
             "#d8576b"
            ],
            [
             0.6666666666666666,
             "#ed7953"
            ],
            [
             0.7777777777777778,
             "#fb9f3a"
            ],
            [
             0.8888888888888888,
             "#fdca26"
            ],
            [
             1,
             "#f0f921"
            ]
           ],
           "sequentialminus": [
            [
             0,
             "#0d0887"
            ],
            [
             0.1111111111111111,
             "#46039f"
            ],
            [
             0.2222222222222222,
             "#7201a8"
            ],
            [
             0.3333333333333333,
             "#9c179e"
            ],
            [
             0.4444444444444444,
             "#bd3786"
            ],
            [
             0.5555555555555556,
             "#d8576b"
            ],
            [
             0.6666666666666666,
             "#ed7953"
            ],
            [
             0.7777777777777778,
             "#fb9f3a"
            ],
            [
             0.8888888888888888,
             "#fdca26"
            ],
            [
             1,
             "#f0f921"
            ]
           ]
          },
          "colorway": [
           "#636efa",
           "#EF553B",
           "#00cc96",
           "#ab63fa",
           "#FFA15A",
           "#19d3f3",
           "#FF6692",
           "#B6E880",
           "#FF97FF",
           "#FECB52"
          ],
          "font": {
           "color": "#2a3f5f"
          },
          "geo": {
           "bgcolor": "white",
           "lakecolor": "white",
           "landcolor": "#E5ECF6",
           "showlakes": true,
           "showland": true,
           "subunitcolor": "white"
          },
          "hoverlabel": {
           "align": "left"
          },
          "hovermode": "closest",
          "mapbox": {
           "style": "light"
          },
          "paper_bgcolor": "white",
          "plot_bgcolor": "#E5ECF6",
          "polar": {
           "angularaxis": {
            "gridcolor": "white",
            "linecolor": "white",
            "ticks": ""
           },
           "bgcolor": "#E5ECF6",
           "radialaxis": {
            "gridcolor": "white",
            "linecolor": "white",
            "ticks": ""
           }
          },
          "scene": {
           "xaxis": {
            "backgroundcolor": "#E5ECF6",
            "gridcolor": "white",
            "gridwidth": 2,
            "linecolor": "white",
            "showbackground": true,
            "ticks": "",
            "zerolinecolor": "white"
           },
           "yaxis": {
            "backgroundcolor": "#E5ECF6",
            "gridcolor": "white",
            "gridwidth": 2,
            "linecolor": "white",
            "showbackground": true,
            "ticks": "",
            "zerolinecolor": "white"
           },
           "zaxis": {
            "backgroundcolor": "#E5ECF6",
            "gridcolor": "white",
            "gridwidth": 2,
            "linecolor": "white",
            "showbackground": true,
            "ticks": "",
            "zerolinecolor": "white"
           }
          },
          "shapedefaults": {
           "line": {
            "color": "#2a3f5f"
           }
          },
          "ternary": {
           "aaxis": {
            "gridcolor": "white",
            "linecolor": "white",
            "ticks": ""
           },
           "baxis": {
            "gridcolor": "white",
            "linecolor": "white",
            "ticks": ""
           },
           "bgcolor": "#E5ECF6",
           "caxis": {
            "gridcolor": "white",
            "linecolor": "white",
            "ticks": ""
           }
          },
          "title": {
           "x": 0.05
          },
          "xaxis": {
           "automargin": true,
           "gridcolor": "white",
           "linecolor": "white",
           "ticks": "",
           "title": {
            "standoff": 15
           },
           "zerolinecolor": "white",
           "zerolinewidth": 2
          },
          "yaxis": {
           "automargin": true,
           "gridcolor": "white",
           "linecolor": "white",
           "ticks": "",
           "title": {
            "standoff": 15
           },
           "zerolinecolor": "white",
           "zerolinewidth": 2
          }
         }
        },
        "xaxis": {
         "anchor": "y",
         "domain": [
          0,
          1
         ],
         "title": {
          "text": "predicted_label"
         }
        },
        "yaxis": {
         "anchor": "x",
         "domain": [
          0,
          1
         ],
         "title": {
          "text": "count"
         }
        }
       }
      },
      "text/html": [
       "<div>                            <div id=\"28f015b1-a2ee-47f3-a12c-90d8ca459a35\" class=\"plotly-graph-div\" style=\"height:525px; width:100%;\"></div>            <script type=\"text/javascript\">                require([\"plotly\"], function(Plotly) {                    window.PLOTLYENV=window.PLOTLYENV || {};                                    if (document.getElementById(\"28f015b1-a2ee-47f3-a12c-90d8ca459a35\")) {                    Plotly.newPlot(                        \"28f015b1-a2ee-47f3-a12c-90d8ca459a35\",                        [{\"alignmentgroup\":\"True\",\"bingroup\":\"x\",\"hovertemplate\":\"predicted_label=%{x}\\u003cbr\\u003ecount=%{y}\\u003cextra\\u003e\\u003c\\u002fextra\\u003e\",\"legendgroup\":\"\",\"marker\":{\"color\":\"#636efa\",\"pattern\":{\"shape\":\"\"}},\"name\":\"\",\"offsetgroup\":\"\",\"orientation\":\"v\",\"showlegend\":false,\"texttemplate\":\"%{value}\",\"x\":[\"fallacy of relevance\",\"fallacy of relevance\",\"fallacy of relevance\",\"fallacy of causality\",\"fallacy of ambiguity\",\"fallacy of relevance\",\"fallacy of relevance\",\"fallacy of relevance\",\"fallacy of relevance\",\"fallacy of ambiguity\",\"fallacy of causality\",\"fallacy of defective induction\",\"fallacy of relevance\",\"fallacy of relevance\",\"fallacy of relevance\",\"fallacy of relevance\",\"fallacy of relevance\",\"fallacy of ambiguity\",\"fallacy of relevance\",\"fallacy of defective induction\",\"fallacy of ambiguity\",\"fallacy of relevance\",\"fallacy of relevance\",\"fallacy of relevance\",\"fallacy of relevance\",\"fallacy of relevance\",\"ad hominem\",\"fallacy of relevance\",\"fallacy of relevance\",\"fallacy of relevance\",\"fallacy of generalization\",\"fallacy of presumption\",\"fallacy of relevance\",\"fallacy of defective induction\",\"fallacy of relevance\",\"fallacy of relevance\",\"fallacy of ambiguity\",\"fallacy of relevance\",\"fallacy of defective induction\",\"fallacy of ambiguity\",\"fallacy of relevance\",\"fallacy of relevance\",\"fallacy of relevance\",\"fallacy of defective induction\",\"fallacy of relevance\",\"fallacy of relevance\",\"fallacy of ambiguity\",\"ad hominem\",\"fallacy of relevance\",\"fallacy of defective induction\",\"fallacy of relevance\",\"fallacy of defective induction\",\"fallacy of relevance\",\"ad hominem\",\"fallacy of relevance\",\"fallacy of relevance\",\"fallacy of relevance\",\"fallacy of defective induction\",\"fallacy of presumption\",\"fallacy of relevance\",\"fallacy of relevance\",\"fallacy of generalization\",\"fallacy of relevance\",\"fallacy of presumption\",\"fallacy of relevance\",\"ad hominem\",\"fallacy of relevance\",\"fallacy of presumption\",\"fallacy of ambiguity\",\"fallacy of relevance\",\"fallacy of defective induction\",\"fallacy of relevance\",\"fallacy of relevance\",\"fallacy of ambiguity\",\"ad hominem\",\"fallacy of presumption\",\"fallacy of relevance\",\"fallacy of relevance\",\"fallacy of relevance\",\"fallacy of relevance\",\"fallacy of defective induction\",\"fallacy of relevance\",\"fallacy of ambiguity\",\"fallacy of relevance\",\"fallacy of relevance\",\"fallacy of relevance\",\"fallacy of relevance\",\"fallacy of relevance\",\"fallacy of relevance\",\"ad hominem\",\"fallacy of ambiguity\",\"fallacy of defective induction\",\"fallacy of relevance\",\"fallacy of presumption\",\"fallacy of relevance\",\"fallacy of relevance\",\"fallacy of relevance\",\"fallacy of relevance\",\"ad hominem\",\"fallacy of relevance\",\"ad hominem\",\"fallacy of relevance\",\"fallacy of relevance\",\"fallacy of defective induction\",\"fallacy of relevance\",\"fallacy of defective induction\",\"fallacy of relevance\",\"fallacy of defective induction\",\"fallacy of relevance\",\"fallacy of relevance\",\"fallacy of ambiguity\",\"fallacy of relevance\",\"fallacy of generalization\",\"fallacy of generalization\",\"fallacy of defective induction\",\"fallacy of defective induction\",\"fallacy of ambiguity\",\"fallacy of relevance\",\"fallacy of causality\",\"ad hominem\",\"fallacy of relevance\",\"fallacy of ambiguity\",\"fallacy of relevance\",\"fallacy of relevance\",\"fallacy of ambiguity\",\"fallacy of relevance\",\"ad hominem\",\"fallacy of ambiguity\",\"fallacy of defective induction\",\"fallacy of relevance\",\"fallacy of relevance\",\"fallacy of relevance\",\"fallacy of ambiguity\",\"fallacy of relevance\",\"fallacy of relevance\",\"fallacy of relevance\",\"fallacy of relevance\",\"fallacy of presumption\",\"fallacy of relevance\",\"ad hominem\",\"fallacy of relevance\",\"fallacy of relevance\",\"ad hominem\",\"fallacy of relevance\",\"fallacy of relevance\",\"fallacy of ambiguity\",\"fallacy of generalization\",\"fallacy of relevance\",\"fallacy of relevance\",\"fallacy of relevance\",\"ad hominem\",\"fallacy of relevance\",\"fallacy of relevance\",\"fallacy of relevance\",\"fallacy of relevance\",\"fallacy of relevance\",\"fallacy of ambiguity\",\"ad hominem\",\"fallacy of relevance\",\"fallacy of relevance\",\"fallacy of relevance\",\"fallacy of relevance\",\"fallacy of relevance\",\"ad hominem\",\"fallacy of relevance\",\"ad hominem\",\"fallacy of presumption\",\"fallacy of relevance\",\"fallacy of ambiguity\",\"fallacy of relevance\",\"fallacy of relevance\",\"fallacy of relevance\",\"fallacy of relevance\",\"fallacy of presumption\",\"fallacy of relevance\",\"fallacy of relevance\",\"fallacy of relevance\",\"fallacy of relevance\",\"fallacy of presumption\",\"fallacy of relevance\",\"fallacy of relevance\",\"fallacy of relevance\",\"fallacy of relevance\",\"fallacy of relevance\",\"fallacy of irrelevance (ad hominem)\",\"fallacy of presumption\",\"fallacy of relevance\",\"fallacy of relevance\",\"fallacy of presumption\",\"fallacy of relevance\",\"fallacy of presumption\",\"fallacy of relevance\",\"fallacy of relevance\",\"fallacy of relevance\",\"fallacy of presumption\",\"fallacy of relevance\",\"fallacy of relevance\",\"fallacy of reasoning\",\"fallacy of relevance\",\"fallacy of relevance\",\"fallacy of relevance\",\"fallacy of relevance\",\"fallacy of relevance\",\"fallacy of relevance\",\"fallacy of relevance\",\"fallacy of relevance\",\"fallacy of defective induction\",\"fallacy of relevance\",\"fallacy of presumption\",\"fallacy of defective induction\",\"fallacy of ambiguity\",\"fallacy of causality\",\"fallacy of relevance\",\"fallacy of ambiguity\",\"fallacy of presumption\",\"fallacy of relevance\",\"fallacy of relevance\",\"fallacy of relevance\",\"fallacy of presumption\",\"fallacy of defective induction\",\"fallacy of defective induction\",\"fallacy of presumption\",\"fallacy of relevance\",\"fallacy of relevance\",\"fallacy of defective induction\",\"fallacy of ambiguity\",\"fallacy of ambiguity\",\"fallacy of relevance\",\"fallacy of defective induction\",\"fallacy of relevance\",\"fallacy of relevance\",\"fallacy of relevance\",\"fallacy of relevance\",\"fallacy of relevance\",\"fallacy of defective induction\",\"fallacy of relevance\",\"fallacy of ambiguity\",\"fallacy of irrelevant conclusion\",\"fallacy of defective induction\",\"fallacy of relevance\",\"fallacy of relevance\",\"fallacy of generalization\",\"fallacy of ambiguity\",\"fallacy of relevance\",\"fallacy of defective induction\",\"fallacy of ambiguity\",\"fallacy of defective induction\",\"fallacy of relevance\",\"fallacy of relevance\",\"ad hominem\",\"fallacy of relevance\",\"fallacy of relevance\",\"fallacy of relevance\",\"fallacy of relevance\",\"fallacy of relevance\",\"fallacy of generalization\",\"fallacy of relevance\",\"fallacy of ambiguity\",\"fallacy of ambiguity\",\"fallacy of relevance\",\"fallacy of relevance\",\"fallacy of relevance\",\"fallacy of presumption\",\"fallacy of relevance\",\"fallacy of relevance\",\"fallacy of relevance\",\"fallacy of relevance\",\"fallacy of defective induction\",\"fallacy of relevance\",\"fallacy of relevance\",\"fallacy of relevance\",\"fallacy of relevance\",\"fallacy of relevance\",\"fallacy of ambiguity\",\"fallacy of relevance\",\"fallacy of ambiguity\",\"fallacy of defective induction\",\"fallacy of presumption\",\"fallacy of relevance\",\"fallacy of defective induction\",\"fallacy of relevance\",\"fallacy of defective induction\",\"fallacy of relevance\",\"fallacy of relevance\",\"ad hominem\",\"fallacy of relevance\",\"fallacy of relevance\",\"fallacy of ambiguity\",\"fallacy of relevance\",\"ad hominem\",\"fallacy of relevance\",\"fallacy of presumption\",\"fallacy of ambiguity\",\"ad hominem\",\"fallacy of presumption\",\"fallacy of relevance\",\"fallacy of relevance\",\"fallacy of relevance\",\"fallacy of ambiguity\",\"fallacy of presumption\"],\"xaxis\":\"x\",\"yaxis\":\"y\",\"type\":\"histogram\"}],                        {\"template\":{\"data\":{\"histogram2dcontour\":[{\"type\":\"histogram2dcontour\",\"colorbar\":{\"outlinewidth\":0,\"ticks\":\"\"},\"colorscale\":[[0.0,\"#0d0887\"],[0.1111111111111111,\"#46039f\"],[0.2222222222222222,\"#7201a8\"],[0.3333333333333333,\"#9c179e\"],[0.4444444444444444,\"#bd3786\"],[0.5555555555555556,\"#d8576b\"],[0.6666666666666666,\"#ed7953\"],[0.7777777777777778,\"#fb9f3a\"],[0.8888888888888888,\"#fdca26\"],[1.0,\"#f0f921\"]]}],\"choropleth\":[{\"type\":\"choropleth\",\"colorbar\":{\"outlinewidth\":0,\"ticks\":\"\"}}],\"histogram2d\":[{\"type\":\"histogram2d\",\"colorbar\":{\"outlinewidth\":0,\"ticks\":\"\"},\"colorscale\":[[0.0,\"#0d0887\"],[0.1111111111111111,\"#46039f\"],[0.2222222222222222,\"#7201a8\"],[0.3333333333333333,\"#9c179e\"],[0.4444444444444444,\"#bd3786\"],[0.5555555555555556,\"#d8576b\"],[0.6666666666666666,\"#ed7953\"],[0.7777777777777778,\"#fb9f3a\"],[0.8888888888888888,\"#fdca26\"],[1.0,\"#f0f921\"]]}],\"heatmap\":[{\"type\":\"heatmap\",\"colorbar\":{\"outlinewidth\":0,\"ticks\":\"\"},\"colorscale\":[[0.0,\"#0d0887\"],[0.1111111111111111,\"#46039f\"],[0.2222222222222222,\"#7201a8\"],[0.3333333333333333,\"#9c179e\"],[0.4444444444444444,\"#bd3786\"],[0.5555555555555556,\"#d8576b\"],[0.6666666666666666,\"#ed7953\"],[0.7777777777777778,\"#fb9f3a\"],[0.8888888888888888,\"#fdca26\"],[1.0,\"#f0f921\"]]}],\"heatmapgl\":[{\"type\":\"heatmapgl\",\"colorbar\":{\"outlinewidth\":0,\"ticks\":\"\"},\"colorscale\":[[0.0,\"#0d0887\"],[0.1111111111111111,\"#46039f\"],[0.2222222222222222,\"#7201a8\"],[0.3333333333333333,\"#9c179e\"],[0.4444444444444444,\"#bd3786\"],[0.5555555555555556,\"#d8576b\"],[0.6666666666666666,\"#ed7953\"],[0.7777777777777778,\"#fb9f3a\"],[0.8888888888888888,\"#fdca26\"],[1.0,\"#f0f921\"]]}],\"contourcarpet\":[{\"type\":\"contourcarpet\",\"colorbar\":{\"outlinewidth\":0,\"ticks\":\"\"}}],\"contour\":[{\"type\":\"contour\",\"colorbar\":{\"outlinewidth\":0,\"ticks\":\"\"},\"colorscale\":[[0.0,\"#0d0887\"],[0.1111111111111111,\"#46039f\"],[0.2222222222222222,\"#7201a8\"],[0.3333333333333333,\"#9c179e\"],[0.4444444444444444,\"#bd3786\"],[0.5555555555555556,\"#d8576b\"],[0.6666666666666666,\"#ed7953\"],[0.7777777777777778,\"#fb9f3a\"],[0.8888888888888888,\"#fdca26\"],[1.0,\"#f0f921\"]]}],\"surface\":[{\"type\":\"surface\",\"colorbar\":{\"outlinewidth\":0,\"ticks\":\"\"},\"colorscale\":[[0.0,\"#0d0887\"],[0.1111111111111111,\"#46039f\"],[0.2222222222222222,\"#7201a8\"],[0.3333333333333333,\"#9c179e\"],[0.4444444444444444,\"#bd3786\"],[0.5555555555555556,\"#d8576b\"],[0.6666666666666666,\"#ed7953\"],[0.7777777777777778,\"#fb9f3a\"],[0.8888888888888888,\"#fdca26\"],[1.0,\"#f0f921\"]]}],\"mesh3d\":[{\"type\":\"mesh3d\",\"colorbar\":{\"outlinewidth\":0,\"ticks\":\"\"}}],\"scatter\":[{\"fillpattern\":{\"fillmode\":\"overlay\",\"size\":10,\"solidity\":0.2},\"type\":\"scatter\"}],\"parcoords\":[{\"type\":\"parcoords\",\"line\":{\"colorbar\":{\"outlinewidth\":0,\"ticks\":\"\"}}}],\"scatterpolargl\":[{\"type\":\"scatterpolargl\",\"marker\":{\"colorbar\":{\"outlinewidth\":0,\"ticks\":\"\"}}}],\"bar\":[{\"error_x\":{\"color\":\"#2a3f5f\"},\"error_y\":{\"color\":\"#2a3f5f\"},\"marker\":{\"line\":{\"color\":\"#E5ECF6\",\"width\":0.5},\"pattern\":{\"fillmode\":\"overlay\",\"size\":10,\"solidity\":0.2}},\"type\":\"bar\"}],\"scattergeo\":[{\"type\":\"scattergeo\",\"marker\":{\"colorbar\":{\"outlinewidth\":0,\"ticks\":\"\"}}}],\"scatterpolar\":[{\"type\":\"scatterpolar\",\"marker\":{\"colorbar\":{\"outlinewidth\":0,\"ticks\":\"\"}}}],\"histogram\":[{\"marker\":{\"pattern\":{\"fillmode\":\"overlay\",\"size\":10,\"solidity\":0.2}},\"type\":\"histogram\"}],\"scattergl\":[{\"type\":\"scattergl\",\"marker\":{\"colorbar\":{\"outlinewidth\":0,\"ticks\":\"\"}}}],\"scatter3d\":[{\"type\":\"scatter3d\",\"line\":{\"colorbar\":{\"outlinewidth\":0,\"ticks\":\"\"}},\"marker\":{\"colorbar\":{\"outlinewidth\":0,\"ticks\":\"\"}}}],\"scattermapbox\":[{\"type\":\"scattermapbox\",\"marker\":{\"colorbar\":{\"outlinewidth\":0,\"ticks\":\"\"}}}],\"scatterternary\":[{\"type\":\"scatterternary\",\"marker\":{\"colorbar\":{\"outlinewidth\":0,\"ticks\":\"\"}}}],\"scattercarpet\":[{\"type\":\"scattercarpet\",\"marker\":{\"colorbar\":{\"outlinewidth\":0,\"ticks\":\"\"}}}],\"carpet\":[{\"aaxis\":{\"endlinecolor\":\"#2a3f5f\",\"gridcolor\":\"white\",\"linecolor\":\"white\",\"minorgridcolor\":\"white\",\"startlinecolor\":\"#2a3f5f\"},\"baxis\":{\"endlinecolor\":\"#2a3f5f\",\"gridcolor\":\"white\",\"linecolor\":\"white\",\"minorgridcolor\":\"white\",\"startlinecolor\":\"#2a3f5f\"},\"type\":\"carpet\"}],\"table\":[{\"cells\":{\"fill\":{\"color\":\"#EBF0F8\"},\"line\":{\"color\":\"white\"}},\"header\":{\"fill\":{\"color\":\"#C8D4E3\"},\"line\":{\"color\":\"white\"}},\"type\":\"table\"}],\"barpolar\":[{\"marker\":{\"line\":{\"color\":\"#E5ECF6\",\"width\":0.5},\"pattern\":{\"fillmode\":\"overlay\",\"size\":10,\"solidity\":0.2}},\"type\":\"barpolar\"}],\"pie\":[{\"automargin\":true,\"type\":\"pie\"}]},\"layout\":{\"autotypenumbers\":\"strict\",\"colorway\":[\"#636efa\",\"#EF553B\",\"#00cc96\",\"#ab63fa\",\"#FFA15A\",\"#19d3f3\",\"#FF6692\",\"#B6E880\",\"#FF97FF\",\"#FECB52\"],\"font\":{\"color\":\"#2a3f5f\"},\"hovermode\":\"closest\",\"hoverlabel\":{\"align\":\"left\"},\"paper_bgcolor\":\"white\",\"plot_bgcolor\":\"#E5ECF6\",\"polar\":{\"bgcolor\":\"#E5ECF6\",\"angularaxis\":{\"gridcolor\":\"white\",\"linecolor\":\"white\",\"ticks\":\"\"},\"radialaxis\":{\"gridcolor\":\"white\",\"linecolor\":\"white\",\"ticks\":\"\"}},\"ternary\":{\"bgcolor\":\"#E5ECF6\",\"aaxis\":{\"gridcolor\":\"white\",\"linecolor\":\"white\",\"ticks\":\"\"},\"baxis\":{\"gridcolor\":\"white\",\"linecolor\":\"white\",\"ticks\":\"\"},\"caxis\":{\"gridcolor\":\"white\",\"linecolor\":\"white\",\"ticks\":\"\"}},\"coloraxis\":{\"colorbar\":{\"outlinewidth\":0,\"ticks\":\"\"}},\"colorscale\":{\"sequential\":[[0.0,\"#0d0887\"],[0.1111111111111111,\"#46039f\"],[0.2222222222222222,\"#7201a8\"],[0.3333333333333333,\"#9c179e\"],[0.4444444444444444,\"#bd3786\"],[0.5555555555555556,\"#d8576b\"],[0.6666666666666666,\"#ed7953\"],[0.7777777777777778,\"#fb9f3a\"],[0.8888888888888888,\"#fdca26\"],[1.0,\"#f0f921\"]],\"sequentialminus\":[[0.0,\"#0d0887\"],[0.1111111111111111,\"#46039f\"],[0.2222222222222222,\"#7201a8\"],[0.3333333333333333,\"#9c179e\"],[0.4444444444444444,\"#bd3786\"],[0.5555555555555556,\"#d8576b\"],[0.6666666666666666,\"#ed7953\"],[0.7777777777777778,\"#fb9f3a\"],[0.8888888888888888,\"#fdca26\"],[1.0,\"#f0f921\"]],\"diverging\":[[0,\"#8e0152\"],[0.1,\"#c51b7d\"],[0.2,\"#de77ae\"],[0.3,\"#f1b6da\"],[0.4,\"#fde0ef\"],[0.5,\"#f7f7f7\"],[0.6,\"#e6f5d0\"],[0.7,\"#b8e186\"],[0.8,\"#7fbc41\"],[0.9,\"#4d9221\"],[1,\"#276419\"]]},\"xaxis\":{\"gridcolor\":\"white\",\"linecolor\":\"white\",\"ticks\":\"\",\"title\":{\"standoff\":15},\"zerolinecolor\":\"white\",\"automargin\":true,\"zerolinewidth\":2},\"yaxis\":{\"gridcolor\":\"white\",\"linecolor\":\"white\",\"ticks\":\"\",\"title\":{\"standoff\":15},\"zerolinecolor\":\"white\",\"automargin\":true,\"zerolinewidth\":2},\"scene\":{\"xaxis\":{\"backgroundcolor\":\"#E5ECF6\",\"gridcolor\":\"white\",\"linecolor\":\"white\",\"showbackground\":true,\"ticks\":\"\",\"zerolinecolor\":\"white\",\"gridwidth\":2},\"yaxis\":{\"backgroundcolor\":\"#E5ECF6\",\"gridcolor\":\"white\",\"linecolor\":\"white\",\"showbackground\":true,\"ticks\":\"\",\"zerolinecolor\":\"white\",\"gridwidth\":2},\"zaxis\":{\"backgroundcolor\":\"#E5ECF6\",\"gridcolor\":\"white\",\"linecolor\":\"white\",\"showbackground\":true,\"ticks\":\"\",\"zerolinecolor\":\"white\",\"gridwidth\":2}},\"shapedefaults\":{\"line\":{\"color\":\"#2a3f5f\"}},\"annotationdefaults\":{\"arrowcolor\":\"#2a3f5f\",\"arrowhead\":0,\"arrowwidth\":1},\"geo\":{\"bgcolor\":\"white\",\"landcolor\":\"#E5ECF6\",\"subunitcolor\":\"white\",\"showland\":true,\"showlakes\":true,\"lakecolor\":\"white\"},\"title\":{\"x\":0.05},\"mapbox\":{\"style\":\"light\"}}},\"xaxis\":{\"anchor\":\"y\",\"domain\":[0.0,1.0],\"title\":{\"text\":\"predicted_label\"}},\"yaxis\":{\"anchor\":\"x\",\"domain\":[0.0,1.0],\"title\":{\"text\":\"count\"}},\"legend\":{\"tracegroupgap\":0},\"margin\":{\"t\":60},\"barmode\":\"relative\"},                        {\"responsive\": true}                    ).then(function(){\n",
       "                            \n",
       "var gd = document.getElementById('28f015b1-a2ee-47f3-a12c-90d8ca459a35');\n",
       "var x = new MutationObserver(function (mutations, observer) {{\n",
       "        var display = window.getComputedStyle(gd).display;\n",
       "        if (!display || display === 'none') {{\n",
       "            console.log([gd, 'removed!']);\n",
       "            Plotly.purge(gd);\n",
       "            observer.disconnect();\n",
       "        }}\n",
       "}});\n",
       "\n",
       "// Listen for the removal of the full notebook cells\n",
       "var notebookContainer = gd.closest('#notebook-container');\n",
       "if (notebookContainer) {{\n",
       "    x.observe(notebookContainer, {childList: true});\n",
       "}}\n",
       "\n",
       "// Listen for the clearing of the current output cell\n",
       "var outputEl = gd.closest('.output');\n",
       "if (outputEl) {{\n",
       "    x.observe(outputEl, {childList: true});\n",
       "}}\n",
       "\n",
       "                        })                };                });            </script>        </div>"
      ]
     },
     "metadata": {},
     "output_type": "display_data"
    }
   ],
   "source": [
    "px.histogram(dataframe, x=\"predicted_label\", text_auto=True)"
   ]
  },
  {
   "cell_type": "markdown",
   "metadata": {},
   "source": [
    "## Fine grained results analysis"
   ]
  },
  {
   "cell_type": "code",
   "execution_count": null,
   "metadata": {},
   "outputs": [],
   "source": []
  }
 ],
 "metadata": {
  "kernelspec": {
   "display_name": ".myenv",
   "language": "python",
   "name": "python3"
  },
  "language_info": {
   "codemirror_mode": {
    "name": "ipython",
    "version": 3
   },
   "file_extension": ".py",
   "mimetype": "text/x-python",
   "name": "python",
   "nbconvert_exporter": "python",
   "pygments_lexer": "ipython3",
   "version": "3.11.9"
  }
 },
 "nbformat": 4,
 "nbformat_minor": 2
}
