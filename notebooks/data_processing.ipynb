{
 "cells": [
  {
   "cell_type": "code",
   "execution_count": null,
   "metadata": {},
   "outputs": [],
   "source": []
  },
  {
   "cell_type": "code",
   "execution_count": 23,
   "metadata": {},
   "outputs": [],
   "source": [
    "import pandas as pd\n",
    "\n",
    "dataframe = pd.read_csv(\"../data/raw/edu_test.csv\")\n",
    "#clean dataframe\n",
    "dataframe = dataframe[[\"source_article\", \"updated_label\"]]"
   ]
  },
  {
   "cell_type": "markdown",
   "metadata": {},
   "source": [
    "# Unique labels and stats"
   ]
  },
  {
   "cell_type": "code",
   "execution_count": 24,
   "metadata": {},
   "outputs": [
    {
     "data": {
      "text/plain": [
       "array(['fallacy of extension', 'faulty generalization',\n",
       "       'fallacy of logic', 'false causality', 'fallacy of credibility',\n",
       "       'circular reasoning', 'ad hominem', 'ad populum', 'intentional',\n",
       "       'fallacy of relevance', 'appeal to emotion', 'equivocation',\n",
       "       'false dilemma'], dtype=object)"
      ]
     },
     "execution_count": 24,
     "metadata": {},
     "output_type": "execute_result"
    }
   ],
   "source": [
    "dataframe[\"updated_label\"].unique()"
   ]
  },
  {
   "cell_type": "code",
   "execution_count": 25,
   "metadata": {},
   "outputs": [
    {
     "data": {
      "text/html": [
       "<div>\n",
       "<style scoped>\n",
       "    .dataframe tbody tr th:only-of-type {\n",
       "        vertical-align: middle;\n",
       "    }\n",
       "\n",
       "    .dataframe tbody tr th {\n",
       "        vertical-align: top;\n",
       "    }\n",
       "\n",
       "    .dataframe thead th {\n",
       "        text-align: right;\n",
       "    }\n",
       "</style>\n",
       "<table border=\"1\" class=\"dataframe\">\n",
       "  <thead>\n",
       "    <tr style=\"text-align: right;\">\n",
       "      <th></th>\n",
       "      <th>source_article</th>\n",
       "    </tr>\n",
       "    <tr>\n",
       "      <th>updated_label</th>\n",
       "      <th></th>\n",
       "    </tr>\n",
       "  </thead>\n",
       "  <tbody>\n",
       "    <tr>\n",
       "      <th>ad hominem</th>\n",
       "      <td>41</td>\n",
       "    </tr>\n",
       "    <tr>\n",
       "      <th>ad populum</th>\n",
       "      <td>30</td>\n",
       "    </tr>\n",
       "    <tr>\n",
       "      <th>appeal to emotion</th>\n",
       "      <td>23</td>\n",
       "    </tr>\n",
       "    <tr>\n",
       "      <th>circular reasoning</th>\n",
       "      <td>19</td>\n",
       "    </tr>\n",
       "    <tr>\n",
       "      <th>equivocation</th>\n",
       "      <td>5</td>\n",
       "    </tr>\n",
       "    <tr>\n",
       "      <th>fallacy of credibility</th>\n",
       "      <td>17</td>\n",
       "    </tr>\n",
       "    <tr>\n",
       "      <th>fallacy of extension</th>\n",
       "      <td>21</td>\n",
       "    </tr>\n",
       "    <tr>\n",
       "      <th>fallacy of logic</th>\n",
       "      <td>14</td>\n",
       "    </tr>\n",
       "    <tr>\n",
       "      <th>fallacy of relevance</th>\n",
       "      <td>24</td>\n",
       "    </tr>\n",
       "    <tr>\n",
       "      <th>false causality</th>\n",
       "      <td>18</td>\n",
       "    </tr>\n",
       "    <tr>\n",
       "      <th>false dilemma</th>\n",
       "      <td>12</td>\n",
       "    </tr>\n",
       "    <tr>\n",
       "      <th>faulty generalization</th>\n",
       "      <td>61</td>\n",
       "    </tr>\n",
       "    <tr>\n",
       "      <th>intentional</th>\n",
       "      <td>15</td>\n",
       "    </tr>\n",
       "  </tbody>\n",
       "</table>\n",
       "</div>"
      ],
      "text/plain": [
       "                        source_article\n",
       "updated_label                         \n",
       "ad hominem                          41\n",
       "ad populum                          30\n",
       "appeal to emotion                   23\n",
       "circular reasoning                  19\n",
       "equivocation                         5\n",
       "fallacy of credibility              17\n",
       "fallacy of extension                21\n",
       "fallacy of logic                    14\n",
       "fallacy of relevance                24\n",
       "false causality                     18\n",
       "false dilemma                       12\n",
       "faulty generalization               61\n",
       "intentional                         15"
      ]
     },
     "execution_count": 25,
     "metadata": {},
     "output_type": "execute_result"
    }
   ],
   "source": [
    "dataframe.groupby([\"updated_label\"]).count()"
   ]
  },
  {
   "cell_type": "markdown",
   "metadata": {},
   "source": [
    "# From Fine Grained to coarse grained"
   ]
  },
  {
   "cell_type": "code",
   "execution_count": null,
   "metadata": {},
   "outputs": [
    {
     "data": {
      "text/plain": [
       "{'ad hominem': 'Fallacy of Relevance',\n",
       " 'ad populum': 'Fallacy of Relevance',\n",
       " 'appeal to emotion': 'Fallacy of Relevance',\n",
       " 'intentional': 'Fallacy of Relevance',\n",
       " 'fallacy of extension': 'Fallacy of Relevance',\n",
       " 'fallacy of relevance': 'Fallacy of Relevance',\n",
       " 'false causality': 'Fallacy of Defective Induction',\n",
       " 'false dilemma': 'Fallacy of Defective Induction',\n",
       " 'faulty generalization': 'Fallacy of Defective Induction',\n",
       " 'fallacy of logic': 'Fallacy of Defective Induction',\n",
       " 'fallacy of credibility': 'Fallacy of Defective Induction',\n",
       " 'circular reasoning': 'Fallacy of Presumption',\n",
       " 'equivocation': 'Fallacy of Ambiguity',\n",
       " 'miscellaneous': 'Fallacy of Ambiguity'}"
      ]
     },
     "execution_count": 26,
     "metadata": {},
     "output_type": "execute_result"
    }
   ],
   "source": [
    "mappings = {\"Fallacy of Relevance\" : [\"ad hominem\", \"ad populum\", \"appeal to emotion\", \"intentional\", \"fallacy of extension\", \"fallacy of relevance\"],\n",
    "           \"Fallacy of Defective Induction\": [\"false causality\", \"false dilemma\", \"faulty generalization\", \"fallacy of logic\", \"fallacy of credibility\"],\n",
    "           \"Fallacy of Presumption\": [\"circular reasoning\"],\n",
    "           \"Fallacy of Ambiguity\": [\"equivocation\", \"miscellaneous\"]\n",
    "           }\n",
    "\n",
    "reverse_mappings = {value:key for key in mappings.keys() for value in mappings[key] }\n",
    "reverse_mappings"
   ]
  },
  {
   "cell_type": "code",
   "execution_count": null,
   "metadata": {},
   "outputs": [
    {
     "data": {
      "text/html": [
       "<div>\n",
       "<style scoped>\n",
       "    .dataframe tbody tr th:only-of-type {\n",
       "        vertical-align: middle;\n",
       "    }\n",
       "\n",
       "    .dataframe tbody tr th {\n",
       "        vertical-align: top;\n",
       "    }\n",
       "\n",
       "    .dataframe thead th {\n",
       "        text-align: right;\n",
       "    }\n",
       "</style>\n",
       "<table border=\"1\" class=\"dataframe\">\n",
       "  <thead>\n",
       "    <tr style=\"text-align: right;\">\n",
       "      <th></th>\n",
       "      <th>source_article</th>\n",
       "      <th>updated_label</th>\n",
       "      <th>coarse_label</th>\n",
       "    </tr>\n",
       "  </thead>\n",
       "  <tbody>\n",
       "    <tr>\n",
       "      <th>0</th>\n",
       "      <td>People who drive big cars probably hate the en...</td>\n",
       "      <td>fallacy of extension</td>\n",
       "      <td>fallacy of relevance</td>\n",
       "    </tr>\n",
       "    <tr>\n",
       "      <th>1</th>\n",
       "      <td>White men can't jump. No, really, they can't!</td>\n",
       "      <td>faulty generalization</td>\n",
       "      <td>fallacy of defective induction</td>\n",
       "    </tr>\n",
       "    <tr>\n",
       "      <th>2</th>\n",
       "      <td>'Cotton and grain crops were lower this year t...</td>\n",
       "      <td>fallacy of logic</td>\n",
       "      <td>fallacy of defective induction</td>\n",
       "    </tr>\n",
       "    <tr>\n",
       "      <th>3</th>\n",
       "      <td>\"Why are you hitting your computer!?\"\\n\"The la...</td>\n",
       "      <td>false causality</td>\n",
       "      <td>fallacy of defective induction</td>\n",
       "    </tr>\n",
       "    <tr>\n",
       "      <th>4</th>\n",
       "      <td>All students are good and all clowns are bad.</td>\n",
       "      <td>faulty generalization</td>\n",
       "      <td>fallacy of defective induction</td>\n",
       "    </tr>\n",
       "    <tr>\n",
       "      <th>...</th>\n",
       "      <td>...</td>\n",
       "      <td>...</td>\n",
       "      <td>...</td>\n",
       "    </tr>\n",
       "    <tr>\n",
       "      <th>295</th>\n",
       "      <td>An influencer posts on Instagram that the rest...</td>\n",
       "      <td>ad populum</td>\n",
       "      <td>fallacy of relevance</td>\n",
       "    </tr>\n",
       "    <tr>\n",
       "      <th>296</th>\n",
       "      <td>Senator Smith says we should cut back the Defe...</td>\n",
       "      <td>fallacy of extension</td>\n",
       "      <td>fallacy of relevance</td>\n",
       "    </tr>\n",
       "    <tr>\n",
       "      <th>297</th>\n",
       "      <td>Going to prom (when you don't want to) because...</td>\n",
       "      <td>ad populum</td>\n",
       "      <td>fallacy of relevance</td>\n",
       "    </tr>\n",
       "    <tr>\n",
       "      <th>298</th>\n",
       "      <td>While jogging around the neighborhood, you are...</td>\n",
       "      <td>faulty generalization</td>\n",
       "      <td>fallacy of defective induction</td>\n",
       "    </tr>\n",
       "    <tr>\n",
       "      <th>299</th>\n",
       "      <td>“It’s important to argue logically because log...</td>\n",
       "      <td>circular reasoning</td>\n",
       "      <td>fallacy of presumption</td>\n",
       "    </tr>\n",
       "  </tbody>\n",
       "</table>\n",
       "<p>300 rows × 3 columns</p>\n",
       "</div>"
      ],
      "text/plain": [
       "                                        source_article          updated_label  \\\n",
       "0    People who drive big cars probably hate the en...   fallacy of extension   \n",
       "1        White men can't jump. No, really, they can't!  faulty generalization   \n",
       "2    'Cotton and grain crops were lower this year t...       fallacy of logic   \n",
       "3    \"Why are you hitting your computer!?\"\\n\"The la...        false causality   \n",
       "4        All students are good and all clowns are bad.  faulty generalization   \n",
       "..                                                 ...                    ...   \n",
       "295  An influencer posts on Instagram that the rest...             ad populum   \n",
       "296  Senator Smith says we should cut back the Defe...   fallacy of extension   \n",
       "297  Going to prom (when you don't want to) because...             ad populum   \n",
       "298  While jogging around the neighborhood, you are...  faulty generalization   \n",
       "299  “It’s important to argue logically because log...     circular reasoning   \n",
       "\n",
       "                       coarse_label  \n",
       "0              fallacy of relevance  \n",
       "1    fallacy of defective induction  \n",
       "2    fallacy of defective induction  \n",
       "3    fallacy of defective induction  \n",
       "4    fallacy of defective induction  \n",
       "..                              ...  \n",
       "295            fallacy of relevance  \n",
       "296            fallacy of relevance  \n",
       "297            fallacy of relevance  \n",
       "298  fallacy of defective induction  \n",
       "299          fallacy of presumption  \n",
       "\n",
       "[300 rows x 3 columns]"
      ]
     },
     "execution_count": 28,
     "metadata": {},
     "output_type": "execute_result"
    }
   ],
   "source": [
    "def map_to_coarse_grained(fine_grained):\n",
    "    return reverse_mappings[fine_grained].lower()\n",
    "dataframe[\"coarse_label\"] = dataframe[\"updated_label\"].map(map_to_coarse_grained)\n",
    "\n",
    "dataframe"
   ]
  },
  {
   "cell_type": "code",
   "execution_count": 31,
   "metadata": {},
   "outputs": [
    {
     "data": {
      "text/html": [
       "<div>\n",
       "<style scoped>\n",
       "    .dataframe tbody tr th:only-of-type {\n",
       "        vertical-align: middle;\n",
       "    }\n",
       "\n",
       "    .dataframe tbody tr th {\n",
       "        vertical-align: top;\n",
       "    }\n",
       "\n",
       "    .dataframe thead th {\n",
       "        text-align: right;\n",
       "    }\n",
       "</style>\n",
       "<table border=\"1\" class=\"dataframe\">\n",
       "  <thead>\n",
       "    <tr style=\"text-align: right;\">\n",
       "      <th></th>\n",
       "      <th>source_article</th>\n",
       "      <th>updated_label</th>\n",
       "    </tr>\n",
       "    <tr>\n",
       "      <th>coarse_label</th>\n",
       "      <th></th>\n",
       "      <th></th>\n",
       "    </tr>\n",
       "  </thead>\n",
       "  <tbody>\n",
       "    <tr>\n",
       "      <th>fallacy of ambiguity</th>\n",
       "      <td>5</td>\n",
       "      <td>5</td>\n",
       "    </tr>\n",
       "    <tr>\n",
       "      <th>fallacy of defective induction</th>\n",
       "      <td>122</td>\n",
       "      <td>122</td>\n",
       "    </tr>\n",
       "    <tr>\n",
       "      <th>fallacy of presumption</th>\n",
       "      <td>19</td>\n",
       "      <td>19</td>\n",
       "    </tr>\n",
       "    <tr>\n",
       "      <th>fallacy of relevance</th>\n",
       "      <td>154</td>\n",
       "      <td>154</td>\n",
       "    </tr>\n",
       "  </tbody>\n",
       "</table>\n",
       "</div>"
      ],
      "text/plain": [
       "                                source_article  updated_label\n",
       "coarse_label                                                 \n",
       "fallacy of ambiguity                         5              5\n",
       "fallacy of defective induction             122            122\n",
       "fallacy of presumption                      19             19\n",
       "fallacy of relevance                       154            154"
      ]
     },
     "execution_count": 31,
     "metadata": {},
     "output_type": "execute_result"
    }
   ],
   "source": [
    "dataframe.groupby([\"coarse_label\"]).count()"
   ]
  },
  {
   "cell_type": "code",
   "execution_count": null,
   "metadata": {},
   "outputs": [],
   "source": [
    "# Save updated csv\n",
    "\n",
    "# dataframe.to_csv(\"../data/processed/edu_test_updated.csv\")"
   ]
  },
  {
   "cell_type": "markdown",
   "metadata": {},
   "source": []
  }
 ],
 "metadata": {
  "kernelspec": {
   "display_name": ".myenv",
   "language": "python",
   "name": "python3"
  },
  "language_info": {
   "codemirror_mode": {
    "name": "ipython",
    "version": 3
   },
   "file_extension": ".py",
   "mimetype": "text/x-python",
   "name": "python",
   "nbconvert_exporter": "python",
   "pygments_lexer": "ipython3",
   "version": "3.11.9"
  }
 },
 "nbformat": 4,
 "nbformat_minor": 2
}
