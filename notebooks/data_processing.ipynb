{
 "cells": [
  {
   "cell_type": "code",
   "execution_count": null,
   "metadata": {},
   "outputs": [],
   "source": []
  },
  {
   "cell_type": "code",
   "execution_count": 26,
   "metadata": {},
   "outputs": [],
   "source": [
    "import pandas as pd\n",
    "\n",
    "dataframe = pd.read_csv(\"../data/raw/edu_test.csv\")\n",
    "#clean dataframe\n",
    "dataframe = dataframe[[\"source_article\", \"updated_label\"]]"
   ]
  },
  {
   "cell_type": "markdown",
   "metadata": {},
   "source": [
    "# Unique labels and stats"
   ]
  },
  {
   "cell_type": "code",
   "execution_count": 27,
   "metadata": {},
   "outputs": [
    {
     "data": {
      "text/plain": [
       "array(['fallacy of extension', 'faulty generalization',\n",
       "       'fallacy of logic', 'false causality', 'fallacy of credibility',\n",
       "       'circular reasoning', 'ad hominem', 'ad populum', 'intentional',\n",
       "       'fallacy of relevance', 'appeal to emotion', 'equivocation',\n",
       "       'false dilemma'], dtype=object)"
      ]
     },
     "execution_count": 27,
     "metadata": {},
     "output_type": "execute_result"
    }
   ],
   "source": [
    "dataframe[\"updated_label\"].unique()"
   ]
  },
  {
   "cell_type": "code",
   "execution_count": 28,
   "metadata": {},
   "outputs": [
    {
     "data": {
      "text/html": [
       "<div>\n",
       "<style scoped>\n",
       "    .dataframe tbody tr th:only-of-type {\n",
       "        vertical-align: middle;\n",
       "    }\n",
       "\n",
       "    .dataframe tbody tr th {\n",
       "        vertical-align: top;\n",
       "    }\n",
       "\n",
       "    .dataframe thead th {\n",
       "        text-align: right;\n",
       "    }\n",
       "</style>\n",
       "<table border=\"1\" class=\"dataframe\">\n",
       "  <thead>\n",
       "    <tr style=\"text-align: right;\">\n",
       "      <th></th>\n",
       "      <th>source_article</th>\n",
       "    </tr>\n",
       "    <tr>\n",
       "      <th>updated_label</th>\n",
       "      <th></th>\n",
       "    </tr>\n",
       "  </thead>\n",
       "  <tbody>\n",
       "    <tr>\n",
       "      <th>ad hominem</th>\n",
       "      <td>41</td>\n",
       "    </tr>\n",
       "    <tr>\n",
       "      <th>ad populum</th>\n",
       "      <td>30</td>\n",
       "    </tr>\n",
       "    <tr>\n",
       "      <th>appeal to emotion</th>\n",
       "      <td>23</td>\n",
       "    </tr>\n",
       "    <tr>\n",
       "      <th>circular reasoning</th>\n",
       "      <td>19</td>\n",
       "    </tr>\n",
       "    <tr>\n",
       "      <th>equivocation</th>\n",
       "      <td>5</td>\n",
       "    </tr>\n",
       "    <tr>\n",
       "      <th>fallacy of credibility</th>\n",
       "      <td>17</td>\n",
       "    </tr>\n",
       "    <tr>\n",
       "      <th>fallacy of extension</th>\n",
       "      <td>21</td>\n",
       "    </tr>\n",
       "    <tr>\n",
       "      <th>fallacy of logic</th>\n",
       "      <td>14</td>\n",
       "    </tr>\n",
       "    <tr>\n",
       "      <th>fallacy of relevance</th>\n",
       "      <td>24</td>\n",
       "    </tr>\n",
       "    <tr>\n",
       "      <th>false causality</th>\n",
       "      <td>18</td>\n",
       "    </tr>\n",
       "    <tr>\n",
       "      <th>false dilemma</th>\n",
       "      <td>12</td>\n",
       "    </tr>\n",
       "    <tr>\n",
       "      <th>faulty generalization</th>\n",
       "      <td>61</td>\n",
       "    </tr>\n",
       "    <tr>\n",
       "      <th>intentional</th>\n",
       "      <td>15</td>\n",
       "    </tr>\n",
       "  </tbody>\n",
       "</table>\n",
       "</div>"
      ],
      "text/plain": [
       "                        source_article\n",
       "updated_label                         \n",
       "ad hominem                          41\n",
       "ad populum                          30\n",
       "appeal to emotion                   23\n",
       "circular reasoning                  19\n",
       "equivocation                         5\n",
       "fallacy of credibility              17\n",
       "fallacy of extension                21\n",
       "fallacy of logic                    14\n",
       "fallacy of relevance                24\n",
       "false causality                     18\n",
       "false dilemma                       12\n",
       "faulty generalization               61\n",
       "intentional                         15"
      ]
     },
     "execution_count": 28,
     "metadata": {},
     "output_type": "execute_result"
    }
   ],
   "source": [
    "dataframe.groupby([\"updated_label\"]).count()"
   ]
  },
  {
   "cell_type": "code",
   "execution_count": 29,
   "metadata": {},
   "outputs": [
    {
     "data": {
      "application/vnd.plotly.v1+json": {
       "config": {
        "plotlyServerURL": "https://plot.ly"
       },
       "data": [
        {
         "alignmentgroup": "True",
         "bingroup": "x",
         "hovertemplate": "updated_label=%{x}<br>count=%{y}<extra></extra>",
         "legendgroup": "",
         "marker": {
          "color": "#636efa",
          "pattern": {
           "shape": ""
          }
         },
         "name": "",
         "offsetgroup": "",
         "orientation": "v",
         "showlegend": false,
         "texttemplate": "%{value}",
         "type": "histogram",
         "x": [
          "fallacy of extension",
          "faulty generalization",
          "fallacy of logic",
          "false causality",
          "faulty generalization",
          "fallacy of extension",
          "fallacy of extension",
          "faulty generalization",
          "fallacy of credibility",
          "circular reasoning",
          "false causality",
          "faulty generalization",
          "ad hominem",
          "ad populum",
          "faulty generalization",
          "intentional",
          "ad populum",
          "fallacy of logic",
          "ad hominem",
          "intentional",
          "circular reasoning",
          "ad populum",
          "fallacy of relevance",
          "circular reasoning",
          "fallacy of extension",
          "fallacy of relevance",
          "ad hominem",
          "ad hominem",
          "faulty generalization",
          "ad hominem",
          "faulty generalization",
          "circular reasoning",
          "circular reasoning",
          "fallacy of credibility",
          "appeal to emotion",
          "fallacy of relevance",
          "false causality",
          "ad populum",
          "faulty generalization",
          "ad populum",
          "fallacy of credibility",
          "intentional",
          "ad hominem",
          "intentional",
          "ad populum",
          "appeal to emotion",
          "intentional",
          "ad hominem",
          "fallacy of credibility",
          "fallacy of logic",
          "circular reasoning",
          "faulty generalization",
          "appeal to emotion",
          "equivocation",
          "fallacy of relevance",
          "circular reasoning",
          "intentional",
          "faulty generalization",
          "faulty generalization",
          "false dilemma",
          "fallacy of logic",
          "faulty generalization",
          "ad hominem",
          "false dilemma",
          "intentional",
          "ad hominem",
          "ad populum",
          "fallacy of relevance",
          "intentional",
          "fallacy of credibility",
          "false dilemma",
          "fallacy of credibility",
          "ad populum",
          "fallacy of relevance",
          "ad hominem",
          "intentional",
          "ad populum",
          "fallacy of logic",
          "false dilemma",
          "intentional",
          "fallacy of logic",
          "fallacy of logic",
          "appeal to emotion",
          "ad hominem",
          "appeal to emotion",
          "false dilemma",
          "faulty generalization",
          "ad hominem",
          "fallacy of extension",
          "ad hominem",
          "false dilemma",
          "false causality",
          "fallacy of credibility",
          "fallacy of credibility",
          "ad hominem",
          "false causality",
          "ad populum",
          "appeal to emotion",
          "fallacy of relevance",
          "false causality",
          "ad hominem",
          "appeal to emotion",
          "ad hominem",
          "fallacy of logic",
          "faulty generalization",
          "false causality",
          "fallacy of extension",
          "fallacy of extension",
          "false causality",
          "circular reasoning",
          "intentional",
          "fallacy of logic",
          "faulty generalization",
          "faulty generalization",
          "faulty generalization",
          "false dilemma",
          "appeal to emotion",
          "fallacy of relevance",
          "false causality",
          "ad hominem",
          "fallacy of logic",
          "circular reasoning",
          "faulty generalization",
          "faulty generalization",
          "intentional",
          "fallacy of relevance",
          "ad hominem",
          "equivocation",
          "faulty generalization",
          "fallacy of credibility",
          "fallacy of relevance",
          "faulty generalization",
          "ad populum",
          "fallacy of credibility",
          "faulty generalization",
          "fallacy of logic",
          "faulty generalization",
          "ad hominem",
          "faulty generalization",
          "ad hominem",
          "faulty generalization",
          "fallacy of extension",
          "ad hominem",
          "faulty generalization",
          "faulty generalization",
          "fallacy of relevance",
          "faulty generalization",
          "ad populum",
          "fallacy of relevance",
          "fallacy of extension",
          "fallacy of credibility",
          "ad hominem",
          "faulty generalization",
          "false causality",
          "ad hominem",
          "ad populum",
          "fallacy of credibility",
          "ad hominem",
          "ad populum",
          "fallacy of relevance",
          "fallacy of relevance",
          "ad hominem",
          "appeal to emotion",
          "faulty generalization",
          "faulty generalization",
          "ad hominem",
          "fallacy of extension",
          "fallacy of credibility",
          "fallacy of extension",
          "faulty generalization",
          "appeal to emotion",
          "appeal to emotion",
          "fallacy of logic",
          "false causality",
          "faulty generalization",
          "ad populum",
          "faulty generalization",
          "ad populum",
          "fallacy of relevance",
          "false causality",
          "fallacy of relevance",
          "fallacy of extension",
          "circular reasoning",
          "fallacy of relevance",
          "false dilemma",
          "ad populum",
          "appeal to emotion",
          "ad hominem",
          "faulty generalization",
          "faulty generalization",
          "circular reasoning",
          "fallacy of relevance",
          "fallacy of extension",
          "appeal to emotion",
          "equivocation",
          "ad populum",
          "faulty generalization",
          "faulty generalization",
          "faulty generalization",
          "faulty generalization",
          "ad hominem",
          "faulty generalization",
          "appeal to emotion",
          "ad populum",
          "fallacy of relevance",
          "ad populum",
          "false causality",
          "ad hominem",
          "ad populum",
          "faulty generalization",
          "ad populum",
          "fallacy of credibility",
          "ad populum",
          "fallacy of extension",
          "fallacy of credibility",
          "ad hominem",
          "fallacy of relevance",
          "ad hominem",
          "ad populum",
          "false dilemma",
          "faulty generalization",
          "false causality",
          "ad hominem",
          "faulty generalization",
          "intentional",
          "appeal to emotion",
          "equivocation",
          "ad hominem",
          "faulty generalization",
          "appeal to emotion",
          "intentional",
          "appeal to emotion",
          "faulty generalization",
          "fallacy of logic",
          "circular reasoning",
          "appeal to emotion",
          "appeal to emotion",
          "fallacy of relevance",
          "circular reasoning",
          "ad hominem",
          "appeal to emotion",
          "faulty generalization",
          "fallacy of relevance",
          "fallacy of relevance",
          "false causality",
          "circular reasoning",
          "faulty generalization",
          "fallacy of extension",
          "faulty generalization",
          "ad hominem",
          "circular reasoning",
          "appeal to emotion",
          "fallacy of relevance",
          "false dilemma",
          "intentional",
          "faulty generalization",
          "fallacy of credibility",
          "false dilemma",
          "fallacy of extension",
          "false causality",
          "faulty generalization",
          "fallacy of extension",
          "circular reasoning",
          "ad populum",
          "fallacy of extension",
          "circular reasoning",
          "fallacy of logic",
          "faulty generalization",
          "fallacy of extension",
          "appeal to emotion",
          "faulty generalization",
          "equivocation",
          "false dilemma",
          "false causality",
          "appeal to emotion",
          "ad hominem",
          "faulty generalization",
          "fallacy of credibility",
          "ad populum",
          "faulty generalization",
          "fallacy of extension",
          "faulty generalization",
          "false causality",
          "faulty generalization",
          "ad hominem",
          "ad hominem",
          "ad hominem",
          "faulty generalization",
          "faulty generalization",
          "ad hominem",
          "ad populum",
          "faulty generalization",
          "ad populum",
          "ad hominem",
          "circular reasoning",
          "ad populum",
          "fallacy of extension",
          "ad populum",
          "faulty generalization",
          "circular reasoning"
         ],
         "xaxis": "x",
         "yaxis": "y"
        }
       ],
       "layout": {
        "barmode": "relative",
        "legend": {
         "tracegroupgap": 0
        },
        "margin": {
         "t": 60
        },
        "template": {
         "data": {
          "bar": [
           {
            "error_x": {
             "color": "#2a3f5f"
            },
            "error_y": {
             "color": "#2a3f5f"
            },
            "marker": {
             "line": {
              "color": "#E5ECF6",
              "width": 0.5
             },
             "pattern": {
              "fillmode": "overlay",
              "size": 10,
              "solidity": 0.2
             }
            },
            "type": "bar"
           }
          ],
          "barpolar": [
           {
            "marker": {
             "line": {
              "color": "#E5ECF6",
              "width": 0.5
             },
             "pattern": {
              "fillmode": "overlay",
              "size": 10,
              "solidity": 0.2
             }
            },
            "type": "barpolar"
           }
          ],
          "carpet": [
           {
            "aaxis": {
             "endlinecolor": "#2a3f5f",
             "gridcolor": "white",
             "linecolor": "white",
             "minorgridcolor": "white",
             "startlinecolor": "#2a3f5f"
            },
            "baxis": {
             "endlinecolor": "#2a3f5f",
             "gridcolor": "white",
             "linecolor": "white",
             "minorgridcolor": "white",
             "startlinecolor": "#2a3f5f"
            },
            "type": "carpet"
           }
          ],
          "choropleth": [
           {
            "colorbar": {
             "outlinewidth": 0,
             "ticks": ""
            },
            "type": "choropleth"
           }
          ],
          "contour": [
           {
            "colorbar": {
             "outlinewidth": 0,
             "ticks": ""
            },
            "colorscale": [
             [
              0,
              "#0d0887"
             ],
             [
              0.1111111111111111,
              "#46039f"
             ],
             [
              0.2222222222222222,
              "#7201a8"
             ],
             [
              0.3333333333333333,
              "#9c179e"
             ],
             [
              0.4444444444444444,
              "#bd3786"
             ],
             [
              0.5555555555555556,
              "#d8576b"
             ],
             [
              0.6666666666666666,
              "#ed7953"
             ],
             [
              0.7777777777777778,
              "#fb9f3a"
             ],
             [
              0.8888888888888888,
              "#fdca26"
             ],
             [
              1,
              "#f0f921"
             ]
            ],
            "type": "contour"
           }
          ],
          "contourcarpet": [
           {
            "colorbar": {
             "outlinewidth": 0,
             "ticks": ""
            },
            "type": "contourcarpet"
           }
          ],
          "heatmap": [
           {
            "colorbar": {
             "outlinewidth": 0,
             "ticks": ""
            },
            "colorscale": [
             [
              0,
              "#0d0887"
             ],
             [
              0.1111111111111111,
              "#46039f"
             ],
             [
              0.2222222222222222,
              "#7201a8"
             ],
             [
              0.3333333333333333,
              "#9c179e"
             ],
             [
              0.4444444444444444,
              "#bd3786"
             ],
             [
              0.5555555555555556,
              "#d8576b"
             ],
             [
              0.6666666666666666,
              "#ed7953"
             ],
             [
              0.7777777777777778,
              "#fb9f3a"
             ],
             [
              0.8888888888888888,
              "#fdca26"
             ],
             [
              1,
              "#f0f921"
             ]
            ],
            "type": "heatmap"
           }
          ],
          "heatmapgl": [
           {
            "colorbar": {
             "outlinewidth": 0,
             "ticks": ""
            },
            "colorscale": [
             [
              0,
              "#0d0887"
             ],
             [
              0.1111111111111111,
              "#46039f"
             ],
             [
              0.2222222222222222,
              "#7201a8"
             ],
             [
              0.3333333333333333,
              "#9c179e"
             ],
             [
              0.4444444444444444,
              "#bd3786"
             ],
             [
              0.5555555555555556,
              "#d8576b"
             ],
             [
              0.6666666666666666,
              "#ed7953"
             ],
             [
              0.7777777777777778,
              "#fb9f3a"
             ],
             [
              0.8888888888888888,
              "#fdca26"
             ],
             [
              1,
              "#f0f921"
             ]
            ],
            "type": "heatmapgl"
           }
          ],
          "histogram": [
           {
            "marker": {
             "pattern": {
              "fillmode": "overlay",
              "size": 10,
              "solidity": 0.2
             }
            },
            "type": "histogram"
           }
          ],
          "histogram2d": [
           {
            "colorbar": {
             "outlinewidth": 0,
             "ticks": ""
            },
            "colorscale": [
             [
              0,
              "#0d0887"
             ],
             [
              0.1111111111111111,
              "#46039f"
             ],
             [
              0.2222222222222222,
              "#7201a8"
             ],
             [
              0.3333333333333333,
              "#9c179e"
             ],
             [
              0.4444444444444444,
              "#bd3786"
             ],
             [
              0.5555555555555556,
              "#d8576b"
             ],
             [
              0.6666666666666666,
              "#ed7953"
             ],
             [
              0.7777777777777778,
              "#fb9f3a"
             ],
             [
              0.8888888888888888,
              "#fdca26"
             ],
             [
              1,
              "#f0f921"
             ]
            ],
            "type": "histogram2d"
           }
          ],
          "histogram2dcontour": [
           {
            "colorbar": {
             "outlinewidth": 0,
             "ticks": ""
            },
            "colorscale": [
             [
              0,
              "#0d0887"
             ],
             [
              0.1111111111111111,
              "#46039f"
             ],
             [
              0.2222222222222222,
              "#7201a8"
             ],
             [
              0.3333333333333333,
              "#9c179e"
             ],
             [
              0.4444444444444444,
              "#bd3786"
             ],
             [
              0.5555555555555556,
              "#d8576b"
             ],
             [
              0.6666666666666666,
              "#ed7953"
             ],
             [
              0.7777777777777778,
              "#fb9f3a"
             ],
             [
              0.8888888888888888,
              "#fdca26"
             ],
             [
              1,
              "#f0f921"
             ]
            ],
            "type": "histogram2dcontour"
           }
          ],
          "mesh3d": [
           {
            "colorbar": {
             "outlinewidth": 0,
             "ticks": ""
            },
            "type": "mesh3d"
           }
          ],
          "parcoords": [
           {
            "line": {
             "colorbar": {
              "outlinewidth": 0,
              "ticks": ""
             }
            },
            "type": "parcoords"
           }
          ],
          "pie": [
           {
            "automargin": true,
            "type": "pie"
           }
          ],
          "scatter": [
           {
            "fillpattern": {
             "fillmode": "overlay",
             "size": 10,
             "solidity": 0.2
            },
            "type": "scatter"
           }
          ],
          "scatter3d": [
           {
            "line": {
             "colorbar": {
              "outlinewidth": 0,
              "ticks": ""
             }
            },
            "marker": {
             "colorbar": {
              "outlinewidth": 0,
              "ticks": ""
             }
            },
            "type": "scatter3d"
           }
          ],
          "scattercarpet": [
           {
            "marker": {
             "colorbar": {
              "outlinewidth": 0,
              "ticks": ""
             }
            },
            "type": "scattercarpet"
           }
          ],
          "scattergeo": [
           {
            "marker": {
             "colorbar": {
              "outlinewidth": 0,
              "ticks": ""
             }
            },
            "type": "scattergeo"
           }
          ],
          "scattergl": [
           {
            "marker": {
             "colorbar": {
              "outlinewidth": 0,
              "ticks": ""
             }
            },
            "type": "scattergl"
           }
          ],
          "scattermapbox": [
           {
            "marker": {
             "colorbar": {
              "outlinewidth": 0,
              "ticks": ""
             }
            },
            "type": "scattermapbox"
           }
          ],
          "scatterpolar": [
           {
            "marker": {
             "colorbar": {
              "outlinewidth": 0,
              "ticks": ""
             }
            },
            "type": "scatterpolar"
           }
          ],
          "scatterpolargl": [
           {
            "marker": {
             "colorbar": {
              "outlinewidth": 0,
              "ticks": ""
             }
            },
            "type": "scatterpolargl"
           }
          ],
          "scatterternary": [
           {
            "marker": {
             "colorbar": {
              "outlinewidth": 0,
              "ticks": ""
             }
            },
            "type": "scatterternary"
           }
          ],
          "surface": [
           {
            "colorbar": {
             "outlinewidth": 0,
             "ticks": ""
            },
            "colorscale": [
             [
              0,
              "#0d0887"
             ],
             [
              0.1111111111111111,
              "#46039f"
             ],
             [
              0.2222222222222222,
              "#7201a8"
             ],
             [
              0.3333333333333333,
              "#9c179e"
             ],
             [
              0.4444444444444444,
              "#bd3786"
             ],
             [
              0.5555555555555556,
              "#d8576b"
             ],
             [
              0.6666666666666666,
              "#ed7953"
             ],
             [
              0.7777777777777778,
              "#fb9f3a"
             ],
             [
              0.8888888888888888,
              "#fdca26"
             ],
             [
              1,
              "#f0f921"
             ]
            ],
            "type": "surface"
           }
          ],
          "table": [
           {
            "cells": {
             "fill": {
              "color": "#EBF0F8"
             },
             "line": {
              "color": "white"
             }
            },
            "header": {
             "fill": {
              "color": "#C8D4E3"
             },
             "line": {
              "color": "white"
             }
            },
            "type": "table"
           }
          ]
         },
         "layout": {
          "annotationdefaults": {
           "arrowcolor": "#2a3f5f",
           "arrowhead": 0,
           "arrowwidth": 1
          },
          "autotypenumbers": "strict",
          "coloraxis": {
           "colorbar": {
            "outlinewidth": 0,
            "ticks": ""
           }
          },
          "colorscale": {
           "diverging": [
            [
             0,
             "#8e0152"
            ],
            [
             0.1,
             "#c51b7d"
            ],
            [
             0.2,
             "#de77ae"
            ],
            [
             0.3,
             "#f1b6da"
            ],
            [
             0.4,
             "#fde0ef"
            ],
            [
             0.5,
             "#f7f7f7"
            ],
            [
             0.6,
             "#e6f5d0"
            ],
            [
             0.7,
             "#b8e186"
            ],
            [
             0.8,
             "#7fbc41"
            ],
            [
             0.9,
             "#4d9221"
            ],
            [
             1,
             "#276419"
            ]
           ],
           "sequential": [
            [
             0,
             "#0d0887"
            ],
            [
             0.1111111111111111,
             "#46039f"
            ],
            [
             0.2222222222222222,
             "#7201a8"
            ],
            [
             0.3333333333333333,
             "#9c179e"
            ],
            [
             0.4444444444444444,
             "#bd3786"
            ],
            [
             0.5555555555555556,
             "#d8576b"
            ],
            [
             0.6666666666666666,
             "#ed7953"
            ],
            [
             0.7777777777777778,
             "#fb9f3a"
            ],
            [
             0.8888888888888888,
             "#fdca26"
            ],
            [
             1,
             "#f0f921"
            ]
           ],
           "sequentialminus": [
            [
             0,
             "#0d0887"
            ],
            [
             0.1111111111111111,
             "#46039f"
            ],
            [
             0.2222222222222222,
             "#7201a8"
            ],
            [
             0.3333333333333333,
             "#9c179e"
            ],
            [
             0.4444444444444444,
             "#bd3786"
            ],
            [
             0.5555555555555556,
             "#d8576b"
            ],
            [
             0.6666666666666666,
             "#ed7953"
            ],
            [
             0.7777777777777778,
             "#fb9f3a"
            ],
            [
             0.8888888888888888,
             "#fdca26"
            ],
            [
             1,
             "#f0f921"
            ]
           ]
          },
          "colorway": [
           "#636efa",
           "#EF553B",
           "#00cc96",
           "#ab63fa",
           "#FFA15A",
           "#19d3f3",
           "#FF6692",
           "#B6E880",
           "#FF97FF",
           "#FECB52"
          ],
          "font": {
           "color": "#2a3f5f"
          },
          "geo": {
           "bgcolor": "white",
           "lakecolor": "white",
           "landcolor": "#E5ECF6",
           "showlakes": true,
           "showland": true,
           "subunitcolor": "white"
          },
          "hoverlabel": {
           "align": "left"
          },
          "hovermode": "closest",
          "mapbox": {
           "style": "light"
          },
          "paper_bgcolor": "white",
          "plot_bgcolor": "#E5ECF6",
          "polar": {
           "angularaxis": {
            "gridcolor": "white",
            "linecolor": "white",
            "ticks": ""
           },
           "bgcolor": "#E5ECF6",
           "radialaxis": {
            "gridcolor": "white",
            "linecolor": "white",
            "ticks": ""
           }
          },
          "scene": {
           "xaxis": {
            "backgroundcolor": "#E5ECF6",
            "gridcolor": "white",
            "gridwidth": 2,
            "linecolor": "white",
            "showbackground": true,
            "ticks": "",
            "zerolinecolor": "white"
           },
           "yaxis": {
            "backgroundcolor": "#E5ECF6",
            "gridcolor": "white",
            "gridwidth": 2,
            "linecolor": "white",
            "showbackground": true,
            "ticks": "",
            "zerolinecolor": "white"
           },
           "zaxis": {
            "backgroundcolor": "#E5ECF6",
            "gridcolor": "white",
            "gridwidth": 2,
            "linecolor": "white",
            "showbackground": true,
            "ticks": "",
            "zerolinecolor": "white"
           }
          },
          "shapedefaults": {
           "line": {
            "color": "#2a3f5f"
           }
          },
          "ternary": {
           "aaxis": {
            "gridcolor": "white",
            "linecolor": "white",
            "ticks": ""
           },
           "baxis": {
            "gridcolor": "white",
            "linecolor": "white",
            "ticks": ""
           },
           "bgcolor": "#E5ECF6",
           "caxis": {
            "gridcolor": "white",
            "linecolor": "white",
            "ticks": ""
           }
          },
          "title": {
           "x": 0.05
          },
          "xaxis": {
           "automargin": true,
           "gridcolor": "white",
           "linecolor": "white",
           "ticks": "",
           "title": {
            "standoff": 15
           },
           "zerolinecolor": "white",
           "zerolinewidth": 2
          },
          "yaxis": {
           "automargin": true,
           "gridcolor": "white",
           "linecolor": "white",
           "ticks": "",
           "title": {
            "standoff": 15
           },
           "zerolinecolor": "white",
           "zerolinewidth": 2
          }
         }
        },
        "xaxis": {
         "anchor": "y",
         "domain": [
          0,
          1
         ],
         "title": {
          "text": "updated_label"
         }
        },
        "yaxis": {
         "anchor": "x",
         "domain": [
          0,
          1
         ],
         "title": {
          "text": "count"
         }
        }
       }
      },
      "text/html": [
       "<div>                            <div id=\"c6457103-19bb-486a-8b8b-31d558ffc97d\" class=\"plotly-graph-div\" style=\"height:525px; width:100%;\"></div>            <script type=\"text/javascript\">                require([\"plotly\"], function(Plotly) {                    window.PLOTLYENV=window.PLOTLYENV || {};                                    if (document.getElementById(\"c6457103-19bb-486a-8b8b-31d558ffc97d\")) {                    Plotly.newPlot(                        \"c6457103-19bb-486a-8b8b-31d558ffc97d\",                        [{\"alignmentgroup\":\"True\",\"bingroup\":\"x\",\"hovertemplate\":\"updated_label=%{x}\\u003cbr\\u003ecount=%{y}\\u003cextra\\u003e\\u003c\\u002fextra\\u003e\",\"legendgroup\":\"\",\"marker\":{\"color\":\"#636efa\",\"pattern\":{\"shape\":\"\"}},\"name\":\"\",\"offsetgroup\":\"\",\"orientation\":\"v\",\"showlegend\":false,\"texttemplate\":\"%{value}\",\"x\":[\"fallacy of extension\",\"faulty generalization\",\"fallacy of logic\",\"false causality\",\"faulty generalization\",\"fallacy of extension\",\"fallacy of extension\",\"faulty generalization\",\"fallacy of credibility\",\"circular reasoning\",\"false causality\",\"faulty generalization\",\"ad hominem\",\"ad populum\",\"faulty generalization\",\"intentional\",\"ad populum\",\"fallacy of logic\",\"ad hominem\",\"intentional\",\"circular reasoning\",\"ad populum\",\"fallacy of relevance\",\"circular reasoning\",\"fallacy of extension\",\"fallacy of relevance\",\"ad hominem\",\"ad hominem\",\"faulty generalization\",\"ad hominem\",\"faulty generalization\",\"circular reasoning\",\"circular reasoning\",\"fallacy of credibility\",\"appeal to emotion\",\"fallacy of relevance\",\"false causality\",\"ad populum\",\"faulty generalization\",\"ad populum\",\"fallacy of credibility\",\"intentional\",\"ad hominem\",\"intentional\",\"ad populum\",\"appeal to emotion\",\"intentional\",\"ad hominem\",\"fallacy of credibility\",\"fallacy of logic\",\"circular reasoning\",\"faulty generalization\",\"appeal to emotion\",\"equivocation\",\"fallacy of relevance\",\"circular reasoning\",\"intentional\",\"faulty generalization\",\"faulty generalization\",\"false dilemma\",\"fallacy of logic\",\"faulty generalization\",\"ad hominem\",\"false dilemma\",\"intentional\",\"ad hominem\",\"ad populum\",\"fallacy of relevance\",\"intentional\",\"fallacy of credibility\",\"false dilemma\",\"fallacy of credibility\",\"ad populum\",\"fallacy of relevance\",\"ad hominem\",\"intentional\",\"ad populum\",\"fallacy of logic\",\"false dilemma\",\"intentional\",\"fallacy of logic\",\"fallacy of logic\",\"appeal to emotion\",\"ad hominem\",\"appeal to emotion\",\"false dilemma\",\"faulty generalization\",\"ad hominem\",\"fallacy of extension\",\"ad hominem\",\"false dilemma\",\"false causality\",\"fallacy of credibility\",\"fallacy of credibility\",\"ad hominem\",\"false causality\",\"ad populum\",\"appeal to emotion\",\"fallacy of relevance\",\"false causality\",\"ad hominem\",\"appeal to emotion\",\"ad hominem\",\"fallacy of logic\",\"faulty generalization\",\"false causality\",\"fallacy of extension\",\"fallacy of extension\",\"false causality\",\"circular reasoning\",\"intentional\",\"fallacy of logic\",\"faulty generalization\",\"faulty generalization\",\"faulty generalization\",\"false dilemma\",\"appeal to emotion\",\"fallacy of relevance\",\"false causality\",\"ad hominem\",\"fallacy of logic\",\"circular reasoning\",\"faulty generalization\",\"faulty generalization\",\"intentional\",\"fallacy of relevance\",\"ad hominem\",\"equivocation\",\"faulty generalization\",\"fallacy of credibility\",\"fallacy of relevance\",\"faulty generalization\",\"ad populum\",\"fallacy of credibility\",\"faulty generalization\",\"fallacy of logic\",\"faulty generalization\",\"ad hominem\",\"faulty generalization\",\"ad hominem\",\"faulty generalization\",\"fallacy of extension\",\"ad hominem\",\"faulty generalization\",\"faulty generalization\",\"fallacy of relevance\",\"faulty generalization\",\"ad populum\",\"fallacy of relevance\",\"fallacy of extension\",\"fallacy of credibility\",\"ad hominem\",\"faulty generalization\",\"false causality\",\"ad hominem\",\"ad populum\",\"fallacy of credibility\",\"ad hominem\",\"ad populum\",\"fallacy of relevance\",\"fallacy of relevance\",\"ad hominem\",\"appeal to emotion\",\"faulty generalization\",\"faulty generalization\",\"ad hominem\",\"fallacy of extension\",\"fallacy of credibility\",\"fallacy of extension\",\"faulty generalization\",\"appeal to emotion\",\"appeal to emotion\",\"fallacy of logic\",\"false causality\",\"faulty generalization\",\"ad populum\",\"faulty generalization\",\"ad populum\",\"fallacy of relevance\",\"false causality\",\"fallacy of relevance\",\"fallacy of extension\",\"circular reasoning\",\"fallacy of relevance\",\"false dilemma\",\"ad populum\",\"appeal to emotion\",\"ad hominem\",\"faulty generalization\",\"faulty generalization\",\"circular reasoning\",\"fallacy of relevance\",\"fallacy of extension\",\"appeal to emotion\",\"equivocation\",\"ad populum\",\"faulty generalization\",\"faulty generalization\",\"faulty generalization\",\"faulty generalization\",\"ad hominem\",\"faulty generalization\",\"appeal to emotion\",\"ad populum\",\"fallacy of relevance\",\"ad populum\",\"false causality\",\"ad hominem\",\"ad populum\",\"faulty generalization\",\"ad populum\",\"fallacy of credibility\",\"ad populum\",\"fallacy of extension\",\"fallacy of credibility\",\"ad hominem\",\"fallacy of relevance\",\"ad hominem\",\"ad populum\",\"false dilemma\",\"faulty generalization\",\"false causality\",\"ad hominem\",\"faulty generalization\",\"intentional\",\"appeal to emotion\",\"equivocation\",\"ad hominem\",\"faulty generalization\",\"appeal to emotion\",\"intentional\",\"appeal to emotion\",\"faulty generalization\",\"fallacy of logic\",\"circular reasoning\",\"appeal to emotion\",\"appeal to emotion\",\"fallacy of relevance\",\"circular reasoning\",\"ad hominem\",\"appeal to emotion\",\"faulty generalization\",\"fallacy of relevance\",\"fallacy of relevance\",\"false causality\",\"circular reasoning\",\"faulty generalization\",\"fallacy of extension\",\"faulty generalization\",\"ad hominem\",\"circular reasoning\",\"appeal to emotion\",\"fallacy of relevance\",\"false dilemma\",\"intentional\",\"faulty generalization\",\"fallacy of credibility\",\"false dilemma\",\"fallacy of extension\",\"false causality\",\"faulty generalization\",\"fallacy of extension\",\"circular reasoning\",\"ad populum\",\"fallacy of extension\",\"circular reasoning\",\"fallacy of logic\",\"faulty generalization\",\"fallacy of extension\",\"appeal to emotion\",\"faulty generalization\",\"equivocation\",\"false dilemma\",\"false causality\",\"appeal to emotion\",\"ad hominem\",\"faulty generalization\",\"fallacy of credibility\",\"ad populum\",\"faulty generalization\",\"fallacy of extension\",\"faulty generalization\",\"false causality\",\"faulty generalization\",\"ad hominem\",\"ad hominem\",\"ad hominem\",\"faulty generalization\",\"faulty generalization\",\"ad hominem\",\"ad populum\",\"faulty generalization\",\"ad populum\",\"ad hominem\",\"circular reasoning\",\"ad populum\",\"fallacy of extension\",\"ad populum\",\"faulty generalization\",\"circular reasoning\"],\"xaxis\":\"x\",\"yaxis\":\"y\",\"type\":\"histogram\"}],                        {\"template\":{\"data\":{\"histogram2dcontour\":[{\"type\":\"histogram2dcontour\",\"colorbar\":{\"outlinewidth\":0,\"ticks\":\"\"},\"colorscale\":[[0.0,\"#0d0887\"],[0.1111111111111111,\"#46039f\"],[0.2222222222222222,\"#7201a8\"],[0.3333333333333333,\"#9c179e\"],[0.4444444444444444,\"#bd3786\"],[0.5555555555555556,\"#d8576b\"],[0.6666666666666666,\"#ed7953\"],[0.7777777777777778,\"#fb9f3a\"],[0.8888888888888888,\"#fdca26\"],[1.0,\"#f0f921\"]]}],\"choropleth\":[{\"type\":\"choropleth\",\"colorbar\":{\"outlinewidth\":0,\"ticks\":\"\"}}],\"histogram2d\":[{\"type\":\"histogram2d\",\"colorbar\":{\"outlinewidth\":0,\"ticks\":\"\"},\"colorscale\":[[0.0,\"#0d0887\"],[0.1111111111111111,\"#46039f\"],[0.2222222222222222,\"#7201a8\"],[0.3333333333333333,\"#9c179e\"],[0.4444444444444444,\"#bd3786\"],[0.5555555555555556,\"#d8576b\"],[0.6666666666666666,\"#ed7953\"],[0.7777777777777778,\"#fb9f3a\"],[0.8888888888888888,\"#fdca26\"],[1.0,\"#f0f921\"]]}],\"heatmap\":[{\"type\":\"heatmap\",\"colorbar\":{\"outlinewidth\":0,\"ticks\":\"\"},\"colorscale\":[[0.0,\"#0d0887\"],[0.1111111111111111,\"#46039f\"],[0.2222222222222222,\"#7201a8\"],[0.3333333333333333,\"#9c179e\"],[0.4444444444444444,\"#bd3786\"],[0.5555555555555556,\"#d8576b\"],[0.6666666666666666,\"#ed7953\"],[0.7777777777777778,\"#fb9f3a\"],[0.8888888888888888,\"#fdca26\"],[1.0,\"#f0f921\"]]}],\"heatmapgl\":[{\"type\":\"heatmapgl\",\"colorbar\":{\"outlinewidth\":0,\"ticks\":\"\"},\"colorscale\":[[0.0,\"#0d0887\"],[0.1111111111111111,\"#46039f\"],[0.2222222222222222,\"#7201a8\"],[0.3333333333333333,\"#9c179e\"],[0.4444444444444444,\"#bd3786\"],[0.5555555555555556,\"#d8576b\"],[0.6666666666666666,\"#ed7953\"],[0.7777777777777778,\"#fb9f3a\"],[0.8888888888888888,\"#fdca26\"],[1.0,\"#f0f921\"]]}],\"contourcarpet\":[{\"type\":\"contourcarpet\",\"colorbar\":{\"outlinewidth\":0,\"ticks\":\"\"}}],\"contour\":[{\"type\":\"contour\",\"colorbar\":{\"outlinewidth\":0,\"ticks\":\"\"},\"colorscale\":[[0.0,\"#0d0887\"],[0.1111111111111111,\"#46039f\"],[0.2222222222222222,\"#7201a8\"],[0.3333333333333333,\"#9c179e\"],[0.4444444444444444,\"#bd3786\"],[0.5555555555555556,\"#d8576b\"],[0.6666666666666666,\"#ed7953\"],[0.7777777777777778,\"#fb9f3a\"],[0.8888888888888888,\"#fdca26\"],[1.0,\"#f0f921\"]]}],\"surface\":[{\"type\":\"surface\",\"colorbar\":{\"outlinewidth\":0,\"ticks\":\"\"},\"colorscale\":[[0.0,\"#0d0887\"],[0.1111111111111111,\"#46039f\"],[0.2222222222222222,\"#7201a8\"],[0.3333333333333333,\"#9c179e\"],[0.4444444444444444,\"#bd3786\"],[0.5555555555555556,\"#d8576b\"],[0.6666666666666666,\"#ed7953\"],[0.7777777777777778,\"#fb9f3a\"],[0.8888888888888888,\"#fdca26\"],[1.0,\"#f0f921\"]]}],\"mesh3d\":[{\"type\":\"mesh3d\",\"colorbar\":{\"outlinewidth\":0,\"ticks\":\"\"}}],\"scatter\":[{\"fillpattern\":{\"fillmode\":\"overlay\",\"size\":10,\"solidity\":0.2},\"type\":\"scatter\"}],\"parcoords\":[{\"type\":\"parcoords\",\"line\":{\"colorbar\":{\"outlinewidth\":0,\"ticks\":\"\"}}}],\"scatterpolargl\":[{\"type\":\"scatterpolargl\",\"marker\":{\"colorbar\":{\"outlinewidth\":0,\"ticks\":\"\"}}}],\"bar\":[{\"error_x\":{\"color\":\"#2a3f5f\"},\"error_y\":{\"color\":\"#2a3f5f\"},\"marker\":{\"line\":{\"color\":\"#E5ECF6\",\"width\":0.5},\"pattern\":{\"fillmode\":\"overlay\",\"size\":10,\"solidity\":0.2}},\"type\":\"bar\"}],\"scattergeo\":[{\"type\":\"scattergeo\",\"marker\":{\"colorbar\":{\"outlinewidth\":0,\"ticks\":\"\"}}}],\"scatterpolar\":[{\"type\":\"scatterpolar\",\"marker\":{\"colorbar\":{\"outlinewidth\":0,\"ticks\":\"\"}}}],\"histogram\":[{\"marker\":{\"pattern\":{\"fillmode\":\"overlay\",\"size\":10,\"solidity\":0.2}},\"type\":\"histogram\"}],\"scattergl\":[{\"type\":\"scattergl\",\"marker\":{\"colorbar\":{\"outlinewidth\":0,\"ticks\":\"\"}}}],\"scatter3d\":[{\"type\":\"scatter3d\",\"line\":{\"colorbar\":{\"outlinewidth\":0,\"ticks\":\"\"}},\"marker\":{\"colorbar\":{\"outlinewidth\":0,\"ticks\":\"\"}}}],\"scattermapbox\":[{\"type\":\"scattermapbox\",\"marker\":{\"colorbar\":{\"outlinewidth\":0,\"ticks\":\"\"}}}],\"scatterternary\":[{\"type\":\"scatterternary\",\"marker\":{\"colorbar\":{\"outlinewidth\":0,\"ticks\":\"\"}}}],\"scattercarpet\":[{\"type\":\"scattercarpet\",\"marker\":{\"colorbar\":{\"outlinewidth\":0,\"ticks\":\"\"}}}],\"carpet\":[{\"aaxis\":{\"endlinecolor\":\"#2a3f5f\",\"gridcolor\":\"white\",\"linecolor\":\"white\",\"minorgridcolor\":\"white\",\"startlinecolor\":\"#2a3f5f\"},\"baxis\":{\"endlinecolor\":\"#2a3f5f\",\"gridcolor\":\"white\",\"linecolor\":\"white\",\"minorgridcolor\":\"white\",\"startlinecolor\":\"#2a3f5f\"},\"type\":\"carpet\"}],\"table\":[{\"cells\":{\"fill\":{\"color\":\"#EBF0F8\"},\"line\":{\"color\":\"white\"}},\"header\":{\"fill\":{\"color\":\"#C8D4E3\"},\"line\":{\"color\":\"white\"}},\"type\":\"table\"}],\"barpolar\":[{\"marker\":{\"line\":{\"color\":\"#E5ECF6\",\"width\":0.5},\"pattern\":{\"fillmode\":\"overlay\",\"size\":10,\"solidity\":0.2}},\"type\":\"barpolar\"}],\"pie\":[{\"automargin\":true,\"type\":\"pie\"}]},\"layout\":{\"autotypenumbers\":\"strict\",\"colorway\":[\"#636efa\",\"#EF553B\",\"#00cc96\",\"#ab63fa\",\"#FFA15A\",\"#19d3f3\",\"#FF6692\",\"#B6E880\",\"#FF97FF\",\"#FECB52\"],\"font\":{\"color\":\"#2a3f5f\"},\"hovermode\":\"closest\",\"hoverlabel\":{\"align\":\"left\"},\"paper_bgcolor\":\"white\",\"plot_bgcolor\":\"#E5ECF6\",\"polar\":{\"bgcolor\":\"#E5ECF6\",\"angularaxis\":{\"gridcolor\":\"white\",\"linecolor\":\"white\",\"ticks\":\"\"},\"radialaxis\":{\"gridcolor\":\"white\",\"linecolor\":\"white\",\"ticks\":\"\"}},\"ternary\":{\"bgcolor\":\"#E5ECF6\",\"aaxis\":{\"gridcolor\":\"white\",\"linecolor\":\"white\",\"ticks\":\"\"},\"baxis\":{\"gridcolor\":\"white\",\"linecolor\":\"white\",\"ticks\":\"\"},\"caxis\":{\"gridcolor\":\"white\",\"linecolor\":\"white\",\"ticks\":\"\"}},\"coloraxis\":{\"colorbar\":{\"outlinewidth\":0,\"ticks\":\"\"}},\"colorscale\":{\"sequential\":[[0.0,\"#0d0887\"],[0.1111111111111111,\"#46039f\"],[0.2222222222222222,\"#7201a8\"],[0.3333333333333333,\"#9c179e\"],[0.4444444444444444,\"#bd3786\"],[0.5555555555555556,\"#d8576b\"],[0.6666666666666666,\"#ed7953\"],[0.7777777777777778,\"#fb9f3a\"],[0.8888888888888888,\"#fdca26\"],[1.0,\"#f0f921\"]],\"sequentialminus\":[[0.0,\"#0d0887\"],[0.1111111111111111,\"#46039f\"],[0.2222222222222222,\"#7201a8\"],[0.3333333333333333,\"#9c179e\"],[0.4444444444444444,\"#bd3786\"],[0.5555555555555556,\"#d8576b\"],[0.6666666666666666,\"#ed7953\"],[0.7777777777777778,\"#fb9f3a\"],[0.8888888888888888,\"#fdca26\"],[1.0,\"#f0f921\"]],\"diverging\":[[0,\"#8e0152\"],[0.1,\"#c51b7d\"],[0.2,\"#de77ae\"],[0.3,\"#f1b6da\"],[0.4,\"#fde0ef\"],[0.5,\"#f7f7f7\"],[0.6,\"#e6f5d0\"],[0.7,\"#b8e186\"],[0.8,\"#7fbc41\"],[0.9,\"#4d9221\"],[1,\"#276419\"]]},\"xaxis\":{\"gridcolor\":\"white\",\"linecolor\":\"white\",\"ticks\":\"\",\"title\":{\"standoff\":15},\"zerolinecolor\":\"white\",\"automargin\":true,\"zerolinewidth\":2},\"yaxis\":{\"gridcolor\":\"white\",\"linecolor\":\"white\",\"ticks\":\"\",\"title\":{\"standoff\":15},\"zerolinecolor\":\"white\",\"automargin\":true,\"zerolinewidth\":2},\"scene\":{\"xaxis\":{\"backgroundcolor\":\"#E5ECF6\",\"gridcolor\":\"white\",\"linecolor\":\"white\",\"showbackground\":true,\"ticks\":\"\",\"zerolinecolor\":\"white\",\"gridwidth\":2},\"yaxis\":{\"backgroundcolor\":\"#E5ECF6\",\"gridcolor\":\"white\",\"linecolor\":\"white\",\"showbackground\":true,\"ticks\":\"\",\"zerolinecolor\":\"white\",\"gridwidth\":2},\"zaxis\":{\"backgroundcolor\":\"#E5ECF6\",\"gridcolor\":\"white\",\"linecolor\":\"white\",\"showbackground\":true,\"ticks\":\"\",\"zerolinecolor\":\"white\",\"gridwidth\":2}},\"shapedefaults\":{\"line\":{\"color\":\"#2a3f5f\"}},\"annotationdefaults\":{\"arrowcolor\":\"#2a3f5f\",\"arrowhead\":0,\"arrowwidth\":1},\"geo\":{\"bgcolor\":\"white\",\"landcolor\":\"#E5ECF6\",\"subunitcolor\":\"white\",\"showland\":true,\"showlakes\":true,\"lakecolor\":\"white\"},\"title\":{\"x\":0.05},\"mapbox\":{\"style\":\"light\"}}},\"xaxis\":{\"anchor\":\"y\",\"domain\":[0.0,1.0],\"title\":{\"text\":\"updated_label\"}},\"yaxis\":{\"anchor\":\"x\",\"domain\":[0.0,1.0],\"title\":{\"text\":\"count\"}},\"legend\":{\"tracegroupgap\":0},\"margin\":{\"t\":60},\"barmode\":\"relative\"},                        {\"responsive\": true}                    ).then(function(){\n",
       "                            \n",
       "var gd = document.getElementById('c6457103-19bb-486a-8b8b-31d558ffc97d');\n",
       "var x = new MutationObserver(function (mutations, observer) {{\n",
       "        var display = window.getComputedStyle(gd).display;\n",
       "        if (!display || display === 'none') {{\n",
       "            console.log([gd, 'removed!']);\n",
       "            Plotly.purge(gd);\n",
       "            observer.disconnect();\n",
       "        }}\n",
       "}});\n",
       "\n",
       "// Listen for the removal of the full notebook cells\n",
       "var notebookContainer = gd.closest('#notebook-container');\n",
       "if (notebookContainer) {{\n",
       "    x.observe(notebookContainer, {childList: true});\n",
       "}}\n",
       "\n",
       "// Listen for the clearing of the current output cell\n",
       "var outputEl = gd.closest('.output');\n",
       "if (outputEl) {{\n",
       "    x.observe(outputEl, {childList: true});\n",
       "}}\n",
       "\n",
       "                        })                };                });            </script>        </div>"
      ]
     },
     "metadata": {},
     "output_type": "display_data"
    }
   ],
   "source": [
    "import plotly.express as px\n",
    "\n",
    "px.histogram(dataframe, x=\"updated_label\", text_auto=True)"
   ]
  },
  {
   "cell_type": "markdown",
   "metadata": {},
   "source": [
    "# From Fine Grained to coarse grained"
   ]
  },
  {
   "cell_type": "code",
   "execution_count": 30,
   "metadata": {},
   "outputs": [
    {
     "data": {
      "text/plain": [
       "{'ad hominem': 'Fallacy of Relevance',\n",
       " 'ad populum': 'Fallacy of Relevance',\n",
       " 'appeal to emotion': 'Fallacy of Relevance',\n",
       " 'intentional': 'Fallacy of Relevance',\n",
       " 'fallacy of extension': 'Fallacy of Relevance',\n",
       " 'fallacy of relevance': 'Fallacy of Relevance',\n",
       " 'false causality': 'Fallacy of Defective Induction',\n",
       " 'false dilemma': 'Fallacy of Defective Induction',\n",
       " 'faulty generalization': 'Fallacy of Defective Induction',\n",
       " 'fallacy of logic': 'Fallacy of Defective Induction',\n",
       " 'fallacy of credibility': 'Fallacy of Defective Induction',\n",
       " 'circular reasoning': 'Fallacy of Presumption',\n",
       " 'equivocation': 'Fallacy of Ambiguity',\n",
       " 'miscellaneous': 'Fallacy of Ambiguity'}"
      ]
     },
     "execution_count": 30,
     "metadata": {},
     "output_type": "execute_result"
    }
   ],
   "source": [
    "mappings = {\"Fallacy of Relevance\" : [\"ad hominem\", \"ad populum\", \"appeal to emotion\", \"intentional\", \"fallacy of extension\", \"fallacy of relevance\"],\n",
    "           \"Fallacy of Defective Induction\": [\"false causality\", \"false dilemma\", \"faulty generalization\", \"fallacy of logic\", \"fallacy of credibility\"],\n",
    "           \"Fallacy of Presumption\": [\"circular reasoning\"],\n",
    "           \"Fallacy of Ambiguity\": [\"equivocation\", \"miscellaneous\"]\n",
    "           }\n",
    "\n",
    "reverse_mappings = {value:key for key in mappings.keys() for value in mappings[key] }\n",
    "reverse_mappings"
   ]
  },
  {
   "cell_type": "code",
   "execution_count": 31,
   "metadata": {},
   "outputs": [
    {
     "data": {
      "text/html": [
       "<div>\n",
       "<style scoped>\n",
       "    .dataframe tbody tr th:only-of-type {\n",
       "        vertical-align: middle;\n",
       "    }\n",
       "\n",
       "    .dataframe tbody tr th {\n",
       "        vertical-align: top;\n",
       "    }\n",
       "\n",
       "    .dataframe thead th {\n",
       "        text-align: right;\n",
       "    }\n",
       "</style>\n",
       "<table border=\"1\" class=\"dataframe\">\n",
       "  <thead>\n",
       "    <tr style=\"text-align: right;\">\n",
       "      <th></th>\n",
       "      <th>source_article</th>\n",
       "      <th>updated_label</th>\n",
       "      <th>coarse_label</th>\n",
       "    </tr>\n",
       "  </thead>\n",
       "  <tbody>\n",
       "    <tr>\n",
       "      <th>0</th>\n",
       "      <td>People who drive big cars probably hate the en...</td>\n",
       "      <td>fallacy of extension</td>\n",
       "      <td>fallacy of relevance</td>\n",
       "    </tr>\n",
       "    <tr>\n",
       "      <th>1</th>\n",
       "      <td>White men can't jump. No, really, they can't!</td>\n",
       "      <td>faulty generalization</td>\n",
       "      <td>fallacy of defective induction</td>\n",
       "    </tr>\n",
       "    <tr>\n",
       "      <th>2</th>\n",
       "      <td>'Cotton and grain crops were lower this year t...</td>\n",
       "      <td>fallacy of logic</td>\n",
       "      <td>fallacy of defective induction</td>\n",
       "    </tr>\n",
       "    <tr>\n",
       "      <th>3</th>\n",
       "      <td>\"Why are you hitting your computer!?\"\\n\"The la...</td>\n",
       "      <td>false causality</td>\n",
       "      <td>fallacy of defective induction</td>\n",
       "    </tr>\n",
       "    <tr>\n",
       "      <th>4</th>\n",
       "      <td>All students are good and all clowns are bad.</td>\n",
       "      <td>faulty generalization</td>\n",
       "      <td>fallacy of defective induction</td>\n",
       "    </tr>\n",
       "    <tr>\n",
       "      <th>...</th>\n",
       "      <td>...</td>\n",
       "      <td>...</td>\n",
       "      <td>...</td>\n",
       "    </tr>\n",
       "    <tr>\n",
       "      <th>295</th>\n",
       "      <td>An influencer posts on Instagram that the rest...</td>\n",
       "      <td>ad populum</td>\n",
       "      <td>fallacy of relevance</td>\n",
       "    </tr>\n",
       "    <tr>\n",
       "      <th>296</th>\n",
       "      <td>Senator Smith says we should cut back the Defe...</td>\n",
       "      <td>fallacy of extension</td>\n",
       "      <td>fallacy of relevance</td>\n",
       "    </tr>\n",
       "    <tr>\n",
       "      <th>297</th>\n",
       "      <td>Going to prom (when you don't want to) because...</td>\n",
       "      <td>ad populum</td>\n",
       "      <td>fallacy of relevance</td>\n",
       "    </tr>\n",
       "    <tr>\n",
       "      <th>298</th>\n",
       "      <td>While jogging around the neighborhood, you are...</td>\n",
       "      <td>faulty generalization</td>\n",
       "      <td>fallacy of defective induction</td>\n",
       "    </tr>\n",
       "    <tr>\n",
       "      <th>299</th>\n",
       "      <td>“It’s important to argue logically because log...</td>\n",
       "      <td>circular reasoning</td>\n",
       "      <td>fallacy of presumption</td>\n",
       "    </tr>\n",
       "  </tbody>\n",
       "</table>\n",
       "<p>300 rows × 3 columns</p>\n",
       "</div>"
      ],
      "text/plain": [
       "                                        source_article          updated_label  \\\n",
       "0    People who drive big cars probably hate the en...   fallacy of extension   \n",
       "1        White men can't jump. No, really, they can't!  faulty generalization   \n",
       "2    'Cotton and grain crops were lower this year t...       fallacy of logic   \n",
       "3    \"Why are you hitting your computer!?\"\\n\"The la...        false causality   \n",
       "4        All students are good and all clowns are bad.  faulty generalization   \n",
       "..                                                 ...                    ...   \n",
       "295  An influencer posts on Instagram that the rest...             ad populum   \n",
       "296  Senator Smith says we should cut back the Defe...   fallacy of extension   \n",
       "297  Going to prom (when you don't want to) because...             ad populum   \n",
       "298  While jogging around the neighborhood, you are...  faulty generalization   \n",
       "299  “It’s important to argue logically because log...     circular reasoning   \n",
       "\n",
       "                       coarse_label  \n",
       "0              fallacy of relevance  \n",
       "1    fallacy of defective induction  \n",
       "2    fallacy of defective induction  \n",
       "3    fallacy of defective induction  \n",
       "4    fallacy of defective induction  \n",
       "..                              ...  \n",
       "295            fallacy of relevance  \n",
       "296            fallacy of relevance  \n",
       "297            fallacy of relevance  \n",
       "298  fallacy of defective induction  \n",
       "299          fallacy of presumption  \n",
       "\n",
       "[300 rows x 3 columns]"
      ]
     },
     "execution_count": 31,
     "metadata": {},
     "output_type": "execute_result"
    }
   ],
   "source": [
    "def map_to_coarse_grained(fine_grained):\n",
    "    return reverse_mappings[fine_grained].lower()\n",
    "dataframe[\"coarse_label\"] = dataframe[\"updated_label\"].map(map_to_coarse_grained)\n",
    "\n",
    "dataframe"
   ]
  },
  {
   "cell_type": "code",
   "execution_count": 32,
   "metadata": {},
   "outputs": [
    {
     "data": {
      "text/html": [
       "<div>\n",
       "<style scoped>\n",
       "    .dataframe tbody tr th:only-of-type {\n",
       "        vertical-align: middle;\n",
       "    }\n",
       "\n",
       "    .dataframe tbody tr th {\n",
       "        vertical-align: top;\n",
       "    }\n",
       "\n",
       "    .dataframe thead th {\n",
       "        text-align: right;\n",
       "    }\n",
       "</style>\n",
       "<table border=\"1\" class=\"dataframe\">\n",
       "  <thead>\n",
       "    <tr style=\"text-align: right;\">\n",
       "      <th></th>\n",
       "      <th>source_article</th>\n",
       "      <th>updated_label</th>\n",
       "    </tr>\n",
       "    <tr>\n",
       "      <th>coarse_label</th>\n",
       "      <th></th>\n",
       "      <th></th>\n",
       "    </tr>\n",
       "  </thead>\n",
       "  <tbody>\n",
       "    <tr>\n",
       "      <th>fallacy of ambiguity</th>\n",
       "      <td>5</td>\n",
       "      <td>5</td>\n",
       "    </tr>\n",
       "    <tr>\n",
       "      <th>fallacy of defective induction</th>\n",
       "      <td>122</td>\n",
       "      <td>122</td>\n",
       "    </tr>\n",
       "    <tr>\n",
       "      <th>fallacy of presumption</th>\n",
       "      <td>19</td>\n",
       "      <td>19</td>\n",
       "    </tr>\n",
       "    <tr>\n",
       "      <th>fallacy of relevance</th>\n",
       "      <td>154</td>\n",
       "      <td>154</td>\n",
       "    </tr>\n",
       "  </tbody>\n",
       "</table>\n",
       "</div>"
      ],
      "text/plain": [
       "                                source_article  updated_label\n",
       "coarse_label                                                 \n",
       "fallacy of ambiguity                         5              5\n",
       "fallacy of defective induction             122            122\n",
       "fallacy of presumption                      19             19\n",
       "fallacy of relevance                       154            154"
      ]
     },
     "execution_count": 32,
     "metadata": {},
     "output_type": "execute_result"
    }
   ],
   "source": [
    "dataframe.groupby([\"coarse_label\"]).count()"
   ]
  },
  {
   "cell_type": "code",
   "execution_count": 34,
   "metadata": {},
   "outputs": [
    {
     "data": {
      "application/vnd.plotly.v1+json": {
       "config": {
        "plotlyServerURL": "https://plot.ly"
       },
       "data": [
        {
         "alignmentgroup": "True",
         "bingroup": "x",
         "hovertemplate": "coarse_label=%{x}<br>count=%{y}<extra></extra>",
         "legendgroup": "",
         "marker": {
          "color": "#636efa",
          "pattern": {
           "shape": ""
          }
         },
         "name": "",
         "offsetgroup": "",
         "orientation": "v",
         "showlegend": false,
         "texttemplate": "%{value}",
         "type": "histogram",
         "x": [
          "fallacy of relevance",
          "fallacy of defective induction",
          "fallacy of defective induction",
          "fallacy of defective induction",
          "fallacy of defective induction",
          "fallacy of relevance",
          "fallacy of relevance",
          "fallacy of defective induction",
          "fallacy of defective induction",
          "fallacy of presumption",
          "fallacy of defective induction",
          "fallacy of defective induction",
          "fallacy of relevance",
          "fallacy of relevance",
          "fallacy of defective induction",
          "fallacy of relevance",
          "fallacy of relevance",
          "fallacy of defective induction",
          "fallacy of relevance",
          "fallacy of relevance",
          "fallacy of presumption",
          "fallacy of relevance",
          "fallacy of relevance",
          "fallacy of presumption",
          "fallacy of relevance",
          "fallacy of relevance",
          "fallacy of relevance",
          "fallacy of relevance",
          "fallacy of defective induction",
          "fallacy of relevance",
          "fallacy of defective induction",
          "fallacy of presumption",
          "fallacy of presumption",
          "fallacy of defective induction",
          "fallacy of relevance",
          "fallacy of relevance",
          "fallacy of defective induction",
          "fallacy of relevance",
          "fallacy of defective induction",
          "fallacy of relevance",
          "fallacy of defective induction",
          "fallacy of relevance",
          "fallacy of relevance",
          "fallacy of relevance",
          "fallacy of relevance",
          "fallacy of relevance",
          "fallacy of relevance",
          "fallacy of relevance",
          "fallacy of defective induction",
          "fallacy of defective induction",
          "fallacy of presumption",
          "fallacy of defective induction",
          "fallacy of relevance",
          "fallacy of ambiguity",
          "fallacy of relevance",
          "fallacy of presumption",
          "fallacy of relevance",
          "fallacy of defective induction",
          "fallacy of defective induction",
          "fallacy of defective induction",
          "fallacy of defective induction",
          "fallacy of defective induction",
          "fallacy of relevance",
          "fallacy of defective induction",
          "fallacy of relevance",
          "fallacy of relevance",
          "fallacy of relevance",
          "fallacy of relevance",
          "fallacy of relevance",
          "fallacy of defective induction",
          "fallacy of defective induction",
          "fallacy of defective induction",
          "fallacy of relevance",
          "fallacy of relevance",
          "fallacy of relevance",
          "fallacy of relevance",
          "fallacy of relevance",
          "fallacy of defective induction",
          "fallacy of defective induction",
          "fallacy of relevance",
          "fallacy of defective induction",
          "fallacy of defective induction",
          "fallacy of relevance",
          "fallacy of relevance",
          "fallacy of relevance",
          "fallacy of defective induction",
          "fallacy of defective induction",
          "fallacy of relevance",
          "fallacy of relevance",
          "fallacy of relevance",
          "fallacy of defective induction",
          "fallacy of defective induction",
          "fallacy of defective induction",
          "fallacy of defective induction",
          "fallacy of relevance",
          "fallacy of defective induction",
          "fallacy of relevance",
          "fallacy of relevance",
          "fallacy of relevance",
          "fallacy of defective induction",
          "fallacy of relevance",
          "fallacy of relevance",
          "fallacy of relevance",
          "fallacy of defective induction",
          "fallacy of defective induction",
          "fallacy of defective induction",
          "fallacy of relevance",
          "fallacy of relevance",
          "fallacy of defective induction",
          "fallacy of presumption",
          "fallacy of relevance",
          "fallacy of defective induction",
          "fallacy of defective induction",
          "fallacy of defective induction",
          "fallacy of defective induction",
          "fallacy of defective induction",
          "fallacy of relevance",
          "fallacy of relevance",
          "fallacy of defective induction",
          "fallacy of relevance",
          "fallacy of defective induction",
          "fallacy of presumption",
          "fallacy of defective induction",
          "fallacy of defective induction",
          "fallacy of relevance",
          "fallacy of relevance",
          "fallacy of relevance",
          "fallacy of ambiguity",
          "fallacy of defective induction",
          "fallacy of defective induction",
          "fallacy of relevance",
          "fallacy of defective induction",
          "fallacy of relevance",
          "fallacy of defective induction",
          "fallacy of defective induction",
          "fallacy of defective induction",
          "fallacy of defective induction",
          "fallacy of relevance",
          "fallacy of defective induction",
          "fallacy of relevance",
          "fallacy of defective induction",
          "fallacy of relevance",
          "fallacy of relevance",
          "fallacy of defective induction",
          "fallacy of defective induction",
          "fallacy of relevance",
          "fallacy of defective induction",
          "fallacy of relevance",
          "fallacy of relevance",
          "fallacy of relevance",
          "fallacy of defective induction",
          "fallacy of relevance",
          "fallacy of defective induction",
          "fallacy of defective induction",
          "fallacy of relevance",
          "fallacy of relevance",
          "fallacy of defective induction",
          "fallacy of relevance",
          "fallacy of relevance",
          "fallacy of relevance",
          "fallacy of relevance",
          "fallacy of relevance",
          "fallacy of relevance",
          "fallacy of defective induction",
          "fallacy of defective induction",
          "fallacy of relevance",
          "fallacy of relevance",
          "fallacy of defective induction",
          "fallacy of relevance",
          "fallacy of defective induction",
          "fallacy of relevance",
          "fallacy of relevance",
          "fallacy of defective induction",
          "fallacy of defective induction",
          "fallacy of defective induction",
          "fallacy of relevance",
          "fallacy of defective induction",
          "fallacy of relevance",
          "fallacy of relevance",
          "fallacy of defective induction",
          "fallacy of relevance",
          "fallacy of relevance",
          "fallacy of presumption",
          "fallacy of relevance",
          "fallacy of defective induction",
          "fallacy of relevance",
          "fallacy of relevance",
          "fallacy of relevance",
          "fallacy of defective induction",
          "fallacy of defective induction",
          "fallacy of presumption",
          "fallacy of relevance",
          "fallacy of relevance",
          "fallacy of relevance",
          "fallacy of ambiguity",
          "fallacy of relevance",
          "fallacy of defective induction",
          "fallacy of defective induction",
          "fallacy of defective induction",
          "fallacy of defective induction",
          "fallacy of relevance",
          "fallacy of defective induction",
          "fallacy of relevance",
          "fallacy of relevance",
          "fallacy of relevance",
          "fallacy of relevance",
          "fallacy of defective induction",
          "fallacy of relevance",
          "fallacy of relevance",
          "fallacy of defective induction",
          "fallacy of relevance",
          "fallacy of defective induction",
          "fallacy of relevance",
          "fallacy of relevance",
          "fallacy of defective induction",
          "fallacy of relevance",
          "fallacy of relevance",
          "fallacy of relevance",
          "fallacy of relevance",
          "fallacy of defective induction",
          "fallacy of defective induction",
          "fallacy of defective induction",
          "fallacy of relevance",
          "fallacy of defective induction",
          "fallacy of relevance",
          "fallacy of relevance",
          "fallacy of ambiguity",
          "fallacy of relevance",
          "fallacy of defective induction",
          "fallacy of relevance",
          "fallacy of relevance",
          "fallacy of relevance",
          "fallacy of defective induction",
          "fallacy of defective induction",
          "fallacy of presumption",
          "fallacy of relevance",
          "fallacy of relevance",
          "fallacy of relevance",
          "fallacy of presumption",
          "fallacy of relevance",
          "fallacy of relevance",
          "fallacy of defective induction",
          "fallacy of relevance",
          "fallacy of relevance",
          "fallacy of defective induction",
          "fallacy of presumption",
          "fallacy of defective induction",
          "fallacy of relevance",
          "fallacy of defective induction",
          "fallacy of relevance",
          "fallacy of presumption",
          "fallacy of relevance",
          "fallacy of relevance",
          "fallacy of defective induction",
          "fallacy of relevance",
          "fallacy of defective induction",
          "fallacy of defective induction",
          "fallacy of defective induction",
          "fallacy of relevance",
          "fallacy of defective induction",
          "fallacy of defective induction",
          "fallacy of relevance",
          "fallacy of presumption",
          "fallacy of relevance",
          "fallacy of relevance",
          "fallacy of presumption",
          "fallacy of defective induction",
          "fallacy of defective induction",
          "fallacy of relevance",
          "fallacy of relevance",
          "fallacy of defective induction",
          "fallacy of ambiguity",
          "fallacy of defective induction",
          "fallacy of defective induction",
          "fallacy of relevance",
          "fallacy of relevance",
          "fallacy of defective induction",
          "fallacy of defective induction",
          "fallacy of relevance",
          "fallacy of defective induction",
          "fallacy of relevance",
          "fallacy of defective induction",
          "fallacy of defective induction",
          "fallacy of defective induction",
          "fallacy of relevance",
          "fallacy of relevance",
          "fallacy of relevance",
          "fallacy of defective induction",
          "fallacy of defective induction",
          "fallacy of relevance",
          "fallacy of relevance",
          "fallacy of defective induction",
          "fallacy of relevance",
          "fallacy of relevance",
          "fallacy of presumption",
          "fallacy of relevance",
          "fallacy of relevance",
          "fallacy of relevance",
          "fallacy of defective induction",
          "fallacy of presumption"
         ],
         "xaxis": "x",
         "yaxis": "y"
        }
       ],
       "layout": {
        "barmode": "relative",
        "legend": {
         "tracegroupgap": 0
        },
        "margin": {
         "t": 60
        },
        "template": {
         "data": {
          "bar": [
           {
            "error_x": {
             "color": "#2a3f5f"
            },
            "error_y": {
             "color": "#2a3f5f"
            },
            "marker": {
             "line": {
              "color": "#E5ECF6",
              "width": 0.5
             },
             "pattern": {
              "fillmode": "overlay",
              "size": 10,
              "solidity": 0.2
             }
            },
            "type": "bar"
           }
          ],
          "barpolar": [
           {
            "marker": {
             "line": {
              "color": "#E5ECF6",
              "width": 0.5
             },
             "pattern": {
              "fillmode": "overlay",
              "size": 10,
              "solidity": 0.2
             }
            },
            "type": "barpolar"
           }
          ],
          "carpet": [
           {
            "aaxis": {
             "endlinecolor": "#2a3f5f",
             "gridcolor": "white",
             "linecolor": "white",
             "minorgridcolor": "white",
             "startlinecolor": "#2a3f5f"
            },
            "baxis": {
             "endlinecolor": "#2a3f5f",
             "gridcolor": "white",
             "linecolor": "white",
             "minorgridcolor": "white",
             "startlinecolor": "#2a3f5f"
            },
            "type": "carpet"
           }
          ],
          "choropleth": [
           {
            "colorbar": {
             "outlinewidth": 0,
             "ticks": ""
            },
            "type": "choropleth"
           }
          ],
          "contour": [
           {
            "colorbar": {
             "outlinewidth": 0,
             "ticks": ""
            },
            "colorscale": [
             [
              0,
              "#0d0887"
             ],
             [
              0.1111111111111111,
              "#46039f"
             ],
             [
              0.2222222222222222,
              "#7201a8"
             ],
             [
              0.3333333333333333,
              "#9c179e"
             ],
             [
              0.4444444444444444,
              "#bd3786"
             ],
             [
              0.5555555555555556,
              "#d8576b"
             ],
             [
              0.6666666666666666,
              "#ed7953"
             ],
             [
              0.7777777777777778,
              "#fb9f3a"
             ],
             [
              0.8888888888888888,
              "#fdca26"
             ],
             [
              1,
              "#f0f921"
             ]
            ],
            "type": "contour"
           }
          ],
          "contourcarpet": [
           {
            "colorbar": {
             "outlinewidth": 0,
             "ticks": ""
            },
            "type": "contourcarpet"
           }
          ],
          "heatmap": [
           {
            "colorbar": {
             "outlinewidth": 0,
             "ticks": ""
            },
            "colorscale": [
             [
              0,
              "#0d0887"
             ],
             [
              0.1111111111111111,
              "#46039f"
             ],
             [
              0.2222222222222222,
              "#7201a8"
             ],
             [
              0.3333333333333333,
              "#9c179e"
             ],
             [
              0.4444444444444444,
              "#bd3786"
             ],
             [
              0.5555555555555556,
              "#d8576b"
             ],
             [
              0.6666666666666666,
              "#ed7953"
             ],
             [
              0.7777777777777778,
              "#fb9f3a"
             ],
             [
              0.8888888888888888,
              "#fdca26"
             ],
             [
              1,
              "#f0f921"
             ]
            ],
            "type": "heatmap"
           }
          ],
          "heatmapgl": [
           {
            "colorbar": {
             "outlinewidth": 0,
             "ticks": ""
            },
            "colorscale": [
             [
              0,
              "#0d0887"
             ],
             [
              0.1111111111111111,
              "#46039f"
             ],
             [
              0.2222222222222222,
              "#7201a8"
             ],
             [
              0.3333333333333333,
              "#9c179e"
             ],
             [
              0.4444444444444444,
              "#bd3786"
             ],
             [
              0.5555555555555556,
              "#d8576b"
             ],
             [
              0.6666666666666666,
              "#ed7953"
             ],
             [
              0.7777777777777778,
              "#fb9f3a"
             ],
             [
              0.8888888888888888,
              "#fdca26"
             ],
             [
              1,
              "#f0f921"
             ]
            ],
            "type": "heatmapgl"
           }
          ],
          "histogram": [
           {
            "marker": {
             "pattern": {
              "fillmode": "overlay",
              "size": 10,
              "solidity": 0.2
             }
            },
            "type": "histogram"
           }
          ],
          "histogram2d": [
           {
            "colorbar": {
             "outlinewidth": 0,
             "ticks": ""
            },
            "colorscale": [
             [
              0,
              "#0d0887"
             ],
             [
              0.1111111111111111,
              "#46039f"
             ],
             [
              0.2222222222222222,
              "#7201a8"
             ],
             [
              0.3333333333333333,
              "#9c179e"
             ],
             [
              0.4444444444444444,
              "#bd3786"
             ],
             [
              0.5555555555555556,
              "#d8576b"
             ],
             [
              0.6666666666666666,
              "#ed7953"
             ],
             [
              0.7777777777777778,
              "#fb9f3a"
             ],
             [
              0.8888888888888888,
              "#fdca26"
             ],
             [
              1,
              "#f0f921"
             ]
            ],
            "type": "histogram2d"
           }
          ],
          "histogram2dcontour": [
           {
            "colorbar": {
             "outlinewidth": 0,
             "ticks": ""
            },
            "colorscale": [
             [
              0,
              "#0d0887"
             ],
             [
              0.1111111111111111,
              "#46039f"
             ],
             [
              0.2222222222222222,
              "#7201a8"
             ],
             [
              0.3333333333333333,
              "#9c179e"
             ],
             [
              0.4444444444444444,
              "#bd3786"
             ],
             [
              0.5555555555555556,
              "#d8576b"
             ],
             [
              0.6666666666666666,
              "#ed7953"
             ],
             [
              0.7777777777777778,
              "#fb9f3a"
             ],
             [
              0.8888888888888888,
              "#fdca26"
             ],
             [
              1,
              "#f0f921"
             ]
            ],
            "type": "histogram2dcontour"
           }
          ],
          "mesh3d": [
           {
            "colorbar": {
             "outlinewidth": 0,
             "ticks": ""
            },
            "type": "mesh3d"
           }
          ],
          "parcoords": [
           {
            "line": {
             "colorbar": {
              "outlinewidth": 0,
              "ticks": ""
             }
            },
            "type": "parcoords"
           }
          ],
          "pie": [
           {
            "automargin": true,
            "type": "pie"
           }
          ],
          "scatter": [
           {
            "fillpattern": {
             "fillmode": "overlay",
             "size": 10,
             "solidity": 0.2
            },
            "type": "scatter"
           }
          ],
          "scatter3d": [
           {
            "line": {
             "colorbar": {
              "outlinewidth": 0,
              "ticks": ""
             }
            },
            "marker": {
             "colorbar": {
              "outlinewidth": 0,
              "ticks": ""
             }
            },
            "type": "scatter3d"
           }
          ],
          "scattercarpet": [
           {
            "marker": {
             "colorbar": {
              "outlinewidth": 0,
              "ticks": ""
             }
            },
            "type": "scattercarpet"
           }
          ],
          "scattergeo": [
           {
            "marker": {
             "colorbar": {
              "outlinewidth": 0,
              "ticks": ""
             }
            },
            "type": "scattergeo"
           }
          ],
          "scattergl": [
           {
            "marker": {
             "colorbar": {
              "outlinewidth": 0,
              "ticks": ""
             }
            },
            "type": "scattergl"
           }
          ],
          "scattermapbox": [
           {
            "marker": {
             "colorbar": {
              "outlinewidth": 0,
              "ticks": ""
             }
            },
            "type": "scattermapbox"
           }
          ],
          "scatterpolar": [
           {
            "marker": {
             "colorbar": {
              "outlinewidth": 0,
              "ticks": ""
             }
            },
            "type": "scatterpolar"
           }
          ],
          "scatterpolargl": [
           {
            "marker": {
             "colorbar": {
              "outlinewidth": 0,
              "ticks": ""
             }
            },
            "type": "scatterpolargl"
           }
          ],
          "scatterternary": [
           {
            "marker": {
             "colorbar": {
              "outlinewidth": 0,
              "ticks": ""
             }
            },
            "type": "scatterternary"
           }
          ],
          "surface": [
           {
            "colorbar": {
             "outlinewidth": 0,
             "ticks": ""
            },
            "colorscale": [
             [
              0,
              "#0d0887"
             ],
             [
              0.1111111111111111,
              "#46039f"
             ],
             [
              0.2222222222222222,
              "#7201a8"
             ],
             [
              0.3333333333333333,
              "#9c179e"
             ],
             [
              0.4444444444444444,
              "#bd3786"
             ],
             [
              0.5555555555555556,
              "#d8576b"
             ],
             [
              0.6666666666666666,
              "#ed7953"
             ],
             [
              0.7777777777777778,
              "#fb9f3a"
             ],
             [
              0.8888888888888888,
              "#fdca26"
             ],
             [
              1,
              "#f0f921"
             ]
            ],
            "type": "surface"
           }
          ],
          "table": [
           {
            "cells": {
             "fill": {
              "color": "#EBF0F8"
             },
             "line": {
              "color": "white"
             }
            },
            "header": {
             "fill": {
              "color": "#C8D4E3"
             },
             "line": {
              "color": "white"
             }
            },
            "type": "table"
           }
          ]
         },
         "layout": {
          "annotationdefaults": {
           "arrowcolor": "#2a3f5f",
           "arrowhead": 0,
           "arrowwidth": 1
          },
          "autotypenumbers": "strict",
          "coloraxis": {
           "colorbar": {
            "outlinewidth": 0,
            "ticks": ""
           }
          },
          "colorscale": {
           "diverging": [
            [
             0,
             "#8e0152"
            ],
            [
             0.1,
             "#c51b7d"
            ],
            [
             0.2,
             "#de77ae"
            ],
            [
             0.3,
             "#f1b6da"
            ],
            [
             0.4,
             "#fde0ef"
            ],
            [
             0.5,
             "#f7f7f7"
            ],
            [
             0.6,
             "#e6f5d0"
            ],
            [
             0.7,
             "#b8e186"
            ],
            [
             0.8,
             "#7fbc41"
            ],
            [
             0.9,
             "#4d9221"
            ],
            [
             1,
             "#276419"
            ]
           ],
           "sequential": [
            [
             0,
             "#0d0887"
            ],
            [
             0.1111111111111111,
             "#46039f"
            ],
            [
             0.2222222222222222,
             "#7201a8"
            ],
            [
             0.3333333333333333,
             "#9c179e"
            ],
            [
             0.4444444444444444,
             "#bd3786"
            ],
            [
             0.5555555555555556,
             "#d8576b"
            ],
            [
             0.6666666666666666,
             "#ed7953"
            ],
            [
             0.7777777777777778,
             "#fb9f3a"
            ],
            [
             0.8888888888888888,
             "#fdca26"
            ],
            [
             1,
             "#f0f921"
            ]
           ],
           "sequentialminus": [
            [
             0,
             "#0d0887"
            ],
            [
             0.1111111111111111,
             "#46039f"
            ],
            [
             0.2222222222222222,
             "#7201a8"
            ],
            [
             0.3333333333333333,
             "#9c179e"
            ],
            [
             0.4444444444444444,
             "#bd3786"
            ],
            [
             0.5555555555555556,
             "#d8576b"
            ],
            [
             0.6666666666666666,
             "#ed7953"
            ],
            [
             0.7777777777777778,
             "#fb9f3a"
            ],
            [
             0.8888888888888888,
             "#fdca26"
            ],
            [
             1,
             "#f0f921"
            ]
           ]
          },
          "colorway": [
           "#636efa",
           "#EF553B",
           "#00cc96",
           "#ab63fa",
           "#FFA15A",
           "#19d3f3",
           "#FF6692",
           "#B6E880",
           "#FF97FF",
           "#FECB52"
          ],
          "font": {
           "color": "#2a3f5f"
          },
          "geo": {
           "bgcolor": "white",
           "lakecolor": "white",
           "landcolor": "#E5ECF6",
           "showlakes": true,
           "showland": true,
           "subunitcolor": "white"
          },
          "hoverlabel": {
           "align": "left"
          },
          "hovermode": "closest",
          "mapbox": {
           "style": "light"
          },
          "paper_bgcolor": "white",
          "plot_bgcolor": "#E5ECF6",
          "polar": {
           "angularaxis": {
            "gridcolor": "white",
            "linecolor": "white",
            "ticks": ""
           },
           "bgcolor": "#E5ECF6",
           "radialaxis": {
            "gridcolor": "white",
            "linecolor": "white",
            "ticks": ""
           }
          },
          "scene": {
           "xaxis": {
            "backgroundcolor": "#E5ECF6",
            "gridcolor": "white",
            "gridwidth": 2,
            "linecolor": "white",
            "showbackground": true,
            "ticks": "",
            "zerolinecolor": "white"
           },
           "yaxis": {
            "backgroundcolor": "#E5ECF6",
            "gridcolor": "white",
            "gridwidth": 2,
            "linecolor": "white",
            "showbackground": true,
            "ticks": "",
            "zerolinecolor": "white"
           },
           "zaxis": {
            "backgroundcolor": "#E5ECF6",
            "gridcolor": "white",
            "gridwidth": 2,
            "linecolor": "white",
            "showbackground": true,
            "ticks": "",
            "zerolinecolor": "white"
           }
          },
          "shapedefaults": {
           "line": {
            "color": "#2a3f5f"
           }
          },
          "ternary": {
           "aaxis": {
            "gridcolor": "white",
            "linecolor": "white",
            "ticks": ""
           },
           "baxis": {
            "gridcolor": "white",
            "linecolor": "white",
            "ticks": ""
           },
           "bgcolor": "#E5ECF6",
           "caxis": {
            "gridcolor": "white",
            "linecolor": "white",
            "ticks": ""
           }
          },
          "title": {
           "x": 0.05
          },
          "xaxis": {
           "automargin": true,
           "gridcolor": "white",
           "linecolor": "white",
           "ticks": "",
           "title": {
            "standoff": 15
           },
           "zerolinecolor": "white",
           "zerolinewidth": 2
          },
          "yaxis": {
           "automargin": true,
           "gridcolor": "white",
           "linecolor": "white",
           "ticks": "",
           "title": {
            "standoff": 15
           },
           "zerolinecolor": "white",
           "zerolinewidth": 2
          }
         }
        },
        "xaxis": {
         "anchor": "y",
         "domain": [
          0,
          1
         ],
         "title": {
          "text": "coarse_label"
         }
        },
        "yaxis": {
         "anchor": "x",
         "domain": [
          0,
          1
         ],
         "title": {
          "text": "count"
         }
        }
       }
      },
      "text/html": [
       "<div>                            <div id=\"9f3c9c24-c8d8-4767-81da-33c84bc75ba9\" class=\"plotly-graph-div\" style=\"height:525px; width:100%;\"></div>            <script type=\"text/javascript\">                require([\"plotly\"], function(Plotly) {                    window.PLOTLYENV=window.PLOTLYENV || {};                                    if (document.getElementById(\"9f3c9c24-c8d8-4767-81da-33c84bc75ba9\")) {                    Plotly.newPlot(                        \"9f3c9c24-c8d8-4767-81da-33c84bc75ba9\",                        [{\"alignmentgroup\":\"True\",\"bingroup\":\"x\",\"hovertemplate\":\"coarse_label=%{x}\\u003cbr\\u003ecount=%{y}\\u003cextra\\u003e\\u003c\\u002fextra\\u003e\",\"legendgroup\":\"\",\"marker\":{\"color\":\"#636efa\",\"pattern\":{\"shape\":\"\"}},\"name\":\"\",\"offsetgroup\":\"\",\"orientation\":\"v\",\"showlegend\":false,\"texttemplate\":\"%{value}\",\"x\":[\"fallacy of relevance\",\"fallacy of defective induction\",\"fallacy of defective induction\",\"fallacy of defective induction\",\"fallacy of defective induction\",\"fallacy of relevance\",\"fallacy of relevance\",\"fallacy of defective induction\",\"fallacy of defective induction\",\"fallacy of presumption\",\"fallacy of defective induction\",\"fallacy of defective induction\",\"fallacy of relevance\",\"fallacy of relevance\",\"fallacy of defective induction\",\"fallacy of relevance\",\"fallacy of relevance\",\"fallacy of defective induction\",\"fallacy of relevance\",\"fallacy of relevance\",\"fallacy of presumption\",\"fallacy of relevance\",\"fallacy of relevance\",\"fallacy of presumption\",\"fallacy of relevance\",\"fallacy of relevance\",\"fallacy of relevance\",\"fallacy of relevance\",\"fallacy of defective induction\",\"fallacy of relevance\",\"fallacy of defective induction\",\"fallacy of presumption\",\"fallacy of presumption\",\"fallacy of defective induction\",\"fallacy of relevance\",\"fallacy of relevance\",\"fallacy of defective induction\",\"fallacy of relevance\",\"fallacy of defective induction\",\"fallacy of relevance\",\"fallacy of defective induction\",\"fallacy of relevance\",\"fallacy of relevance\",\"fallacy of relevance\",\"fallacy of relevance\",\"fallacy of relevance\",\"fallacy of relevance\",\"fallacy of relevance\",\"fallacy of defective induction\",\"fallacy of defective induction\",\"fallacy of presumption\",\"fallacy of defective induction\",\"fallacy of relevance\",\"fallacy of ambiguity\",\"fallacy of relevance\",\"fallacy of presumption\",\"fallacy of relevance\",\"fallacy of defective induction\",\"fallacy of defective induction\",\"fallacy of defective induction\",\"fallacy of defective induction\",\"fallacy of defective induction\",\"fallacy of relevance\",\"fallacy of defective induction\",\"fallacy of relevance\",\"fallacy of relevance\",\"fallacy of relevance\",\"fallacy of relevance\",\"fallacy of relevance\",\"fallacy of defective induction\",\"fallacy of defective induction\",\"fallacy of defective induction\",\"fallacy of relevance\",\"fallacy of relevance\",\"fallacy of relevance\",\"fallacy of relevance\",\"fallacy of relevance\",\"fallacy of defective induction\",\"fallacy of defective induction\",\"fallacy of relevance\",\"fallacy of defective induction\",\"fallacy of defective induction\",\"fallacy of relevance\",\"fallacy of relevance\",\"fallacy of relevance\",\"fallacy of defective induction\",\"fallacy of defective induction\",\"fallacy of relevance\",\"fallacy of relevance\",\"fallacy of relevance\",\"fallacy of defective induction\",\"fallacy of defective induction\",\"fallacy of defective induction\",\"fallacy of defective induction\",\"fallacy of relevance\",\"fallacy of defective induction\",\"fallacy of relevance\",\"fallacy of relevance\",\"fallacy of relevance\",\"fallacy of defective induction\",\"fallacy of relevance\",\"fallacy of relevance\",\"fallacy of relevance\",\"fallacy of defective induction\",\"fallacy of defective induction\",\"fallacy of defective induction\",\"fallacy of relevance\",\"fallacy of relevance\",\"fallacy of defective induction\",\"fallacy of presumption\",\"fallacy of relevance\",\"fallacy of defective induction\",\"fallacy of defective induction\",\"fallacy of defective induction\",\"fallacy of defective induction\",\"fallacy of defective induction\",\"fallacy of relevance\",\"fallacy of relevance\",\"fallacy of defective induction\",\"fallacy of relevance\",\"fallacy of defective induction\",\"fallacy of presumption\",\"fallacy of defective induction\",\"fallacy of defective induction\",\"fallacy of relevance\",\"fallacy of relevance\",\"fallacy of relevance\",\"fallacy of ambiguity\",\"fallacy of defective induction\",\"fallacy of defective induction\",\"fallacy of relevance\",\"fallacy of defective induction\",\"fallacy of relevance\",\"fallacy of defective induction\",\"fallacy of defective induction\",\"fallacy of defective induction\",\"fallacy of defective induction\",\"fallacy of relevance\",\"fallacy of defective induction\",\"fallacy of relevance\",\"fallacy of defective induction\",\"fallacy of relevance\",\"fallacy of relevance\",\"fallacy of defective induction\",\"fallacy of defective induction\",\"fallacy of relevance\",\"fallacy of defective induction\",\"fallacy of relevance\",\"fallacy of relevance\",\"fallacy of relevance\",\"fallacy of defective induction\",\"fallacy of relevance\",\"fallacy of defective induction\",\"fallacy of defective induction\",\"fallacy of relevance\",\"fallacy of relevance\",\"fallacy of defective induction\",\"fallacy of relevance\",\"fallacy of relevance\",\"fallacy of relevance\",\"fallacy of relevance\",\"fallacy of relevance\",\"fallacy of relevance\",\"fallacy of defective induction\",\"fallacy of defective induction\",\"fallacy of relevance\",\"fallacy of relevance\",\"fallacy of defective induction\",\"fallacy of relevance\",\"fallacy of defective induction\",\"fallacy of relevance\",\"fallacy of relevance\",\"fallacy of defective induction\",\"fallacy of defective induction\",\"fallacy of defective induction\",\"fallacy of relevance\",\"fallacy of defective induction\",\"fallacy of relevance\",\"fallacy of relevance\",\"fallacy of defective induction\",\"fallacy of relevance\",\"fallacy of relevance\",\"fallacy of presumption\",\"fallacy of relevance\",\"fallacy of defective induction\",\"fallacy of relevance\",\"fallacy of relevance\",\"fallacy of relevance\",\"fallacy of defective induction\",\"fallacy of defective induction\",\"fallacy of presumption\",\"fallacy of relevance\",\"fallacy of relevance\",\"fallacy of relevance\",\"fallacy of ambiguity\",\"fallacy of relevance\",\"fallacy of defective induction\",\"fallacy of defective induction\",\"fallacy of defective induction\",\"fallacy of defective induction\",\"fallacy of relevance\",\"fallacy of defective induction\",\"fallacy of relevance\",\"fallacy of relevance\",\"fallacy of relevance\",\"fallacy of relevance\",\"fallacy of defective induction\",\"fallacy of relevance\",\"fallacy of relevance\",\"fallacy of defective induction\",\"fallacy of relevance\",\"fallacy of defective induction\",\"fallacy of relevance\",\"fallacy of relevance\",\"fallacy of defective induction\",\"fallacy of relevance\",\"fallacy of relevance\",\"fallacy of relevance\",\"fallacy of relevance\",\"fallacy of defective induction\",\"fallacy of defective induction\",\"fallacy of defective induction\",\"fallacy of relevance\",\"fallacy of defective induction\",\"fallacy of relevance\",\"fallacy of relevance\",\"fallacy of ambiguity\",\"fallacy of relevance\",\"fallacy of defective induction\",\"fallacy of relevance\",\"fallacy of relevance\",\"fallacy of relevance\",\"fallacy of defective induction\",\"fallacy of defective induction\",\"fallacy of presumption\",\"fallacy of relevance\",\"fallacy of relevance\",\"fallacy of relevance\",\"fallacy of presumption\",\"fallacy of relevance\",\"fallacy of relevance\",\"fallacy of defective induction\",\"fallacy of relevance\",\"fallacy of relevance\",\"fallacy of defective induction\",\"fallacy of presumption\",\"fallacy of defective induction\",\"fallacy of relevance\",\"fallacy of defective induction\",\"fallacy of relevance\",\"fallacy of presumption\",\"fallacy of relevance\",\"fallacy of relevance\",\"fallacy of defective induction\",\"fallacy of relevance\",\"fallacy of defective induction\",\"fallacy of defective induction\",\"fallacy of defective induction\",\"fallacy of relevance\",\"fallacy of defective induction\",\"fallacy of defective induction\",\"fallacy of relevance\",\"fallacy of presumption\",\"fallacy of relevance\",\"fallacy of relevance\",\"fallacy of presumption\",\"fallacy of defective induction\",\"fallacy of defective induction\",\"fallacy of relevance\",\"fallacy of relevance\",\"fallacy of defective induction\",\"fallacy of ambiguity\",\"fallacy of defective induction\",\"fallacy of defective induction\",\"fallacy of relevance\",\"fallacy of relevance\",\"fallacy of defective induction\",\"fallacy of defective induction\",\"fallacy of relevance\",\"fallacy of defective induction\",\"fallacy of relevance\",\"fallacy of defective induction\",\"fallacy of defective induction\",\"fallacy of defective induction\",\"fallacy of relevance\",\"fallacy of relevance\",\"fallacy of relevance\",\"fallacy of defective induction\",\"fallacy of defective induction\",\"fallacy of relevance\",\"fallacy of relevance\",\"fallacy of defective induction\",\"fallacy of relevance\",\"fallacy of relevance\",\"fallacy of presumption\",\"fallacy of relevance\",\"fallacy of relevance\",\"fallacy of relevance\",\"fallacy of defective induction\",\"fallacy of presumption\"],\"xaxis\":\"x\",\"yaxis\":\"y\",\"type\":\"histogram\"}],                        {\"template\":{\"data\":{\"histogram2dcontour\":[{\"type\":\"histogram2dcontour\",\"colorbar\":{\"outlinewidth\":0,\"ticks\":\"\"},\"colorscale\":[[0.0,\"#0d0887\"],[0.1111111111111111,\"#46039f\"],[0.2222222222222222,\"#7201a8\"],[0.3333333333333333,\"#9c179e\"],[0.4444444444444444,\"#bd3786\"],[0.5555555555555556,\"#d8576b\"],[0.6666666666666666,\"#ed7953\"],[0.7777777777777778,\"#fb9f3a\"],[0.8888888888888888,\"#fdca26\"],[1.0,\"#f0f921\"]]}],\"choropleth\":[{\"type\":\"choropleth\",\"colorbar\":{\"outlinewidth\":0,\"ticks\":\"\"}}],\"histogram2d\":[{\"type\":\"histogram2d\",\"colorbar\":{\"outlinewidth\":0,\"ticks\":\"\"},\"colorscale\":[[0.0,\"#0d0887\"],[0.1111111111111111,\"#46039f\"],[0.2222222222222222,\"#7201a8\"],[0.3333333333333333,\"#9c179e\"],[0.4444444444444444,\"#bd3786\"],[0.5555555555555556,\"#d8576b\"],[0.6666666666666666,\"#ed7953\"],[0.7777777777777778,\"#fb9f3a\"],[0.8888888888888888,\"#fdca26\"],[1.0,\"#f0f921\"]]}],\"heatmap\":[{\"type\":\"heatmap\",\"colorbar\":{\"outlinewidth\":0,\"ticks\":\"\"},\"colorscale\":[[0.0,\"#0d0887\"],[0.1111111111111111,\"#46039f\"],[0.2222222222222222,\"#7201a8\"],[0.3333333333333333,\"#9c179e\"],[0.4444444444444444,\"#bd3786\"],[0.5555555555555556,\"#d8576b\"],[0.6666666666666666,\"#ed7953\"],[0.7777777777777778,\"#fb9f3a\"],[0.8888888888888888,\"#fdca26\"],[1.0,\"#f0f921\"]]}],\"heatmapgl\":[{\"type\":\"heatmapgl\",\"colorbar\":{\"outlinewidth\":0,\"ticks\":\"\"},\"colorscale\":[[0.0,\"#0d0887\"],[0.1111111111111111,\"#46039f\"],[0.2222222222222222,\"#7201a8\"],[0.3333333333333333,\"#9c179e\"],[0.4444444444444444,\"#bd3786\"],[0.5555555555555556,\"#d8576b\"],[0.6666666666666666,\"#ed7953\"],[0.7777777777777778,\"#fb9f3a\"],[0.8888888888888888,\"#fdca26\"],[1.0,\"#f0f921\"]]}],\"contourcarpet\":[{\"type\":\"contourcarpet\",\"colorbar\":{\"outlinewidth\":0,\"ticks\":\"\"}}],\"contour\":[{\"type\":\"contour\",\"colorbar\":{\"outlinewidth\":0,\"ticks\":\"\"},\"colorscale\":[[0.0,\"#0d0887\"],[0.1111111111111111,\"#46039f\"],[0.2222222222222222,\"#7201a8\"],[0.3333333333333333,\"#9c179e\"],[0.4444444444444444,\"#bd3786\"],[0.5555555555555556,\"#d8576b\"],[0.6666666666666666,\"#ed7953\"],[0.7777777777777778,\"#fb9f3a\"],[0.8888888888888888,\"#fdca26\"],[1.0,\"#f0f921\"]]}],\"surface\":[{\"type\":\"surface\",\"colorbar\":{\"outlinewidth\":0,\"ticks\":\"\"},\"colorscale\":[[0.0,\"#0d0887\"],[0.1111111111111111,\"#46039f\"],[0.2222222222222222,\"#7201a8\"],[0.3333333333333333,\"#9c179e\"],[0.4444444444444444,\"#bd3786\"],[0.5555555555555556,\"#d8576b\"],[0.6666666666666666,\"#ed7953\"],[0.7777777777777778,\"#fb9f3a\"],[0.8888888888888888,\"#fdca26\"],[1.0,\"#f0f921\"]]}],\"mesh3d\":[{\"type\":\"mesh3d\",\"colorbar\":{\"outlinewidth\":0,\"ticks\":\"\"}}],\"scatter\":[{\"fillpattern\":{\"fillmode\":\"overlay\",\"size\":10,\"solidity\":0.2},\"type\":\"scatter\"}],\"parcoords\":[{\"type\":\"parcoords\",\"line\":{\"colorbar\":{\"outlinewidth\":0,\"ticks\":\"\"}}}],\"scatterpolargl\":[{\"type\":\"scatterpolargl\",\"marker\":{\"colorbar\":{\"outlinewidth\":0,\"ticks\":\"\"}}}],\"bar\":[{\"error_x\":{\"color\":\"#2a3f5f\"},\"error_y\":{\"color\":\"#2a3f5f\"},\"marker\":{\"line\":{\"color\":\"#E5ECF6\",\"width\":0.5},\"pattern\":{\"fillmode\":\"overlay\",\"size\":10,\"solidity\":0.2}},\"type\":\"bar\"}],\"scattergeo\":[{\"type\":\"scattergeo\",\"marker\":{\"colorbar\":{\"outlinewidth\":0,\"ticks\":\"\"}}}],\"scatterpolar\":[{\"type\":\"scatterpolar\",\"marker\":{\"colorbar\":{\"outlinewidth\":0,\"ticks\":\"\"}}}],\"histogram\":[{\"marker\":{\"pattern\":{\"fillmode\":\"overlay\",\"size\":10,\"solidity\":0.2}},\"type\":\"histogram\"}],\"scattergl\":[{\"type\":\"scattergl\",\"marker\":{\"colorbar\":{\"outlinewidth\":0,\"ticks\":\"\"}}}],\"scatter3d\":[{\"type\":\"scatter3d\",\"line\":{\"colorbar\":{\"outlinewidth\":0,\"ticks\":\"\"}},\"marker\":{\"colorbar\":{\"outlinewidth\":0,\"ticks\":\"\"}}}],\"scattermapbox\":[{\"type\":\"scattermapbox\",\"marker\":{\"colorbar\":{\"outlinewidth\":0,\"ticks\":\"\"}}}],\"scatterternary\":[{\"type\":\"scatterternary\",\"marker\":{\"colorbar\":{\"outlinewidth\":0,\"ticks\":\"\"}}}],\"scattercarpet\":[{\"type\":\"scattercarpet\",\"marker\":{\"colorbar\":{\"outlinewidth\":0,\"ticks\":\"\"}}}],\"carpet\":[{\"aaxis\":{\"endlinecolor\":\"#2a3f5f\",\"gridcolor\":\"white\",\"linecolor\":\"white\",\"minorgridcolor\":\"white\",\"startlinecolor\":\"#2a3f5f\"},\"baxis\":{\"endlinecolor\":\"#2a3f5f\",\"gridcolor\":\"white\",\"linecolor\":\"white\",\"minorgridcolor\":\"white\",\"startlinecolor\":\"#2a3f5f\"},\"type\":\"carpet\"}],\"table\":[{\"cells\":{\"fill\":{\"color\":\"#EBF0F8\"},\"line\":{\"color\":\"white\"}},\"header\":{\"fill\":{\"color\":\"#C8D4E3\"},\"line\":{\"color\":\"white\"}},\"type\":\"table\"}],\"barpolar\":[{\"marker\":{\"line\":{\"color\":\"#E5ECF6\",\"width\":0.5},\"pattern\":{\"fillmode\":\"overlay\",\"size\":10,\"solidity\":0.2}},\"type\":\"barpolar\"}],\"pie\":[{\"automargin\":true,\"type\":\"pie\"}]},\"layout\":{\"autotypenumbers\":\"strict\",\"colorway\":[\"#636efa\",\"#EF553B\",\"#00cc96\",\"#ab63fa\",\"#FFA15A\",\"#19d3f3\",\"#FF6692\",\"#B6E880\",\"#FF97FF\",\"#FECB52\"],\"font\":{\"color\":\"#2a3f5f\"},\"hovermode\":\"closest\",\"hoverlabel\":{\"align\":\"left\"},\"paper_bgcolor\":\"white\",\"plot_bgcolor\":\"#E5ECF6\",\"polar\":{\"bgcolor\":\"#E5ECF6\",\"angularaxis\":{\"gridcolor\":\"white\",\"linecolor\":\"white\",\"ticks\":\"\"},\"radialaxis\":{\"gridcolor\":\"white\",\"linecolor\":\"white\",\"ticks\":\"\"}},\"ternary\":{\"bgcolor\":\"#E5ECF6\",\"aaxis\":{\"gridcolor\":\"white\",\"linecolor\":\"white\",\"ticks\":\"\"},\"baxis\":{\"gridcolor\":\"white\",\"linecolor\":\"white\",\"ticks\":\"\"},\"caxis\":{\"gridcolor\":\"white\",\"linecolor\":\"white\",\"ticks\":\"\"}},\"coloraxis\":{\"colorbar\":{\"outlinewidth\":0,\"ticks\":\"\"}},\"colorscale\":{\"sequential\":[[0.0,\"#0d0887\"],[0.1111111111111111,\"#46039f\"],[0.2222222222222222,\"#7201a8\"],[0.3333333333333333,\"#9c179e\"],[0.4444444444444444,\"#bd3786\"],[0.5555555555555556,\"#d8576b\"],[0.6666666666666666,\"#ed7953\"],[0.7777777777777778,\"#fb9f3a\"],[0.8888888888888888,\"#fdca26\"],[1.0,\"#f0f921\"]],\"sequentialminus\":[[0.0,\"#0d0887\"],[0.1111111111111111,\"#46039f\"],[0.2222222222222222,\"#7201a8\"],[0.3333333333333333,\"#9c179e\"],[0.4444444444444444,\"#bd3786\"],[0.5555555555555556,\"#d8576b\"],[0.6666666666666666,\"#ed7953\"],[0.7777777777777778,\"#fb9f3a\"],[0.8888888888888888,\"#fdca26\"],[1.0,\"#f0f921\"]],\"diverging\":[[0,\"#8e0152\"],[0.1,\"#c51b7d\"],[0.2,\"#de77ae\"],[0.3,\"#f1b6da\"],[0.4,\"#fde0ef\"],[0.5,\"#f7f7f7\"],[0.6,\"#e6f5d0\"],[0.7,\"#b8e186\"],[0.8,\"#7fbc41\"],[0.9,\"#4d9221\"],[1,\"#276419\"]]},\"xaxis\":{\"gridcolor\":\"white\",\"linecolor\":\"white\",\"ticks\":\"\",\"title\":{\"standoff\":15},\"zerolinecolor\":\"white\",\"automargin\":true,\"zerolinewidth\":2},\"yaxis\":{\"gridcolor\":\"white\",\"linecolor\":\"white\",\"ticks\":\"\",\"title\":{\"standoff\":15},\"zerolinecolor\":\"white\",\"automargin\":true,\"zerolinewidth\":2},\"scene\":{\"xaxis\":{\"backgroundcolor\":\"#E5ECF6\",\"gridcolor\":\"white\",\"linecolor\":\"white\",\"showbackground\":true,\"ticks\":\"\",\"zerolinecolor\":\"white\",\"gridwidth\":2},\"yaxis\":{\"backgroundcolor\":\"#E5ECF6\",\"gridcolor\":\"white\",\"linecolor\":\"white\",\"showbackground\":true,\"ticks\":\"\",\"zerolinecolor\":\"white\",\"gridwidth\":2},\"zaxis\":{\"backgroundcolor\":\"#E5ECF6\",\"gridcolor\":\"white\",\"linecolor\":\"white\",\"showbackground\":true,\"ticks\":\"\",\"zerolinecolor\":\"white\",\"gridwidth\":2}},\"shapedefaults\":{\"line\":{\"color\":\"#2a3f5f\"}},\"annotationdefaults\":{\"arrowcolor\":\"#2a3f5f\",\"arrowhead\":0,\"arrowwidth\":1},\"geo\":{\"bgcolor\":\"white\",\"landcolor\":\"#E5ECF6\",\"subunitcolor\":\"white\",\"showland\":true,\"showlakes\":true,\"lakecolor\":\"white\"},\"title\":{\"x\":0.05},\"mapbox\":{\"style\":\"light\"}}},\"xaxis\":{\"anchor\":\"y\",\"domain\":[0.0,1.0],\"title\":{\"text\":\"coarse_label\"}},\"yaxis\":{\"anchor\":\"x\",\"domain\":[0.0,1.0],\"title\":{\"text\":\"count\"}},\"legend\":{\"tracegroupgap\":0},\"margin\":{\"t\":60},\"barmode\":\"relative\"},                        {\"responsive\": true}                    ).then(function(){\n",
       "                            \n",
       "var gd = document.getElementById('9f3c9c24-c8d8-4767-81da-33c84bc75ba9');\n",
       "var x = new MutationObserver(function (mutations, observer) {{\n",
       "        var display = window.getComputedStyle(gd).display;\n",
       "        if (!display || display === 'none') {{\n",
       "            console.log([gd, 'removed!']);\n",
       "            Plotly.purge(gd);\n",
       "            observer.disconnect();\n",
       "        }}\n",
       "}});\n",
       "\n",
       "// Listen for the removal of the full notebook cells\n",
       "var notebookContainer = gd.closest('#notebook-container');\n",
       "if (notebookContainer) {{\n",
       "    x.observe(notebookContainer, {childList: true});\n",
       "}}\n",
       "\n",
       "// Listen for the clearing of the current output cell\n",
       "var outputEl = gd.closest('.output');\n",
       "if (outputEl) {{\n",
       "    x.observe(outputEl, {childList: true});\n",
       "}}\n",
       "\n",
       "                        })                };                });            </script>        </div>"
      ]
     },
     "metadata": {},
     "output_type": "display_data"
    }
   ],
   "source": [
    "# Save updated csv\n",
    "\n",
    "# dataframe.to_csv(\"../data/processed/edu_test_updated.csv\")\n",
    "px.histogram(dataframe, x=\"coarse_label\", text_auto=True)"
   ]
  },
  {
   "cell_type": "markdown",
   "metadata": {},
   "source": []
  }
 ],
 "metadata": {
  "kernelspec": {
   "display_name": ".myenv",
   "language": "python",
   "name": "python3"
  },
  "language_info": {
   "codemirror_mode": {
    "name": "ipython",
    "version": 3
   },
   "file_extension": ".py",
   "mimetype": "text/x-python",
   "name": "python",
   "nbconvert_exporter": "python",
   "pygments_lexer": "ipython3",
   "version": "3.11.9"
  }
 },
 "nbformat": 4,
 "nbformat_minor": 2
}
